{
 "cells": [
  {
   "cell_type": "markdown",
   "metadata": {},
   "source": [
    "# ResNet18 Image Tile Feature Extraction\n",
    "\n",
    "This notebook processes geospatial Image Tiles for each DHS cluster through ResNet18, extracts features from convolutional layers, and projects them using UMAP. The UMAP projections are then processed through a clustering algorithm to identify and quantify the clusters. The original DHS points are stored in a GeoJSON file along with the color-coded cluster assignments, which allows them to be plotted in QGIS to visualize the clusters in a geospatial context.\n",
    "\n",
    "## File System Structure\n",
    "\n",
    "## Input\n",
    "\n",
    "The input GeoTiff files for each data type (for each DHS location) are loacted in `Image_Tiles` within the hierarchy below. \n",
    "\n",
    "<pre style=\"font-family: monospace;\">\n",
    "./GIS-Image-Stack-Processing\n",
    "    /AOI/\n",
    "        PK/\n",
    "            */                # wild card for UTM zones\n",
    "                Image_Tiles/\n",
    "                    Nightlights/\n",
    "                       # Cropped image tiles at each DHS cluster location.\n",
    "                        PK_42N_001_C-002_Nightlights_2022_400m.tif\n",
    "                        PK_42N_002_C-003_Nightlights_2022_400m.tif\n",
    "                        :\n",
    "                        PK_42N_265_C-415_Nightlights_2022_400m.tif\n",
    "                \n",
    "                    Population/\n",
    "                        PK_42N_001_C-002_Population_2022_400m.tif\n",
    "                        :\n",
    "                \n",
    "                    Rainfall/\n",
    "                        PK_42N_001_C-002_Rainfall_2023_400m\n",
    "                        :\n",
    "</pre>\n",
    "\n",
    "## Output\n",
    "\n",
    "<pre style=\"font-family: monospace;\">\n",
    "./ResNet_Features_GeoJSON/ResNet18_Features_layer3_clusters_map_PK.geojson\n",
    "</pre>\n",
    "\n",
    "\n",
    "## Required Configurations\n",
    "\n",
    "The following configurations are required for each execution of this notebook: the two-letter country code and the layer number to extract features from ResNet18 (e.g., `layer3`, `layer4`).\n",
    "\n",
    "<pre style=\"font-family: monospace;\">\n",
    "<span style=\"color: blue;\">country_code  = 'PK'</span>      # Set the country code\n",
    "<span style=\"color: blue;\">feature_layer = 'layer3'</span>  # ResNet18 layer to extract features from\n",
    "</pre>"
   ]
  },
  {
   "cell_type": "code",
   "execution_count": 1,
   "metadata": {},
   "outputs": [],
   "source": [
    "import os\n",
    "import sys\n",
    "import re\n",
    "import rasterio\n",
    "import numpy as np\n",
    "import math\n",
    "import random\n",
    "import glob\n",
    "\n",
    "import torch\n",
    "import torch.nn as nn\n",
    "\n",
    "from torch.utils.data import Dataset, DataLoader\n",
    "from torchvision import transforms\n",
    "from torchvision.models import resnet18\n",
    "from torchvision.models.resnet import ResNet18_Weights\n",
    "from torchinfo import summary\n",
    "\n",
    "import pandas as pd\n",
    "import geopandas as gpd\n",
    "import umap\n",
    "\n",
    "from sklearn.cluster import KMeans, DBSCAN\n",
    "from sklearn.preprocessing import StandardScaler\n",
    "from sklearn.cluster import SpectralClustering\n",
    "from sklearn.mixture import GaussianMixture\n",
    "from sklearn.decomposition import PCA\n",
    "from hdbscan import HDBSCAN\n",
    "\n",
    "from dataclasses import dataclass\n",
    "\n",
    "import matplotlib.pyplot as plt\n",
    "features_list = [] "
   ]
  },
  {
   "cell_type": "code",
   "execution_count": 2,
   "metadata": {},
   "outputs": [],
   "source": [
    "sys.path.append('./GIS-Image-Stack-Processing')  # Adjust path if `gist_utils` is moved\n",
    "from gist_utils import aoi_configurations"
   ]
  },
  {
   "cell_type": "markdown",
   "metadata": {},
   "source": [
    "## System Configuration"
   ]
  },
  {
   "cell_type": "code",
   "execution_count": 3,
   "metadata": {},
   "outputs": [],
   "source": [
    "def system_config(SEED_VALUE=42, package_list=None):\n",
    "    \"\"\"\n",
    "    Configures the system environment for PyTorch-based operations.\n",
    "\n",
    "    Args:\n",
    "        SEED_VALUE (int): Seed value for random number generation. \n",
    "        package_list (str): String containing a list of additional packages to install  \n",
    "        for Google Colab or Kaggle. \n",
    "\n",
    "    Returns:\n",
    "        tuple: A tuple containing the device name as a string and a boolean indicating GPU availability.\n",
    "    \"\"\"\n",
    "\n",
    "    random.seed(SEED_VALUE)\n",
    "    np.random.seed(SEED_VALUE)\n",
    "    torch.manual_seed(SEED_VALUE)\n",
    "\n",
    "    def is_running_in_colab():\n",
    "        return 'COLAB_GPU' in os.environ\n",
    "        \n",
    "    def is_running_in_kaggle():\n",
    "        return 'KAGGLE_KERNEL_RUN_TYPE' in os.environ\n",
    "\n",
    "    #--------------------------------\n",
    "    # Check for availability of GPUs. \n",
    "    #--------------------------------\n",
    "    if torch.cuda.is_available():\n",
    "        print('Using CUDA GPU')\n",
    "\n",
    "        # This section for installing packages required by Colab.\n",
    "        if is_running_in_colab() or is_running_in_kaggle():\n",
    "            print('Installing required packages...')\n",
    "            !pip install {package_list}\n",
    "        \n",
    "        # Set the device to the first CUDA device.\n",
    "        DEVICE = torch.device('cuda')\n",
    "        print(\"Device: \", DEVICE)\n",
    "        GPU_AVAILABLE = True\n",
    "\n",
    "        torch.cuda.manual_seed(SEED_VALUE)\n",
    "        torch.cuda.manual_seed_all(SEED_VALUE)\n",
    "\n",
    "        # Performance and deterministic behavior.\n",
    "        torch.backends.cudnn.enabled = True       # Provides highly optimized primitives for DL operations.\n",
    "        torch.backends.cudnn.deterministic = True # Insures deterministic even when above cudnn is enabled.\n",
    "        torch.backends.cudnn.benchmark = False    # Setting to True can cause non-deterministic behavior.\n",
    "\n",
    "    elif torch.backends.mps.is_available() and torch.backends.mps.is_built():\n",
    "        print('Using Apple Silicon GPU')\n",
    "\n",
    "        # Set the device to the Apple Silicon GPU Metal Performance Shader (MPS).\n",
    "        DEVICE = torch.device(\"mps\")\n",
    "        print(\"Device: \", DEVICE)\n",
    "        # Environment variable that allows PyTorch to fall back to CPU execution \n",
    "        # when encountering operations that are not currently supported by MPS.\n",
    "        os.environ['PYTORCH_ENABLE_MPS_FALLBACK'] = '1'\n",
    "        GPU_AVAILABLE = True\n",
    "        \n",
    "        torch.mps.manual_seed(SEED_VALUE)\n",
    "        torch.use_deterministic_algorithms(True)\n",
    "        \n",
    "    else:\n",
    "        print('Using CPU')\n",
    "        DEVICE = torch.device('cpu')\n",
    "        print(\"Device: \", DEVICE)\n",
    "        GPU_AVAILABLE = False\n",
    "        \n",
    "        if is_running_in_colab() or is_running_in_kaggle():\n",
    "            print('Installing required packages...')\n",
    "            !pip install {package_list}\n",
    "            print('Note: Change runtime type to GPU for better performance.')\n",
    "        \n",
    "        torch.use_deterministic_algorithms(True)\n",
    "\n",
    "    return str(DEVICE), GPU_AVAILABLE"
   ]
  },
  {
   "cell_type": "code",
   "execution_count": 4,
   "metadata": {},
   "outputs": [
    {
     "name": "stdout",
     "output_type": "stream",
     "text": [
      "Using Apple Silicon GPU\n",
      "Device:  mps\n"
     ]
    }
   ],
   "source": [
    "# Additional packages required for Google Colab or Kaggle.\n",
    "package_list = \"torchmetrics torchinfo\"\n",
    "\n",
    "DEVICE, GPU_AVAILABLE = system_config(package_list=package_list)"
   ]
  },
  {
   "cell_type": "markdown",
   "metadata": {},
   "source": [
    "##  ResNet18 Model Definition\n",
    "The function below defines the ResNet18 model loaded with pretrained ImageNet weights. In feature extraction model, a hook function is defined that will extract features at the output of the specified layer."
   ]
  },
  {
   "cell_type": "code",
   "execution_count": 5,
   "metadata": {},
   "outputs": [],
   "source": [
    "def get_resnet_18(output_features=1, feature_extraction=False, feature_layer='layer3'):\n",
    "    \n",
    "    global features_list  \n",
    "\n",
    "    # Instantial the model with ImageNet weights\n",
    "    model_res_18 = resnet18(weights=ResNet18_Weights.IMAGENET1K_V1)\n",
    "\n",
    "    # Create a dictionary mapping layer names to model layers\n",
    "    layers = {\n",
    "        'layer1': model_res_18.layer1,\n",
    "        'layer2': model_res_18.layer2,\n",
    "        'layer3': model_res_18.layer3,\n",
    "        'layer4': model_res_18.layer4\n",
    "    }\n",
    "\n",
    "    if feature_extraction:\n",
    "        \n",
    "        # Disable gradient computations\n",
    "        for param in model_res_18.parameters():\n",
    "            param.requires_grad = False\n",
    "\n",
    "        # Hook function for feature extraction\n",
    "        def hook_conv(module, input, output):\n",
    "            \n",
    "            global features_list\n",
    "            if not module.training:\n",
    "                # Extract the features from the layer and detach from the graph\n",
    "                features_list.append(output.detach())\n",
    "\n",
    "        # Attach the hook to the specified layer using the dictionary\n",
    "        layers[feature_layer].register_forward_hook(hook_conv)\n",
    "\n",
    "        # Set the model's output to the Identity to avoid unecesary computation\n",
    "        model_res_18.fc = nn.Identity()\n",
    "\n",
    "    else:\n",
    "        model_fc_in_features = model_res_18.fc.in_features\n",
    "        model_res_18.fc = nn.Linear(in_features=model_fc_in_features, out_features=output_features)\n",
    "\n",
    "    return model_res_18\n"
   ]
  },
  {
   "cell_type": "markdown",
   "metadata": {},
   "source": [
    "## Dataset Preparation"
   ]
  },
  {
   "cell_type": "code",
   "execution_count": 6,
   "metadata": {},
   "outputs": [],
   "source": [
    "@dataclass(frozen=True)\n",
    "class DatasetConfig:\n",
    "    COUNTRY_CODE:  str  \n",
    "    FEATURE_LAYER: str\n",
    "    IMG_HEIGHT:    int = 224\n",
    "    IMG_WIDTH:     int = 224\n",
    "    BATCH_SIZE:    int = 32\n",
    "    NUM_WORKERS:   int = 0\n",
    "    DATA_ROOT:     str = './GIS-Image-Stack-Processing/AOI/{country_code}/*/Image_Tiles/'\n",
    "\n",
    "    def get_root_dir(self):\n",
    "        # Resolve wildcard directory path\n",
    "        pattern = self.DATA_ROOT.format(country_code=self.COUNTRY_CODE)\n",
    "        resolved_paths = glob.glob(pattern)\n",
    "        return resolved_paths\n",
    "    \n",
    "@dataclass(frozen=True)\n",
    "class ResultsConfig:\n",
    "    COUNTRY_CODE:  str\n",
    "    FEATURE_LAYER: str\n",
    "    GEO_JSON:      str = './ResNet18_Features_GeoJSON/ResNet18_Features_{feature_layer}_clusters_map_{country_code}.geojson'\n",
    "    OUT_DIR:       str = './ResNet18_Features_Plots'\n",
    "    \n",
    "    def get_geojson_filename(self):\n",
    "        return self.GEO_JSON.format(country_code=self.COUNTRY_CODE, feature_layer=self.FEATURE_LAYER)\n",
    "    "
   ]
  },
  {
   "cell_type": "code",
   "execution_count": 75,
   "metadata": {},
   "outputs": [
    {
     "data": {
      "text/plain": [
       "['./GIS-Image-Stack-Processing/AOI/JO/37N/Image_Tiles/',\n",
       " './GIS-Image-Stack-Processing/AOI/JO/36N/Image_Tiles/']"
      ]
     },
     "execution_count": 75,
     "metadata": {},
     "output_type": "execute_result"
    }
   ],
   "source": [
    "#-------------------------------------------------\n",
    "# REQUIRED CONFIGURATIONS HERE\n",
    "#-------------------------------------------------\n",
    "country_code  = 'JO'      # Set the country code\n",
    "feature_layer = 'layer4'  # ResNet18 layer to extract features from\n",
    "#-------------------------------------------------\n",
    "\n",
    "dataset_config = DatasetConfig(COUNTRY_CODE=country_code, FEATURE_LAYER=feature_layer)\n",
    "results_config = ResultsConfig(COUNTRY_CODE=country_code, FEATURE_LAYER=feature_layer)\n",
    "\n",
    "# Confirm root dir\n",
    "dataset_config.get_root_dir()"
   ]
  },
  {
   "cell_type": "markdown",
   "metadata": {},
   "source": [
    "## DHS Survey Locations\n",
    "\n",
    "Specify the DHS shape file path that contains the DHS survey locations. The cluster IDs and (lat,lon) for each survey location will be used"
   ]
  },
  {
   "cell_type": "code",
   "execution_count": 76,
   "metadata": {},
   "outputs": [],
   "source": [
    "# Set path names\n",
    "\n",
    "base_path = './GIS-Image-Stack-Processing'\n",
    "\n",
    "shapefile_path = os.path.join(base_path, aoi_configurations[country_code]['shapefile'])\n",
    "\n",
    "cluster_field  = 'DHSCLUST'\n",
    "lat_field      = 'LATNUM'\n",
    "lon_field      = 'LONGNUM'"
   ]
  },
  {
   "cell_type": "markdown",
   "metadata": {},
   "source": [
    "## Set Output Paths"
   ]
  },
  {
   "cell_type": "code",
   "execution_count": 77,
   "metadata": {
    "scrolled": true
   },
   "outputs": [],
   "source": [
    "geojson_file = results_config.get_geojson_filename()\n",
    "\n",
    "directory = os.path.dirname(geojson_file)\n",
    "if not os.path.exists(directory):\n",
    "    os.makedirs(directory)\n",
    "    print(f\"Directory created: {directory}\")\n",
    "    "
   ]
  },
  {
   "cell_type": "markdown",
   "metadata": {},
   "source": [
    "## Custom Dataset Class for Loading and Pre-Processing Geospatial Data"
   ]
  },
  {
   "cell_type": "code",
   "execution_count": 78,
   "metadata": {},
   "outputs": [],
   "source": [
    "class MultiChannelGeoTiffDataset(Dataset):\n",
    "    \n",
    "    def __init__(self, root_dirs, channels, data_types, transform=None):\n",
    "        \n",
    "        self.root_dirs = root_dirs  # This is now a list of directories\n",
    "        self.channels = channels\n",
    "        self.data_types = data_types\n",
    "        self.transform = transform\n",
    "        self.file_list, self.cluster_ids = self._build_file_list()\n",
    "\n",
    "    def _build_file_list(self):\n",
    "        \n",
    "        directory_files = {}\n",
    "        # Walk through each root directory to gather files\n",
    "        for root_dir in self.root_dirs:\n",
    "            for subdir, dirs, files in os.walk(root_dir):\n",
    "                for file in files:\n",
    "                    # Check if the file belongs to one of the required data types\n",
    "                    for dt in self.data_types:\n",
    "                        if dt in subdir:\n",
    "                            directory_files.setdefault(dt, []).append(os.path.join(subdir, file))\n",
    "\n",
    "        # Sort files to ensure alignment across types\n",
    "        for key in directory_files:\n",
    "            directory_files[key].sort()\n",
    "\n",
    "        file_list = []\n",
    "        cluster_ids = []\n",
    "        \n",
    "        # Assuming equal number of files per type, which must be verified\n",
    "        num_samples = len(directory_files[self.data_types[0]])\n",
    "        for idx in range(num_samples):\n",
    "            files_for_sample = []\n",
    "            current_cluster_id = None\n",
    "            for dt in self.data_types:\n",
    "                filepath = directory_files[dt][idx]\n",
    "                files_for_sample.append(filepath)\n",
    "\n",
    "                # Extract and verify cluster ID consistency\n",
    "                match = re.search(r\"C-(\\d+)\", filepath)\n",
    "                if match:\n",
    "                    cluster_id = int(match.group(1))\n",
    "                    if current_cluster_id is None:\n",
    "                        current_cluster_id = cluster_id\n",
    "                    elif current_cluster_id != cluster_id:\n",
    "                        raise ValueError(\"Mismatched cluster IDs in sample files.\")\n",
    "\n",
    "            file_list.append(tuple(files_for_sample))\n",
    "            cluster_ids.append(current_cluster_id)\n",
    "\n",
    "        return file_list, cluster_ids\n",
    "\n",
    "    def __len__(self):\n",
    "        return len(self.file_list)\n",
    "\n",
    "    def __getitem__(self, idx):\n",
    "        sample_files = self.file_list[idx]\n",
    "        cluster_id = self.cluster_ids[idx]\n",
    "\n",
    "        channels_data = []\n",
    "        for file_path in sample_files:\n",
    "            with rasterio.open(file_path) as src:\n",
    "                data = src.read(1, out_dtype=\"float32\")\n",
    "                \n",
    "                # Normalize each data type to [0, 1]\n",
    "                data = (data - data.min()) / (data.max() - data.min())\n",
    "                channels_data.append(data)\n",
    "        \n",
    "        image = np.stack(channels_data)\n",
    "        if self.transform:\n",
    "            image = self.transform(image)\n",
    "\n",
    "        return image, cluster_id\n",
    "    \n",
    "def geo_transforms(image):\n",
    "    \n",
    "    # Convert to tensor and normalize\n",
    "    image = torch.from_numpy(image)\n",
    "    \n",
    "    # Normalize the data samples based on the ImageNet mean and std deviation for each channel\n",
    "    normalize = transforms.Normalize(mean=[0.485, 0.456, 0.406], std=[0.229, 0.224, 0.225])\n",
    "    image = normalize(image)\n",
    "    \n",
    "    return image"
   ]
  },
  {
   "cell_type": "markdown",
   "metadata": {},
   "source": [
    "## Create `data_loader`"
   ]
  },
  {
   "cell_type": "code",
   "execution_count": 79,
   "metadata": {},
   "outputs": [
    {
     "name": "stdout",
     "output_type": "stream",
     "text": [
      "JO-layer4-RNP\n"
     ]
    }
   ],
   "source": [
    "# Need to experiment with differnet channel orders\n",
    "\n",
    "#data_types = ['Nightlights', 'Population', 'Rainfall']\n",
    "#data_types = ['Nightlights', 'Rainfall',    'Population']\n",
    "\n",
    "#data_types = ['Population',  'Nightlights', 'Rainfall']\n",
    "#data_types = ['Population',  'Rainfall',    'Nightlights']\n",
    "\n",
    "#data_types = ['Rainfall',    'Population',  'Nightlights']\n",
    "data_types = ['Rainfall',    'Nightlights', 'Population']\n",
    "\n",
    "transform = transforms.Compose([geo_transforms])\n",
    "train_dataset = MultiChannelGeoTiffDataset(root_dirs=dataset_config.get_root_dir(),\n",
    "                                           channels=[0, 1, 2],\n",
    "                                           data_types=data_types,\n",
    "                                           transform=transform)\n",
    "\n",
    "data_loader = DataLoader(train_dataset, batch_size=32, shuffle=True)\n",
    "\n",
    "umap_case = country_code + '-' + feature_layer + '-' + ''.join([data_type[0] for data_type in data_types])\n",
    "print(umap_case)"
   ]
  },
  {
   "cell_type": "markdown",
   "metadata": {},
   "source": [
    "## Model Instantiation"
   ]
  },
  {
   "cell_type": "code",
   "execution_count": 80,
   "metadata": {},
   "outputs": [
    {
     "name": "stdout",
     "output_type": "stream",
     "text": [
      "==========================================================================================\n",
      "Layer (type (var_name))                  Output Shape              Param #\n",
      "==========================================================================================\n",
      "ResNet (ResNet)                          [1, 512]                  --\n",
      "├─Conv2d (conv1)                         [1, 64, 112, 112]         (9,408)\n",
      "├─BatchNorm2d (bn1)                      [1, 64, 112, 112]         (128)\n",
      "├─ReLU (relu)                            [1, 64, 112, 112]         --\n",
      "├─MaxPool2d (maxpool)                    [1, 64, 56, 56]           --\n",
      "├─Sequential (layer1)                    [1, 64, 56, 56]           --\n",
      "│    └─BasicBlock (0)                    [1, 64, 56, 56]           --\n",
      "│    │    └─Conv2d (conv1)               [1, 64, 56, 56]           (36,864)\n",
      "│    │    └─BatchNorm2d (bn1)            [1, 64, 56, 56]           (128)\n",
      "│    │    └─ReLU (relu)                  [1, 64, 56, 56]           --\n",
      "│    │    └─Conv2d (conv2)               [1, 64, 56, 56]           (36,864)\n",
      "│    │    └─BatchNorm2d (bn2)            [1, 64, 56, 56]           (128)\n",
      "│    │    └─ReLU (relu)                  [1, 64, 56, 56]           --\n",
      "│    └─BasicBlock (1)                    [1, 64, 56, 56]           --\n",
      "│    │    └─Conv2d (conv1)               [1, 64, 56, 56]           (36,864)\n",
      "│    │    └─BatchNorm2d (bn1)            [1, 64, 56, 56]           (128)\n",
      "│    │    └─ReLU (relu)                  [1, 64, 56, 56]           --\n",
      "│    │    └─Conv2d (conv2)               [1, 64, 56, 56]           (36,864)\n",
      "│    │    └─BatchNorm2d (bn2)            [1, 64, 56, 56]           (128)\n",
      "│    │    └─ReLU (relu)                  [1, 64, 56, 56]           --\n",
      "├─Sequential (layer2)                    [1, 128, 28, 28]          --\n",
      "│    └─BasicBlock (0)                    [1, 128, 28, 28]          --\n",
      "│    │    └─Conv2d (conv1)               [1, 128, 28, 28]          (73,728)\n",
      "│    │    └─BatchNorm2d (bn1)            [1, 128, 28, 28]          (256)\n",
      "│    │    └─ReLU (relu)                  [1, 128, 28, 28]          --\n",
      "│    │    └─Conv2d (conv2)               [1, 128, 28, 28]          (147,456)\n",
      "│    │    └─BatchNorm2d (bn2)            [1, 128, 28, 28]          (256)\n",
      "│    │    └─Sequential (downsample)      [1, 128, 28, 28]          (8,448)\n",
      "│    │    └─ReLU (relu)                  [1, 128, 28, 28]          --\n",
      "│    └─BasicBlock (1)                    [1, 128, 28, 28]          --\n",
      "│    │    └─Conv2d (conv1)               [1, 128, 28, 28]          (147,456)\n",
      "│    │    └─BatchNorm2d (bn1)            [1, 128, 28, 28]          (256)\n",
      "│    │    └─ReLU (relu)                  [1, 128, 28, 28]          --\n",
      "│    │    └─Conv2d (conv2)               [1, 128, 28, 28]          (147,456)\n",
      "│    │    └─BatchNorm2d (bn2)            [1, 128, 28, 28]          (256)\n",
      "│    │    └─ReLU (relu)                  [1, 128, 28, 28]          --\n",
      "├─Sequential (layer3)                    [1, 256, 14, 14]          --\n",
      "│    └─BasicBlock (0)                    [1, 256, 14, 14]          --\n",
      "│    │    └─Conv2d (conv1)               [1, 256, 14, 14]          (294,912)\n",
      "│    │    └─BatchNorm2d (bn1)            [1, 256, 14, 14]          (512)\n",
      "│    │    └─ReLU (relu)                  [1, 256, 14, 14]          --\n",
      "│    │    └─Conv2d (conv2)               [1, 256, 14, 14]          (589,824)\n",
      "│    │    └─BatchNorm2d (bn2)            [1, 256, 14, 14]          (512)\n",
      "│    │    └─Sequential (downsample)      [1, 256, 14, 14]          (33,280)\n",
      "│    │    └─ReLU (relu)                  [1, 256, 14, 14]          --\n",
      "│    └─BasicBlock (1)                    [1, 256, 14, 14]          --\n",
      "│    │    └─Conv2d (conv1)               [1, 256, 14, 14]          (589,824)\n",
      "│    │    └─BatchNorm2d (bn1)            [1, 256, 14, 14]          (512)\n",
      "│    │    └─ReLU (relu)                  [1, 256, 14, 14]          --\n",
      "│    │    └─Conv2d (conv2)               [1, 256, 14, 14]          (589,824)\n",
      "│    │    └─BatchNorm2d (bn2)            [1, 256, 14, 14]          (512)\n",
      "│    │    └─ReLU (relu)                  [1, 256, 14, 14]          --\n",
      "├─Sequential (layer4)                    [1, 512, 7, 7]            --\n",
      "│    └─BasicBlock (0)                    [1, 512, 7, 7]            --\n",
      "│    │    └─Conv2d (conv1)               [1, 512, 7, 7]            (1,179,648)\n",
      "│    │    └─BatchNorm2d (bn1)            [1, 512, 7, 7]            (1,024)\n",
      "│    │    └─ReLU (relu)                  [1, 512, 7, 7]            --\n",
      "│    │    └─Conv2d (conv2)               [1, 512, 7, 7]            (2,359,296)\n",
      "│    │    └─BatchNorm2d (bn2)            [1, 512, 7, 7]            (1,024)\n",
      "│    │    └─Sequential (downsample)      [1, 512, 7, 7]            (132,096)\n",
      "│    │    └─ReLU (relu)                  [1, 512, 7, 7]            --\n",
      "│    └─BasicBlock (1)                    [1, 512, 7, 7]            --\n",
      "│    │    └─Conv2d (conv1)               [1, 512, 7, 7]            (2,359,296)\n",
      "│    │    └─BatchNorm2d (bn1)            [1, 512, 7, 7]            (1,024)\n",
      "│    │    └─ReLU (relu)                  [1, 512, 7, 7]            --\n",
      "│    │    └─Conv2d (conv2)               [1, 512, 7, 7]            (2,359,296)\n",
      "│    │    └─BatchNorm2d (bn2)            [1, 512, 7, 7]            (1,024)\n",
      "│    │    └─ReLU (relu)                  [1, 512, 7, 7]            --\n",
      "├─AdaptiveAvgPool2d (avgpool)            [1, 512, 1, 1]            --\n",
      "├─Identity (fc)                          [1, 512]                  --\n",
      "==========================================================================================\n",
      "Total params: 11,176,512\n",
      "Trainable params: 0\n",
      "Non-trainable params: 11,176,512\n",
      "Total mult-adds (G): 1.81\n",
      "==========================================================================================\n",
      "Input size (MB): 0.60\n",
      "Forward/backward pass size (MB): 39.74\n",
      "Params size (MB): 44.71\n",
      "Estimated Total Size (MB): 85.05\n",
      "==========================================================================================\n"
     ]
    }
   ],
   "source": [
    "model = get_resnet_18(feature_extraction=True, feature_layer=dataset_config.FEATURE_LAYER)\n",
    "\n",
    "print(summary(model,\n",
    "              input_size=(1, 3, dataset_config.IMG_HEIGHT, dataset_config.IMG_WIDTH),\n",
    "              row_settings=[\"var_names\"])) \n",
    "\n",
    "model = model.float().to(DEVICE)"
   ]
  },
  {
   "cell_type": "markdown",
   "metadata": {},
   "source": [
    "## Feature Extraction"
   ]
  },
  {
   "cell_type": "code",
   "execution_count": 81,
   "metadata": {},
   "outputs": [],
   "source": [
    "def extract_features(model, data_loader, device='cpu'):\n",
    "    \n",
    "    model.to(device)\n",
    "    model.eval()\n",
    "    global features_list\n",
    "    features_list = []\n",
    "    cluster_ids = []\n",
    "\n",
    "    with torch.no_grad():\n",
    "        for images, ids in data_loader:\n",
    "            images = images.to(device)\n",
    "            _ = model(images)\n",
    "            cluster_ids.extend(ids)  # Collect cluster IDs\n",
    "\n",
    "    all_features = torch.cat([torch.flatten(features, start_dim=1) for features in features_list], dim=0).numpy()\n",
    "\n",
    "    return all_features, cluster_ids"
   ]
  },
  {
   "cell_type": "code",
   "execution_count": 82,
   "metadata": {},
   "outputs": [],
   "source": [
    "def plot_umap(features, cluster_ids, annotate_points=False, font_size=8, use_distinct_colors=False, umap_case=None, out_dir=None):\n",
    "    \n",
    "    distinct_colors = ['red', 'blue', 'green', 'purple', 'orange', 'brown', 'pink', 'gray', 'olive', 'cyan']\n",
    "    \n",
    "\n",
    "    init = 'random'\n",
    "    init = 'spectral'\n",
    "    n_neighbors = 30\n",
    "    min_dist = 0.01\n",
    "    \n",
    "    umap_case = umap_case + '-' + init + '-' + str(n_neighbors) + '-' + str(min_dist)\n",
    "    if use_distinct_colors:\n",
    "        # Add \"clusters\" to case name\n",
    "        umap_case = umap_case + '-clusters'\n",
    "\n",
    "    # Create the UMAP reduce\n",
    "    #umap_reducer = umap.UMAP(n_neighbors=n_neighbors, min_dist=min_dist, n_components=2, random_state=42, init=init)\n",
    "    umap_reducer = umap.UMAP(n_neighbors=n_neighbors, min_dist=min_dist, n_components=2, random_state=42, init=init)\n",
    "    umap_features = umap_reducer.fit_transform(features)\n",
    "\n",
    "    plt.figure(figsize=(12, 10))\n",
    "    \n",
    "    # Choose color map or distinct colors based on the flag\n",
    "    if use_distinct_colors and len(set(cluster_ids)) <= len(distinct_colors):\n",
    "        color_sequence = [distinct_colors[i] for i in cluster_ids]\n",
    "        scatter = plt.scatter(umap_features[:, 0], umap_features[:, 1], c=color_sequence, s=50, alpha=0.4)\n",
    "    else:\n",
    "        scatter = plt.scatter(umap_features[:, 0], umap_features[:, 1], c=cluster_ids, s=50, cmap='Spectral', alpha=0.4)\n",
    "#         plt.colorbar(scatter, label='Cluster ID')\n",
    "    \n",
    "    plt.title(f'{umap_case}', fontsize=16)\n",
    "\n",
    "    if annotate_points:\n",
    "        for i, txt in enumerate(cluster_ids):\n",
    "            if isinstance(txt, torch.Tensor):\n",
    "                txt = txt.item()  # Converts a single-value tensor to a Python number\n",
    "            plt.annotate(str(txt), (umap_features[i, 0], umap_features[i, 1]),\n",
    "                         textcoords=\"offset points\", xytext=(0,10), ha='center', fontsize=font_size, color='gray')\n",
    "        \n",
    "    if out_dir and umap_case:\n",
    "        plot_file = os.path.join(out_dir, f\"{umap_case}.png\")\n",
    "        plt.savefig(plot_file, format='png')\n",
    "        print(plot_file)\n",
    "        \n",
    "    plt.show()"
   ]
  },
  {
   "cell_type": "code",
   "execution_count": 83,
   "metadata": {},
   "outputs": [],
   "source": [
    "umap_features, umap_cluster_ids = extract_features(model, data_loader, device='cpu')"
   ]
  },
  {
   "cell_type": "code",
   "execution_count": 84,
   "metadata": {
    "scrolled": false
   },
   "outputs": [
    {
     "name": "stderr",
     "output_type": "stream",
     "text": [
      "/Users/billk/miniforge3/envs/py39-pt/lib/python3.9/site-packages/umap/umap_.py:1943: UserWarning: n_jobs value -1 overridden to 1 by setting random_state. Use no seed for parallelism.\n",
      "  warn(f\"n_jobs value {self.n_jobs} overridden to 1 by setting random_state. Use no seed for parallelism.\")\n"
     ]
    },
    {
     "name": "stdout",
     "output_type": "stream",
     "text": [
      "./ResNet18_Features_Plots/JO-layer4-RNP-spectral-30-0.01.png\n"
     ]
    },
    {
     "data": {
      "image/png": "[encoded data removed]",
      "text/plain": [
       "<Figure size 1200x1000 with 1 Axes>"
      ]
     },
     "metadata": {},
     "output_type": "display_data"
    }
   ],
   "source": [
    "plot_umap(umap_features, umap_cluster_ids, umap_case=umap_case, out_dir=results_config.OUT_DIR)"
   ]
  },
  {
   "cell_type": "code",
   "execution_count": 85,
   "metadata": {},
   "outputs": [
    {
     "name": "stdout",
     "output_type": "stream",
     "text": [
      "all_features shape: (969, 25088)\n"
     ]
    }
   ],
   "source": [
    "print(f\"all_features shape: {umap_features.shape}\") "
   ]
  },
  {
   "cell_type": "code",
   "execution_count": 86,
   "metadata": {},
   "outputs": [],
   "source": [
    "# Convert tensor UMAP cluster IDs to strings matching the shapefile format\n",
    "umap_cluster_ids = [str(int(cid.item())) + '.0' for cid in umap_cluster_ids]"
   ]
  },
  {
   "cell_type": "markdown",
   "metadata": {},
   "source": [
    "## Apply Spectral Clustering"
   ]
  },
  {
   "cell_type": "code",
   "execution_count": 98,
   "metadata": {},
   "outputs": [
    {
     "name": "stderr",
     "output_type": "stream",
     "text": [
      "/Users/billk/miniforge3/envs/py39-pt/lib/python3.9/site-packages/sklearn/manifold/_spectral_embedding.py:301: UserWarning: Graph is not fully connected, spectral embedding may not work as expected.\n",
      "  warnings.warn(\n"
     ]
    }
   ],
   "source": [
    "# Specify the number of clusters\n",
    "n_clusters = 5\n",
    "\n",
    "# Initialize and fit Spectral Clustering\n",
    "spectral = SpectralClustering(n_clusters=n_clusters, affinity='nearest_neighbors',\n",
    "                              assign_labels='kmeans', random_state=42, n_init=50)\n",
    "\n",
    "cluster_labels = spectral.fit_predict(umap_features)"
   ]
  },
  {
   "cell_type": "code",
   "execution_count": 99,
   "metadata": {},
   "outputs": [
    {
     "name": "stderr",
     "output_type": "stream",
     "text": [
      "/Users/billk/miniforge3/envs/py39-pt/lib/python3.9/site-packages/umap/umap_.py:1943: UserWarning: n_jobs value -1 overridden to 1 by setting random_state. Use no seed for parallelism.\n",
      "  warn(f\"n_jobs value {self.n_jobs} overridden to 1 by setting random_state. Use no seed for parallelism.\")\n"
     ]
    },
    {
     "name": "stdout",
     "output_type": "stream",
     "text": [
      "./ResNet18_Features_Plots/JO-layer4-RNP-spectral-30-0.01-clusters.png\n"
     ]
    },
    {
     "data": {
      "image/png": "[encoded data removed]",
      "text/plain": [
       "<Figure size 1200x1000 with 1 Axes>"
      ]
     },
     "metadata": {},
     "output_type": "display_data"
    }
   ],
   "source": [
    "plot_umap(umap_features, cluster_labels, use_distinct_colors=True, umap_case=umap_case, out_dir=results_config.OUT_DIR)"
   ]
  },
  {
   "cell_type": "markdown",
   "metadata": {},
   "source": [
    "## Extract DHS Cluster Data from Shapefile\n",
    "\n",
    "Retrieve the DHS survey cluster data (ID, Lat, Lon)."
   ]
  },
  {
   "cell_type": "code",
   "execution_count": 100,
   "metadata": {},
   "outputs": [],
   "source": [
    "def extract_cluster_data(shapefile_path, cluster_field, lat_field, lon_field):\n",
    "\n",
    "    gdf = gpd.read_file(shapefile_path)\n",
    "    if cluster_field not in gdf.columns or lat_field not in gdf.columns or lon_field not in gdf.columns:\n",
    "        raise ValueError(\"One or more field names do not exist in the shapefile.\")\n",
    "        \n",
    "    data = gdf[[cluster_field, lat_field, lon_field]]\n",
    "    cluster_data = [tuple(x) for x in data.to_numpy()]\n",
    "    \n",
    "    return cluster_data"
   ]
  },
  {
   "cell_type": "code",
   "execution_count": 101,
   "metadata": {},
   "outputs": [],
   "source": [
    "cluster_data = extract_cluster_data(shapefile_path, cluster_field, lat_field, lon_field)"
   ]
  },
  {
   "cell_type": "code",
   "execution_count": 102,
   "metadata": {},
   "outputs": [
    {
     "name": "stdout",
     "output_type": "stream",
     "text": [
      "(1.0, 31.9809071112, 35.9105100532)\n",
      "(2.0, 31.9753989632, 35.8964608609)\n",
      "(3.0, 31.9574323747, 35.9019729665)\n",
      "(4.0, 31.9731202374, 35.9186792128)\n",
      "(5.0, 31.9563528646, 35.9240250134)\n"
     ]
    }
   ],
   "source": [
    "# Print a few records\n",
    "for idx in range(0,5):\n",
    "    print(cluster_data[idx]) "
   ]
  },
  {
   "cell_type": "code",
   "execution_count": 103,
   "metadata": {},
   "outputs": [],
   "source": [
    "cluster_df = pd.DataFrame(cluster_data, columns=['cluster_id', 'latitude', 'longitude'])\n",
    "cluster_df['cluster_id'] = cluster_df['cluster_id'].astype(str)  # Convert to string"
   ]
  },
  {
   "cell_type": "markdown",
   "metadata": {},
   "source": [
    "## Create GeoJSON \n",
    "\n",
    "Create a GeoJSON file that associates the individual DHS survey data with the clusters labels computed above."
   ]
  },
  {
   "cell_type": "code",
   "execution_count": 104,
   "metadata": {},
   "outputs": [
    {
     "name": "stdout",
     "output_type": "stream",
     "text": [
      "Filtered DataFrame:\n",
      "  cluster_id   latitude  longitude\n",
      "0        1.0  31.980907  35.910510\n",
      "1        2.0  31.975399  35.896461\n",
      "2        3.0  31.957432  35.901973\n",
      "3        4.0  31.973120  35.918679\n",
      "4        5.0  31.956353  35.924025\n",
      "Length of Filtered DataFrame: 969\n",
      "UMAP Results DataFrame:\n",
      "  cluster_id  cluster_label\n",
      "0      137.0              0\n",
      "1      841.0              3\n",
      "2      779.0              3\n",
      "3       11.0              0\n",
      "4      609.0              2\n",
      "Length of UMAP Results DataFrame: 969\n",
      "Merged DataFrame:\n",
      "  cluster_id   latitude  longitude  cluster_label\n",
      "0        1.0  31.980907  35.910510              0\n",
      "1        2.0  31.975399  35.896461              0\n",
      "2        3.0  31.957432  35.901973              0\n",
      "3        4.0  31.973120  35.918679              0\n",
      "4        5.0  31.956353  35.924025              0\n",
      "Length of Merged DataFrame: 969\n"
     ]
    }
   ],
   "source": [
    "umap_results_df = pd.DataFrame({\n",
    "    'cluster_id': umap_cluster_ids,    # UMAP cluster IDs now in string format like '101.0'\n",
    "    'cluster_label': cluster_labels    # Assume this is already correctly aligned with umap_cluster_ids\n",
    "})\n",
    "\n",
    "# Filter the cluster DataFrame to only include rows with cluster_ids in umap_cluster_ids\n",
    "filtered_cluster_df = cluster_df[cluster_df['cluster_id'].isin(umap_cluster_ids)]\n",
    "if filtered_cluster_df.empty:\n",
    "    print(\"No matching cluster IDs found after filtering. Check umap_cluster_ids list.\")\n",
    "\n",
    "# Merge the filtered cluster data with UMAP results based on 'cluster_id'\n",
    "merged_df = pd.merge(filtered_cluster_df, umap_results_df, on='cluster_id', how='inner')\n",
    "\n",
    "if merged_df.empty:\n",
    "    print(\"Merging resulted in no data. Ensure data types and cluster IDs match exactly.\")\n",
    "\n",
    "# Convert DataFrame to GeoDataFrame\n",
    "gdf = gpd.GeoDataFrame(\n",
    "    merged_df,\n",
    "    geometry=gpd.points_from_xy(merged_df.longitude, merged_df.latitude),\n",
    "    crs=\"EPSG:4326\"  \n",
    ")\n",
    "\n",
    "# Save to GeoJSON\n",
    "gdf.to_file(geojson_file, driver='GeoJSON')\n",
    "\n",
    "# Output some diagnostics\n",
    "print(\"Filtered DataFrame:\")\n",
    "print(filtered_cluster_df.head())\n",
    "print(\"Length of Filtered DataFrame:\", len(filtered_cluster_df))\n",
    "\n",
    "print(\"UMAP Results DataFrame:\")\n",
    "print(umap_results_df.head())\n",
    "print(\"Length of UMAP Results DataFrame:\", len(umap_results_df))\n",
    "\n",
    "print(\"Merged DataFrame:\")\n",
    "print(merged_df.head())\n",
    "print(\"Length of Merged DataFrame:\", len(merged_df))"
   ]
  },
  {
   "cell_type": "code",
   "execution_count": 74,
   "metadata": {},
   "outputs": [
    {
     "name": "stdout",
     "output_type": "stream",
     "text": [
      "all_features shape: (475, 25088)\n"
     ]
    }
   ],
   "source": [
    "print(f\"all_features shape: {umap_features.shape}\") "
   ]
  },
  {
   "cell_type": "code",
   "execution_count": null,
   "metadata": {},
   "outputs": [],
   "source": []
  }
 ],
 "metadata": {
  "kernelspec": {
   "display_name": "Python (py39-pt)",
   "language": "python",
   "name": "clone_env"
  },
  "language_info": {
   "codemirror_mode": {
    "name": "ipython",
    "version": 3
   },
   "file_extension": ".py",
   "mimetype": "text/x-python",
   "name": "python",
   "nbconvert_exporter": "python",
   "pygments_lexer": "ipython3",
   "version": "3.9.18"
  }
 },
 "nbformat": 4,
 "nbformat_minor": 4
}
