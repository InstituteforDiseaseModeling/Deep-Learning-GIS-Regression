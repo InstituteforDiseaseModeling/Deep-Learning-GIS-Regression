{
 "cells": [
  {
   "cell_type": "markdown",
   "metadata": {},
   "source": [
    "# Pre-Preocess Global Rainfall Data (GPM) \n",
    "\n",
    "The notebook pre-processes global rainfall data for specific Areas of Interest (AOIs). This global rainfall data is provided as daily averages for each month from 2001 to 2022 (i.e., each month GeoTiff contains raster values in mm/day representing the daily average rainfall for a given month over the 22 year span). \n",
    "\n",
    "For a given AOI, these global files are cropped to the AOI and bad values (-9999.9) are replaced with -999 for consistency across all data types and set to NoData. The cropped files are then averaged to produce a single GeoTiff file representing the daily average rainfall for the 22 year span.  \n",
    "\n",
    "The source data is available globally [here](https://gpm.nasa.gov/data/imerg/precipitation-climatology).\n",
    "\n",
    "\n",
    "## File System Structure\n",
    "The top level file structure is shown below. This notebook is used to process global rainfall data as described below.\n",
    "\n",
    "\n",
    "<pre style=\"font-family: monospace;\">\n",
    "<span style=\"color: black;\">./GIS-Image-Stack-Processing</span> \n",
    "<span></span>\n",
    "<span style=\"color: gray;\">    ./AOI         # AOI Image Stacks and Image Tiles</span>  \n",
    "<span style=\"color: gray;\">    ./DHS         # DHS survey data</span>\n",
    "<span style=\"color: blue;\">    ./gist_utils</span>  <span style=\"color: gray;\"># Python package with convenience functions</span>\n",
    "<span style=\"color: gray;\">    ./Nightlights</span>\n",
    "<span style=\"color: gray;\">    ./Population</span>\n",
    "<span style=\"color: blue;\">    ./Rainfall</span>\n",
    "\n",
    "<span style=\"color: blue;\">    ./01_prep_rainfall_gpm.ipynb (this notebook)</span>\n",
    "<span style=\"color: gray;\">    ./02_prep_geospatial_data.ipynb</span>\n",
    "<span style=\"color: gray;\">    ./03_prep_aoi_image_tiles.ipynb</span>\n",
    "\n",
    "</pre>\n",
    "\n",
    "## **Input (Global Monthly Rainfall):**\n",
    "\n",
    "The following file structure is required as input for this notebook. The Chirps dataset consists of 12 monthly global rainfall sum GeoTiff files as indicated below.\n",
    "\n",
    "<pre style=\"font-family: monospace;\">\n",
    "    ./Rainfall/\n",
    "        GPM_2001-2022/\n",
    "            IMERG-Final.CLIM.2001-2022.01.V07B.tif\n",
    "            :\n",
    "            :\n",
    "            IMERG-Final.CLIM.2001-2022.12.V07B.tif\n",
    "</pre>\n",
    "\n",
    "## **Output (AOI Daily Average):**\n",
    "\n",
    "The following file structure will be created by this notebook. The 12 global monthly rainfall sum GeoTiff files are processed to produce daily average rainfall GeoTiff files for the specified country.\n",
    "\n",
    "<pre style=\"font-family: monospace;\">\n",
    "    ./Rainfall/\n",
    "        GPM_2001-2022/\n",
    "            PK/\n",
    "                AOI_crop_daily_average/\n",
    "                    IMERG-Final.CLIM.2001-2022.01.V07B_PK_avg.tif\n",
    "</pre>\n",
    "\n",
    "## Required Configurations\n",
    "\n",
    "The following configurations are required for each execution of this notebook: the two-letter country code for the specified AOI. This notebook should be executed once for a specified AOI.\n",
    "\n",
    "<pre style=\"font-family: monospace;\">\n",
    "<span style=\"color: blue;\">country_code= 'PK'</span>  # Set the country code\n",
    "</pre>"
   ]
  },
  {
   "cell_type": "code",
   "execution_count": 1,
   "metadata": {
    "scrolled": false
   },
   "outputs": [],
   "source": [
    "import os\n",
    "import rasterio\n",
    "import numpy as np\n",
    "from dataclasses import dataclass\n",
    "\n",
    "# Import module that contains several convenience functions (e.g., gdal wrappers)\n",
    "from project_utils import *\n",
    "\n",
    "# Adding path to gdal commands for local system\n",
    "os.environ['PATH'] += ':/Users/billk/miniforge3/envs/py39-pt/bin/' "
   ]
  },
  {
   "cell_type": "markdown",
   "metadata": {},
   "source": [
    "## 1 Set Country Code and Define AOI\n",
    "\n",
    "The only input settings required in this notebook are the two-letter country code. The AOI for the specified country will be automatically computed based on the bounding box for the country plus an added buffer to allow image tiles near the boarders to be cropped."
   ]
  },
  {
   "cell_type": "code",
   "execution_count": 118,
   "metadata": {},
   "outputs": [],
   "source": [
    "#-------------------------------------------------\n",
    "# REQUIRED CONFIGURATIONS HERE\n",
    "#-------------------------------------------------\n",
    "country_code = 'TD'   # Set the country code\n",
    "#-------------------------------------------------\n",
    "\n",
    "lat_north = aoi_configurations[country_code]['lat_north']\n",
    "lat_south = aoi_configurations[country_code]['lat_south']\n",
    "lon_west  = aoi_configurations[country_code]['lon_west']\n",
    "lon_east  = aoi_configurations[country_code]['lon_east']\n",
    "\n",
    "case = country_code"
   ]
  },
  {
   "cell_type": "markdown",
   "metadata": {},
   "source": [
    "## Define Data Classes to Configure Case"
   ]
  },
  {
   "cell_type": "code",
   "execution_count": 119,
   "metadata": {},
   "outputs": [],
   "source": [
    "@dataclass(frozen=True)\n",
    "class AOIConfig:\n",
    "    # The following Lat, Lon bounds are programmatically set based on pre-defined AOI configurations\n",
    "    # in gist_utils/aoi_configurations.py\n",
    "    LAT_NORTH:   float                      \n",
    "    LAT_SOUTH:   float                      \n",
    "    LON_WEST:    float\n",
    "    LON_EAST:    float\n",
    "    BUF_DEG: float = 1.0\n",
    "        \n",
    "@dataclass(frozen=True)\n",
    "class DatasetConfig:\n",
    "    COUNTRY_CODE:  str\n",
    "    DATA_DIR:      str = './Rainfall/GPM_2001-2022/'\n",
    "    OUT_DIR_CROP:  str = './Rainfall/GPM_2001-2022/{country_code}/AOI_crop_monthly' \n",
    "    OUT_DIR_NODATA:str = './Rainfall/GPM_2001-2022/{country_code}/AOI_crop_monthly_nodata' \n",
    "    OUT_DIR:       str = './Rainfall/GPM_2001-2022/{country_code}/AOI_crop_daily'\n",
    "    OUT_BASE:      str = 'GPM_2001-2022.01.V07B'\n",
    "    BAD_VALUES:    int = -9999.9  # Bad values in source data\n",
    "    NODATA_SET:    int = -999     # NoData value used for this project\n",
    "    GDAL_INFO:    bool = False\n",
    "\n",
    "    def get_out_dir(self):\n",
    "        return self.OUT_DIR.format(country_code=self.COUNTRY_CODE)\n",
    "    \n",
    "    def get_out_dir_crop(self):\n",
    "        return self.OUT_DIR_CROP.format(country_code=self.COUNTRY_CODE)\n",
    "    \n",
    "    def get_out_dir_nodata(self):\n",
    "        return self.OUT_DIR_NODATA.format(country_code=self.COUNTRY_CODE)\n",
    "    \n",
    "data_config = DatasetConfig(COUNTRY_CODE=country_code)\n",
    "aoi_config  = AOIConfig(LAT_NORTH=lat_north, LAT_SOUTH=lat_south, LON_WEST=lon_west, LON_EAST=lon_east)"
   ]
  },
  {
   "cell_type": "code",
   "execution_count": 120,
   "metadata": {},
   "outputs": [
    {
     "name": "stdout",
     "output_type": "stream",
     "text": [
      "./Rainfall/GPM_2001-2022/TD/AOI_crop_monthly\n",
      "./Rainfall/GPM_2001-2022/TD/AOI_crop_monthly_nodata\n",
      "./Rainfall/GPM_2001-2022/TD/AOI_crop_daily\n"
     ]
    }
   ],
   "source": [
    "print(data_config.get_out_dir_crop())\n",
    "print(data_config.get_out_dir_nodata())\n",
    "print(data_config.get_out_dir())"
   ]
  },
  {
   "cell_type": "markdown",
   "metadata": {},
   "source": [
    "## Set Output Filenames"
   ]
  },
  {
   "cell_type": "code",
   "execution_count": 121,
   "metadata": {},
   "outputs": [
    {
     "name": "stdout",
     "output_type": "stream",
     "text": [
      "output_avg will be saved here:  ./Rainfall/GPM_2001-2022/TD/AOI_crop_daily/GPM_2001-2022.01.V07B_TD_avg.tif\n"
     ]
    }
   ],
   "source": [
    "# Set output filenames\n",
    "output_avg = data_config.get_out_dir() + \"/\" + data_config.OUT_BASE + \"_\" + case + \"_avg.tif\"\n",
    "\n",
    "print(\"output_avg will be saved here: \", output_avg)"
   ]
  },
  {
   "cell_type": "code",
   "execution_count": 122,
   "metadata": {},
   "outputs": [],
   "source": [
    "# Create output folders if they do not already exist\n",
    "if not os.path.exists(data_config.get_out_dir()):\n",
    "    os.makedirs(data_config.get_out_dir())\n",
    "    \n",
    "if not os.path.exists(data_config.get_out_dir_crop()):\n",
    "    os.makedirs(data_config.get_out_dir_crop())\n",
    "    \n",
    "if not os.path.exists(data_config.get_out_dir_nodata()):\n",
    "    os.makedirs(data_config.get_out_dir_nodata())"
   ]
  },
  {
   "cell_type": "markdown",
   "metadata": {},
   "source": [
    "## 2 Define the Cropped Region\n",
    "The cropped region is defined by the AOI country bounds plus an additional buffer to allow for cropping tiles near the AOI bounds."
   ]
  },
  {
   "cell_type": "code",
   "execution_count": 123,
   "metadata": {
    "scrolled": true
   },
   "outputs": [
    {
     "name": "stdout",
     "output_type": "stream",
     "text": [
      "Upper Left Lat: 24.41\n",
      "Upper Left Lon: 12.47\n",
      "Lower Right Lat: 6.44\n",
      "Lower Right Lon: 25.0\n"
     ]
    }
   ],
   "source": [
    "# Define AOI to encompass the country (+/- small buffer).\n",
    "ul_lat, ul_lon = aoi_config.LAT_NORTH + aoi_config.BUF_DEG, aoi_config.LON_WEST - aoi_config.BUF_DEG\n",
    "lr_lat, lr_lon = aoi_config.LAT_SOUTH - aoi_config.BUF_DEG, aoi_config.LON_EAST + aoi_config.BUF_DEG\n",
    "\n",
    "# Print the results\n",
    "print(f\"Upper Left Lat: {ul_lat}\")\n",
    "print(f\"Upper Left Lon: {ul_lon}\")\n",
    "print(f\"Lower Right Lat: {lr_lat}\")\n",
    "print(f\"Lower Right Lon: {lr_lon}\")"
   ]
  },
  {
   "cell_type": "markdown",
   "metadata": {},
   "source": [
    "### Confirm Global Input Source Files"
   ]
  },
  {
   "cell_type": "code",
   "execution_count": 124,
   "metadata": {
    "scrolled": true
   },
   "outputs": [
    {
     "name": "stdout",
     "output_type": "stream",
     "text": [
      "./Rainfall/GPM_2001-2022/IMERG-Final.CLIM.2001-2022.01.V07B.tif\n",
      "./Rainfall/GPM_2001-2022/IMERG-Final.CLIM.2001-2022.02.V07B.tif\n",
      "./Rainfall/GPM_2001-2022/IMERG-Final.CLIM.2001-2022.03.V07B.tif\n",
      "./Rainfall/GPM_2001-2022/IMERG-Final.CLIM.2001-2022.04.V07B.tif\n",
      "./Rainfall/GPM_2001-2022/IMERG-Final.CLIM.2001-2022.05.V07B.tif\n",
      "./Rainfall/GPM_2001-2022/IMERG-Final.CLIM.2001-2022.06.V07B.tif\n",
      "./Rainfall/GPM_2001-2022/IMERG-Final.CLIM.2001-2022.07.V07B.tif\n",
      "./Rainfall/GPM_2001-2022/IMERG-Final.CLIM.2001-2022.08.V07B.tif\n",
      "./Rainfall/GPM_2001-2022/IMERG-Final.CLIM.2001-2022.09.V07B.tif\n",
      "./Rainfall/GPM_2001-2022/IMERG-Final.CLIM.2001-2022.10.V07B.tif\n",
      "./Rainfall/GPM_2001-2022/IMERG-Final.CLIM.2001-2022.11.V07B.tif\n",
      "./Rainfall/GPM_2001-2022/IMERG-Final.CLIM.2001-2022.12.V07B.tif\n"
     ]
    }
   ],
   "source": [
    "# Create a list of all files in the directory\n",
    "files_in_directory = os.listdir(data_config.DATA_DIR)\n",
    "\n",
    "# Filter the list to include only TIFF files\n",
    "tiff_files = sorted([file for file in files_in_directory if file.endswith('.tif')])\n",
    "\n",
    "for file in tiff_files:\n",
    "    print(data_config.DATA_DIR + file)"
   ]
  },
  {
   "cell_type": "markdown",
   "metadata": {},
   "source": [
    "## 3 Crop the Monthly Source Files "
   ]
  },
  {
   "cell_type": "code",
   "execution_count": 125,
   "metadata": {
    "scrolled": false
   },
   "outputs": [
    {
     "name": "stdout",
     "output_type": "stream",
     "text": [
      "./Rainfall/GPM_2001-2022/TD/AOI_crop_monthly/IMERG-Final.CLIM.2001-2022.01.V07B_TD_crop.tif\n",
      "Input file size is 3600, 1800\n",
      "0...10...20...30...40...50...60...70...80...90...100 - done.\n",
      "\n",
      "./Rainfall/GPM_2001-2022/TD/AOI_crop_monthly/IMERG-Final.CLIM.2001-2022.02.V07B_TD_crop.tif\n",
      "Input file size is 3600, 1800\n",
      "0...10...20...30...40...50...60...70...80...90...100 - done.\n",
      "\n",
      "./Rainfall/GPM_2001-2022/TD/AOI_crop_monthly/IMERG-Final.CLIM.2001-2022.03.V07B_TD_crop.tif\n",
      "Input file size is 3600, 1800\n",
      "0...10...20...30...40...50...60...70...80...90...100 - done.\n",
      "\n",
      "./Rainfall/GPM_2001-2022/TD/AOI_crop_monthly/IMERG-Final.CLIM.2001-2022.04.V07B_TD_crop.tif\n",
      "Input file size is 3600, 1800\n",
      "0...10...20...30...40...50...60...70...80...90...100 - done.\n",
      "\n",
      "./Rainfall/GPM_2001-2022/TD/AOI_crop_monthly/IMERG-Final.CLIM.2001-2022.05.V07B_TD_crop.tif\n",
      "Input file size is 3600, 1800\n",
      "0...10...20...30...40...50...60...70...80...90...100 - done.\n",
      "\n",
      "./Rainfall/GPM_2001-2022/TD/AOI_crop_monthly/IMERG-Final.CLIM.2001-2022.06.V07B_TD_crop.tif\n",
      "Input file size is 3600, 1800\n",
      "0...10...20...30...40...50...60...70...80...90...100 - done.\n",
      "\n",
      "./Rainfall/GPM_2001-2022/TD/AOI_crop_monthly/IMERG-Final.CLIM.2001-2022.07.V07B_TD_crop.tif\n",
      "Input file size is 3600, 1800\n",
      "0...10...20...30...40...50...60...70...80...90...100 - done.\n",
      "\n",
      "./Rainfall/GPM_2001-2022/TD/AOI_crop_monthly/IMERG-Final.CLIM.2001-2022.08.V07B_TD_crop.tif\n",
      "Input file size is 3600, 1800\n",
      "0...10...20...30...40...50...60...70...80...90...100 - done.\n",
      "\n",
      "./Rainfall/GPM_2001-2022/TD/AOI_crop_monthly/IMERG-Final.CLIM.2001-2022.09.V07B_TD_crop.tif\n",
      "Input file size is 3600, 1800\n",
      "0...10...20...30...40...50...60...70...80...90...100 - done.\n",
      "\n",
      "./Rainfall/GPM_2001-2022/TD/AOI_crop_monthly/IMERG-Final.CLIM.2001-2022.10.V07B_TD_crop.tif\n",
      "Input file size is 3600, 1800\n",
      "0...10...20...30...40...50...60...70...80...90...100 - done.\n",
      "\n",
      "./Rainfall/GPM_2001-2022/TD/AOI_crop_monthly/IMERG-Final.CLIM.2001-2022.11.V07B_TD_crop.tif\n",
      "Input file size is 3600, 1800\n",
      "0...10...20...30...40...50...60...70...80...90...100 - done.\n",
      "\n",
      "./Rainfall/GPM_2001-2022/TD/AOI_crop_monthly/IMERG-Final.CLIM.2001-2022.12.V07B_TD_crop.tif\n",
      "Input file size is 3600, 1800\n",
      "0...10...20...30...40...50...60...70...80...90...100 - done.\n",
      "\n"
     ]
    }
   ],
   "source": [
    "# Loop through each global TIFF file\n",
    "for file_name in tiff_files:\n",
    "    \n",
    "    input_tif = os.path.join(data_config.DATA_DIR, file_name)\n",
    "    \n",
    "    # Construct the output file name based on the input file name\n",
    "    temp = '_' + case + \"_crop.tif\"\n",
    "    intermediate_tif = os.path.join(data_config.get_out_dir_crop(), os.path.splitext(file_name)[0] + temp)\n",
    "    print(intermediate_tif)\n",
    "    \n",
    "    # Crop the data to the specified AOI\n",
    "    gdal_crop(input_tif, intermediate_tif, ul_lon, ul_lat, lr_lon, lr_lat, False)"
   ]
  },
  {
   "cell_type": "markdown",
   "metadata": {},
   "source": [
    "### Confirm the Cropped Files"
   ]
  },
  {
   "cell_type": "code",
   "execution_count": 126,
   "metadata": {
    "scrolled": false
   },
   "outputs": [
    {
     "name": "stdout",
     "output_type": "stream",
     "text": [
      "./Rainfall/GPM_2001-2022/TD/AOI_crop_monthly/IMERG-Final.CLIM.2001-2022.01.V07B_TD_crop.tif\n",
      "./Rainfall/GPM_2001-2022/TD/AOI_crop_monthly/IMERG-Final.CLIM.2001-2022.02.V07B_TD_crop.tif\n",
      "./Rainfall/GPM_2001-2022/TD/AOI_crop_monthly/IMERG-Final.CLIM.2001-2022.03.V07B_TD_crop.tif\n",
      "./Rainfall/GPM_2001-2022/TD/AOI_crop_monthly/IMERG-Final.CLIM.2001-2022.04.V07B_TD_crop.tif\n",
      "./Rainfall/GPM_2001-2022/TD/AOI_crop_monthly/IMERG-Final.CLIM.2001-2022.05.V07B_TD_crop.tif\n",
      "./Rainfall/GPM_2001-2022/TD/AOI_crop_monthly/IMERG-Final.CLIM.2001-2022.06.V07B_TD_crop.tif\n",
      "./Rainfall/GPM_2001-2022/TD/AOI_crop_monthly/IMERG-Final.CLIM.2001-2022.07.V07B_TD_crop.tif\n",
      "./Rainfall/GPM_2001-2022/TD/AOI_crop_monthly/IMERG-Final.CLIM.2001-2022.08.V07B_TD_crop.tif\n",
      "./Rainfall/GPM_2001-2022/TD/AOI_crop_monthly/IMERG-Final.CLIM.2001-2022.09.V07B_TD_crop.tif\n",
      "./Rainfall/GPM_2001-2022/TD/AOI_crop_monthly/IMERG-Final.CLIM.2001-2022.10.V07B_TD_crop.tif\n",
      "./Rainfall/GPM_2001-2022/TD/AOI_crop_monthly/IMERG-Final.CLIM.2001-2022.11.V07B_TD_crop.tif\n",
      "./Rainfall/GPM_2001-2022/TD/AOI_crop_monthly/IMERG-Final.CLIM.2001-2022.12.V07B_TD_crop.tif\n"
     ]
    }
   ],
   "source": [
    "# List all the cropped TIFF files for the specified AOI\n",
    "cropped_files = sorted([os.path.join(data_config.get_out_dir_crop(), file) \n",
    "                        for file in os.listdir(data_config.get_out_dir_crop()) \n",
    "                        if file.endswith('.tif') or file.endswith('.tiff')])\n",
    "\n",
    "for file in cropped_files:\n",
    "    print(file)"
   ]
  },
  {
   "cell_type": "markdown",
   "metadata": {},
   "source": [
    "## 4 Set NoData Values in the Cropped Monthly Source Files\n",
    "\n",
    "Replace \"bad value\" pixels with NoData set to -999 for consistency with other data types."
   ]
  },
  {
   "cell_type": "code",
   "execution_count": 127,
   "metadata": {
    "scrolled": false
   },
   "outputs": [
    {
     "name": "stdout",
     "output_type": "stream",
     "text": [
      "Creating output file that is 125P x 180L.\n",
      "Processing ./Rainfall/GPM_2001-2022/TD/AOI_crop_monthly/IMERG-Final.CLIM.2001-2022.01.V07B_TD_crop.tif [1/1] : 0...10...20...30...40...50...60...70...80...90...100 - done.\n",
      "\n",
      "Processed file: IMERG-Final.CLIM.2001-2022.01.V07B_TD_crop_nodata.tif\n",
      "\n",
      "Creating output file that is 125P x 180L.\n",
      "Processing ./Rainfall/GPM_2001-2022/TD/AOI_crop_monthly/IMERG-Final.CLIM.2001-2022.02.V07B_TD_crop.tif [1/1] : 0...10...20...30...40...50...60...70...80...90...100 - done.\n",
      "\n",
      "Processed file: IMERG-Final.CLIM.2001-2022.02.V07B_TD_crop_nodata.tif\n",
      "\n",
      "Creating output file that is 125P x 180L.\n",
      "Processing ./Rainfall/GPM_2001-2022/TD/AOI_crop_monthly/IMERG-Final.CLIM.2001-2022.03.V07B_TD_crop.tif [1/1] : 0...10...20...30...40...50...60...70...80...90...100 - done.\n",
      "\n",
      "Processed file: IMERG-Final.CLIM.2001-2022.03.V07B_TD_crop_nodata.tif\n",
      "\n",
      "Creating output file that is 125P x 180L.\n",
      "Processing ./Rainfall/GPM_2001-2022/TD/AOI_crop_monthly/IMERG-Final.CLIM.2001-2022.04.V07B_TD_crop.tif [1/1] : 0...10...20...30...40...50...60...70...80...90...100 - done.\n",
      "\n",
      "Processed file: IMERG-Final.CLIM.2001-2022.04.V07B_TD_crop_nodata.tif\n",
      "\n",
      "Creating output file that is 125P x 180L.\n",
      "Processing ./Rainfall/GPM_2001-2022/TD/AOI_crop_monthly/IMERG-Final.CLIM.2001-2022.05.V07B_TD_crop.tif [1/1] : 0...10...20...30...40...50...60...70...80...90...100 - done.\n",
      "\n",
      "Processed file: IMERG-Final.CLIM.2001-2022.05.V07B_TD_crop_nodata.tif\n",
      "\n",
      "Creating output file that is 125P x 180L.\n",
      "Processing ./Rainfall/GPM_2001-2022/TD/AOI_crop_monthly/IMERG-Final.CLIM.2001-2022.06.V07B_TD_crop.tif [1/1] : 0...10...20...30...40...50...60...70...80...90...100 - done.\n",
      "\n",
      "Processed file: IMERG-Final.CLIM.2001-2022.06.V07B_TD_crop_nodata.tif\n",
      "\n",
      "Creating output file that is 125P x 180L.\n",
      "Processing ./Rainfall/GPM_2001-2022/TD/AOI_crop_monthly/IMERG-Final.CLIM.2001-2022.07.V07B_TD_crop.tif [1/1] : 0...10...20...30...40...50...60...70...80...90...100 - done.\n",
      "\n",
      "Processed file: IMERG-Final.CLIM.2001-2022.07.V07B_TD_crop_nodata.tif\n",
      "\n",
      "Creating output file that is 125P x 180L.\n",
      "Processing ./Rainfall/GPM_2001-2022/TD/AOI_crop_monthly/IMERG-Final.CLIM.2001-2022.08.V07B_TD_crop.tif [1/1] : 0...10...20...30...40...50...60...70...80...90...100 - done.\n",
      "\n",
      "Processed file: IMERG-Final.CLIM.2001-2022.08.V07B_TD_crop_nodata.tif\n",
      "\n",
      "Creating output file that is 125P x 180L.\n",
      "Processing ./Rainfall/GPM_2001-2022/TD/AOI_crop_monthly/IMERG-Final.CLIM.2001-2022.09.V07B_TD_crop.tif [1/1] : 0...10...20...30...40...50...60...70...80...90...100 - done.\n",
      "\n",
      "Processed file: IMERG-Final.CLIM.2001-2022.09.V07B_TD_crop_nodata.tif\n",
      "\n",
      "Creating output file that is 125P x 180L.\n",
      "Processing ./Rainfall/GPM_2001-2022/TD/AOI_crop_monthly/IMERG-Final.CLIM.2001-2022.10.V07B_TD_crop.tif [1/1] : 0...10...20...30...40...50...60...70...80...90...100 - done.\n",
      "\n",
      "Processed file: IMERG-Final.CLIM.2001-2022.10.V07B_TD_crop_nodata.tif\n",
      "\n",
      "Creating output file that is 125P x 180L.\n",
      "Processing ./Rainfall/GPM_2001-2022/TD/AOI_crop_monthly/IMERG-Final.CLIM.2001-2022.11.V07B_TD_crop.tif [1/1] : 0...10...20...30...40...50...60...70...80...90...100 - done.\n",
      "\n",
      "Processed file: IMERG-Final.CLIM.2001-2022.11.V07B_TD_crop_nodata.tif\n",
      "\n",
      "Creating output file that is 125P x 180L.\n",
      "Processing ./Rainfall/GPM_2001-2022/TD/AOI_crop_monthly/IMERG-Final.CLIM.2001-2022.12.V07B_TD_crop.tif [1/1] : 0...10...20...30...40...50...60...70...80...90...100 - done.\n",
      "\n",
      "Processed file: IMERG-Final.CLIM.2001-2022.12.V07B_TD_crop_nodata.tif\n",
      "\n"
     ]
    }
   ],
   "source": [
    "processed_files = []\n",
    "    \n",
    "for cropped_file in cropped_files:\n",
    "    \n",
    "    # Split the filename from its extension\n",
    "    base_name, extension = os.path.splitext(os.path.basename(cropped_file))\n",
    "    \n",
    "    # Append the suffix before the extension\n",
    "    new_base_name = f\"{base_name}{'_nodata'}{extension}\"\n",
    "    \n",
    "    # Create the full path for the output file\n",
    "    output_tif = os.path.join(data_config.get_out_dir_nodata(), new_base_name)\n",
    "    \n",
    "    # Set NoData values for each file ()\n",
    "    gdal_set_nodata(cropped_file, output_tif, data_config.BAD_VALUES, data_config.NODATA_SET, False)\n",
    "    \n",
    "    processed_files.append(output_tif)\n",
    "    \n",
    "    print(f\"Processed file: {os.path.basename(output_tif)}\\n\")"
   ]
  },
  {
   "cell_type": "markdown",
   "metadata": {},
   "source": [
    "## 5 Compute the Daily Average"
   ]
  },
  {
   "cell_type": "code",
   "execution_count": 128,
   "metadata": {
    "scrolled": false
   },
   "outputs": [
    {
     "name": "stdout",
     "output_type": "stream",
     "text": [
      "./Rainfall/GPM_2001-2022/TD/AOI_crop_monthly_nodata/IMERG-Final.CLIM.2001-2022.01.V07B_TD_crop_nodata.tif\n",
      "./Rainfall/GPM_2001-2022/TD/AOI_crop_monthly_nodata/IMERG-Final.CLIM.2001-2022.02.V07B_TD_crop_nodata.tif\n",
      "./Rainfall/GPM_2001-2022/TD/AOI_crop_monthly_nodata/IMERG-Final.CLIM.2001-2022.03.V07B_TD_crop_nodata.tif\n",
      "./Rainfall/GPM_2001-2022/TD/AOI_crop_monthly_nodata/IMERG-Final.CLIM.2001-2022.04.V07B_TD_crop_nodata.tif\n",
      "./Rainfall/GPM_2001-2022/TD/AOI_crop_monthly_nodata/IMERG-Final.CLIM.2001-2022.05.V07B_TD_crop_nodata.tif\n",
      "./Rainfall/GPM_2001-2022/TD/AOI_crop_monthly_nodata/IMERG-Final.CLIM.2001-2022.06.V07B_TD_crop_nodata.tif\n",
      "./Rainfall/GPM_2001-2022/TD/AOI_crop_monthly_nodata/IMERG-Final.CLIM.2001-2022.07.V07B_TD_crop_nodata.tif\n",
      "./Rainfall/GPM_2001-2022/TD/AOI_crop_monthly_nodata/IMERG-Final.CLIM.2001-2022.08.V07B_TD_crop_nodata.tif\n",
      "./Rainfall/GPM_2001-2022/TD/AOI_crop_monthly_nodata/IMERG-Final.CLIM.2001-2022.09.V07B_TD_crop_nodata.tif\n",
      "./Rainfall/GPM_2001-2022/TD/AOI_crop_monthly_nodata/IMERG-Final.CLIM.2001-2022.10.V07B_TD_crop_nodata.tif\n",
      "./Rainfall/GPM_2001-2022/TD/AOI_crop_monthly_nodata/IMERG-Final.CLIM.2001-2022.11.V07B_TD_crop_nodata.tif\n",
      "./Rainfall/GPM_2001-2022/TD/AOI_crop_monthly_nodata/IMERG-Final.CLIM.2001-2022.12.V07B_TD_crop_nodata.tif\n"
     ]
    }
   ],
   "source": [
    "# List all the cropped TIFF files\n",
    "cropped_nodata_files = sorted([os.path.join(data_config.get_out_dir_nodata(), file) \n",
    "                        for file in os.listdir(data_config.get_out_dir_nodata()) \n",
    "                        if file.endswith('.tif') or file.endswith('.tiff')])\n",
    "\n",
    "for file in cropped_nodata_files:\n",
    "    print(file)"
   ]
  },
  {
   "cell_type": "code",
   "execution_count": 129,
   "metadata": {},
   "outputs": [],
   "source": [
    "# run_gdalinfo('./Rainfall/Chirps_2023/PK/AOI_crop_monthly/chirps-v2.0.2023.06_PK_crop.tif')"
   ]
  },
  {
   "cell_type": "code",
   "execution_count": 130,
   "metadata": {},
   "outputs": [
    {
     "name": "stdout",
     "output_type": "stream",
     "text": [
      "Average operation successfully saved to: ./Rainfall/GPM_2001-2022/TD/AOI_crop_daily/GPM_2001-2022.01.V07B_TD_avg.tif\n"
     ]
    }
   ],
   "source": [
    "# Compute the daily average\n",
    "average_rasters(cropped_nodata_files, output_avg, nodata_value=data_config.NODATA_SET)"
   ]
  },
  {
   "cell_type": "code",
   "execution_count": null,
   "metadata": {},
   "outputs": [],
   "source": []
  },
  {
   "cell_type": "code",
   "execution_count": null,
   "metadata": {},
   "outputs": [],
   "source": []
  },
  {
   "cell_type": "code",
   "execution_count": null,
   "metadata": {},
   "outputs": [],
   "source": []
  }
 ],
 "metadata": {
  "kernelspec": {
   "display_name": "Python (py39-pt-test)",
   "language": "python",
   "name": "py39-pt-test"
  },
  "language_info": {
   "codemirror_mode": {
    "name": "ipython",
    "version": 3
   },
   "file_extension": ".py",
   "mimetype": "text/x-python",
   "name": "python",
   "nbconvert_exporter": "python",
   "pygments_lexer": "ipython3",
   "version": "3.9.20"
  }
 },
 "nbformat": 4,
 "nbformat_minor": 4
}
