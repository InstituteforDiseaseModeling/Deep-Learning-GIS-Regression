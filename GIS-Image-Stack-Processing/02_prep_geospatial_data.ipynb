{
 "cells": [
  {
   "cell_type": "markdown",
   "metadata": {},
   "source": [
    "# GIS Image Stack Pre-Processing \n",
    "\n",
    "This notebook implements a processing pipeline to transform globally available data types into spatially aligned image stacks with uniform pixel sizes. The image stack is represented as individual GeoTiff files for each data type that are cropped to an Area of Interest (AOI) and resampled to the same pixel resolution. The filesystem structure is organized as described below.\n",
    "\n",
    "This notebook produces an output folder for each data type, based on the two-letter country code (e.g., 'PK' for Pakistan). Within that folder, there are four GeoTiff files representing the four processing stages implemented in this notebook. The fourth file is the final output GeoTiff, which represents the cropped, projected, and resampled raster data that constitutes a single layer in the image stack.\n",
    "\n",
    "\n",
    "## File System Structure\n",
    "\n",
    "The top-level file structure includes five folders and three notebooks.\n",
    "\n",
    "There is a folder for each data type at the same level as this notebook `02_prep_geospatial_data.ipynb`. With the exception of Rainfall data, which has a folder structure organized by country, the other data types contain a global GeoTiff file directly within the data type folder, which is used as input for this notebook.\n",
    "\n",
    "For all data types, output folders are created that indicate the two-letter country code. The output files from this notebook are cropped, projected, and resampled GeoTiff files that constitute a single layer in the image stack. These files will be used to create AOI image tiles using a separate notebook `03_prep_aoi_image_tiles.ipynb`.\n",
    "\n",
    "\n",
    "<pre style=\"font-family: monospace;\">\n",
    "<span style=\"color: gray;\">./AOI            # AOI Image Stacks and Image Tiles</span>  \n",
    "<span style=\"color: gray;\">./DHS            # DHS survey data</span>\n",
    "<span style=\"color: blue;\">./project_utils</span>  <span style=\"color: gray;\"># Python package with convenience functions</span>\n",
    "<span style=\"color: blue;\">./Nightlights</span>\n",
    "<span style=\"color: blue;\">./Population</span>\n",
    "<span style=\"color: blue;\">./Rainfall</span>\n",
    "\n",
    "<span style=\"color: gray;\">./01_prep_rainfall_gpm.ipynb</span>\n",
    "<span style=\"color: blue;\">./02_prep_geospatial_data.ipynb (this notebook)</span>\n",
    "<span style=\"color: gray;\">./03_prep_aoi_image_tiles.ipynb</span>\n",
    "</pre>\n",
    "\n",
    "## **Input**\n",
    "\n",
    "The input raster data for most data types is represented as a global GeoTiff file, which can be cropped directly, as for Nightlights and Population. However, for Rainfall, a separate notebook (01_prep_rainfall_gpm.ipynb) is used first to create daily average rainfall for the region of interest, so we need to specify the two-letter country code for those input files.\n",
    "\n",
    "<pre style=\"font-family: monospace;\">\n",
    "./Nightlights/\n",
    "    VNL_v22_npp-j01_2022_global_vcmslcfg_c202303062300_median.tif\n",
    "        \n",
    "./Population/\n",
    "    landscan-global-2022.tif\n",
    "            \n",
    "./Rainfall/\n",
    "    GPM_2001-2022/PK/AOI_crop_daily/GPM_2001-2022.01.V07B_PK_avg.tif\n",
    "    :\n",
    "    :\n",
    "    GPM_2001-2022/SN/AOI_crop_daily/GPM_2001-2022.01.V07B_SN_avg.tif\n",
    "    GPM_2001-2022/TD/AOI_crop_daily/GPM_2001-2022.01.V07B_TD_avg.tif\n",
    "</pre>\n",
    "\n",
    "## **Output**\n",
    "\n",
    "The following file structure will be created by this notebook.\n",
    "\n",
    "<pre style=\"font-family: monospace;\">\n",
    "./Nightlights/\n",
    "    output/PK/\n",
    "        N_VNL_v22_npp-j01_2022_global_vcmslcfg_median_PK_4_resampled_average.tif\n",
    "\n",
    "./Population/\n",
    "    output/PK/\n",
    "        P_landscan-global-2022_PK_4_resampled_average.tif\n",
    "            \n",
    "./Rainfall/\n",
    "    output/PK/  \n",
    "        R_GPM_2001-2022_PK_avg_PK_4_resampled_bilinear.tif\n",
    "</pre>\n",
    "\n",
    "\n",
    "## Required Configurations\n",
    "\n",
    "The following configurations are required for each execution of this notebook: the two-letter country code and a data type. The country code implicitly defines the latitude and longitude bounds for the AOI.\n",
    "\n",
    "This notebook must be executed once for each available data type. \n",
    "\n",
    "<pre style=\"font-family: monospace;\">\n",
    "<span style=\"color: blue;\">country_code = 'PK' </span>  # Set the country code to one of the available AOIs in the list below\n",
    "<span style=\"color: blue;\">data_type    = 'N'  </span>  # Set data type (N: Nightlights, P: Population, R: Rainfall)\n",
    "\n",
    "Available AOIs: AM (Armenia)\n",
    "                JO (Jordan), but not for use with ResNet18 due to lack of DHS metrics\n",
    "                MA (Morocco)\n",
    "                MB (Moldova)\n",
    "                ML (Mali)\n",
    "                MR (Mauritania)\n",
    "                NI (Niger)\n",
    "                PK (Pakistan)\n",
    "                SN (Senegal)\n",
    "                TD (Chad)\n",
    "</pre>"
   ]
  },
  {
   "cell_type": "code",
   "execution_count": 1,
   "metadata": {},
   "outputs": [
    {
     "name": "stderr",
     "output_type": "stream",
     "text": [
      "BokehDeprecationWarning: 'tile_providers module' was deprecated in Bokeh 3.0.0 and will be removed, use 'add_tile directly' instead.\n"
     ]
    }
   ],
   "source": [
    "import os\n",
    "from dataclasses import dataclass\n",
    "\n",
    "cache_dir = 'project_utils/__pycache__'\n",
    "if os.path.exists(cache_dir):\n",
    "    shutil.rmtree(cache_dir)\n",
    "\n",
    "# Import module that contains several convenience functions (e.g., gdal wrappers)\n",
    "from project_utils import *\n",
    "from project_utils.aoi_configurations import aoi_configurations\n",
    "\n",
    "#----------------------------------------------------------------------------------------\n",
    "# *** IMPORTANT: SYSTEM PATH TO SET ***\n",
    "#----------------------------------------------------------------------------------------\n",
    "# The following path is required, as it contains GDAL binaries used for several \n",
    "# pre-processing functions. The pathname corresponds to the Conda virtual environment \n",
    "# created for this project (e.g., \"py39-pt\").\n",
    "#\n",
    "# Note: GDAL was adopted as a benchmark to compare the original GIS data produced by \n",
    "# another team. However, similar functionality could be implemented using the Rasterio \n",
    "# Python package. If Rasterio is used, it would eliminate the need for GDAL binaries \n",
    "# and this system path specification.\n",
    "#----------------------------------------------------------------------------------------\n",
    "\n",
    "os.environ['PATH'] += ':/Users/billk/miniforge3/envs/py39-pt/bin/' "
   ]
  },
  {
   "cell_type": "markdown",
   "metadata": {},
   "source": [
    "## 1 Set Country Code and Geospatial Data Type\n",
    "\n",
    "The only input settings required in this notebook are the two-letter country code and the data type. Use the following single character keys to specificy each data type.\n",
    "\n",
    "```\n",
    "N: Nightlights\n",
    "P: Population\n",
    "R: Rainfall\n",
    "```\n",
    "\n",
    "The AOI for the specified country will be automatically computed based on the bounding box for the country, plus an added buffer to allow image tiles near the borders to be cropped. The notebook should be executed once for each data type"
   ]
  },
  {
   "cell_type": "code",
   "execution_count": 178,
   "metadata": {},
   "outputs": [
    {
     "name": "stdout",
     "output_type": "stream",
     "text": [
      "+proj=laea +lat_0=18.0 +lon_0=8.0 +x_0=0 +y_0=0 +datum=WGS84 +units=m +no_defs\n"
     ]
    }
   ],
   "source": [
    "#-------------------------------------------------\n",
    "# REQUIRED CONFIGURATIONS HERE\n",
    "#-------------------------------------------------\n",
    "country_code = 'NI'   # Set the country code\n",
    "data_type    = 'R'    # Set data type\n",
    "\n",
    "crs_lat = aoi_configurations[country_code]['crs_lat']\n",
    "crs_lon = aoi_configurations[country_code]['crs_lon']\n",
    "\n",
    "#------------------------------------------------------------------------------------------------------------\n",
    "# A Lambert-Azmuthal Equal Area (LAEA) projectoin CRS is used that requires the definition of a CRS \n",
    "# orgign (crs_lat, crs_lon). Each AOI defined in the aoi_configurations.py module contains these coordinates.\n",
    "#------------------------------------------------------------------------------------------------------------\n",
    "proj_string = f'+proj=laea +lat_0={crs_lat} +lon_0={crs_lon} +x_0=0 +y_0=0 +datum=WGS84 +units=m +no_defs'\n",
    "    \n",
    "lat_north = aoi_configurations[country_code]['lat_north']\n",
    "lat_south = aoi_configurations[country_code]['lat_south']\n",
    "lon_west  = aoi_configurations[country_code]['lon_west']\n",
    "lon_east  = aoi_configurations[country_code]['lon_east']\n",
    "\n",
    "case = country_code\n",
    "print(proj_string)"
   ]
  },
  {
   "cell_type": "markdown",
   "metadata": {},
   "source": [
    "## 2 Configure Data Type\n",
    "\n",
    "This notebook is intended to be executed for a single data type at a time. Each of the data classes below are pre-configured. Based on the data type specified in the previous code cell, each execution of this notebook  will produce intermediate output (*.tif ) files leading up to the final processed GeoTiff."
   ]
  },
  {
   "cell_type": "code",
   "execution_count": 179,
   "metadata": {},
   "outputs": [],
   "source": [
    "@dataclass(frozen=True)\n",
    "class DatasetConfig_Nightlights:\n",
    "    COUNTRY_CODE: str  \n",
    "    INPUT_TIF:    str = \"./Nightlights/VNL_v22_npp-j01_2022_global_vcmslcfg_median.tif\"  # Source data GeoTiff \n",
    "    OUT_DIR:      str = \"./Nightlights/output/{country_code}/\"                           # Output folder to store processed data\n",
    "    NODATA_SRC:   int = None                                                             # NoData value in src data                                                              # NoData value to fill in processed data\n",
    "    NODATA_SET:   int = -999                                                             \n",
    "    RESAMPLE_ALG: str = 'bilinear'\n",
    "    GDAL_INFO:   bool = True\n",
    "            \n",
    "    def get_input_tif(self):\n",
    "        return self.INPUT_TIF.format(country_code=self.COUNTRY_CODE)\n",
    "    \n",
    "    def get_out_dir(self):\n",
    "        return self.OUT_DIR.format(country_code=self.COUNTRY_CODE)"
   ]
  },
  {
   "cell_type": "code",
   "execution_count": 180,
   "metadata": {},
   "outputs": [],
   "source": [
    "@dataclass(frozen=True)\n",
    "class DatasetConfig_Population:\n",
    "    COUNTRY_CODE: str  \n",
    "    INPUT_TIF:    str = \"./Population/landscan-global-2022.tif\"   # Source data GeoTiff\n",
    "    OUT_DIR:      str = \"./Population/output/{country_code}/\"     # Output folder to store processed dataNODATA_SRC:   int = -2147483647                                       # NoData value in src data  \n",
    "    NODATA_SRC:   int = -2147483647  \n",
    "    NODATA_SET:   int = -999                                      # NoData value to fill in processed data\n",
    "    RESAMPLE_ALG: str = 'nearest'\n",
    "    GDAL_INFO:    bool = True\n",
    "        \n",
    "    def get_input_tif(self):\n",
    "        return self.INPUT_TIF.format(country_code=self.COUNTRY_CODE)\n",
    "    \n",
    "    def get_out_dir(self):\n",
    "        return self.OUT_DIR.format(country_code=self.COUNTRY_CODE)"
   ]
  },
  {
   "cell_type": "code",
   "execution_count": 181,
   "metadata": {},
   "outputs": [],
   "source": [
    "@dataclass(frozen=True)\n",
    "class DatasetConfig_Rainfall:\n",
    "    COUNTRY_CODE: str  \n",
    "    INPUT_TIF:    str   = \"./Rainfall/GPM_2001-2022/{country_code}/AOI_crop_daily/GPM_2001-2022.01.V07B_{country_code}_avg.tif\"\n",
    "    OUT_DIR:      str   = \"./Rainfall/output/{country_code}/\"           \n",
    "    NODATA_SRC:   int   = -999   # Rainfall data already pre-processed (no need to reset NoData)\n",
    "    NODATA_SET:   int   = -999   # This condition (NODATA_SRC = NODATA_SET) by-passes the setting of NoData\n",
    "    RESAMPLE_ALG: str   = 'bilinear'\n",
    "    GDAL_INFO:    bool  = True\n",
    "          \n",
    "    def get_input_tif(self):\n",
    "        return self.INPUT_TIF.format(country_code=self.COUNTRY_CODE)\n",
    "    \n",
    "    def get_out_dir(self):\n",
    "        return self.OUT_DIR.format(country_code=self.COUNTRY_CODE)"
   ]
  },
  {
   "cell_type": "markdown",
   "metadata": {},
   "source": [
    "## 3 Configure AOI\n",
    "\n",
    "The AOI data class below is used to configure the AOI for all the data types which serves to specify the cropped region for the image stack along with the re-sampling size in meters. "
   ]
  },
  {
   "cell_type": "code",
   "execution_count": 182,
   "metadata": {},
   "outputs": [],
   "source": [
    "@dataclass(frozen=True)\n",
    "class AOIConfig:\n",
    "    LAT_NORTH:   float                      # Define max latitude for AOI\n",
    "    LAT_SOUTH:   float                      # Define min latitude for AOI\n",
    "    LON_WEST:    float                      # Define min longitude for AOI\n",
    "    LON_EAST:    float                      # Define max longitude for AOI\n",
    "    RESAMPLE:    float = 400                # Resample data x & y (meters)\n",
    "    BUF_DEG:     int = 1.0                  # Extended buffer beyond AOI\n",
    "\n",
    "#-------------------------------------------------------------------\n",
    "# Configure data type here (uncomment one line from the list below)\n",
    "#-------------------------------------------------------------------\n",
    "\n",
    "if data_type == 'N':\n",
    "    data_config = DatasetConfig_Nightlights(COUNTRY_CODE=country_code)\n",
    "elif data_type == 'P':   \n",
    "    data_config = DatasetConfig_Population(COUNTRY_CODE=country_code)\n",
    "elif data_type == 'R':\n",
    "    data_config = DatasetConfig_Rainfall(COUNTRY_CODE=country_code)\n",
    "else:\n",
    "    print(f\"Error: Invalid data type '{data_type}'. Valid data types are 'N' for Nightlights, 'P' for Population, and 'R' for Rainfall.\")\n",
    "\n",
    "aoi_config  = AOIConfig(LAT_NORTH=lat_north, LAT_SOUTH=lat_south, LON_WEST=lon_west, LON_EAST=lon_east)\n",
    "\n",
    "if not os.path.exists(data_config.get_out_dir()):\n",
    "    os.makedirs(data_config.get_out_dir())"
   ]
  },
  {
   "cell_type": "markdown",
   "metadata": {},
   "source": [
    "### <span style=\"color: cornflowerblue;\">Information Summary: Source Data</span>"
   ]
  },
  {
   "cell_type": "code",
   "execution_count": 183,
   "metadata": {
    "scrolled": false
   },
   "outputs": [
    {
     "name": "stdout",
     "output_type": "stream",
     "text": [
      "Driver: GTiff/GeoTIFF\n",
      "Files: ./Rainfall/GPM_2001-2022/NI/AOI_crop_daily/GPM_2001-2022.01.V07B_NI_avg.tif\n",
      "Size is 178, 138\n",
      "Coordinate System is:\n",
      "GEOGCRS[\"WGS 84\",\n",
      "    ENSEMBLE[\"World Geodetic System 1984 ensemble\",\n",
      "        MEMBER[\"World Geodetic System 1984 (Transit)\"],\n",
      "        MEMBER[\"World Geodetic System 1984 (G730)\"],\n",
      "        MEMBER[\"World Geodetic System 1984 (G873)\"],\n",
      "        MEMBER[\"World Geodetic System 1984 (G1150)\"],\n",
      "        MEMBER[\"World Geodetic System 1984 (G1674)\"],\n",
      "        MEMBER[\"World Geodetic System 1984 (G1762)\"],\n",
      "        MEMBER[\"World Geodetic System 1984 (G2139)\"],\n",
      "        ELLIPSOID[\"WGS 84\",6378137,298.257223563,\n",
      "            LENGTHUNIT[\"metre\",1]],\n",
      "        ENSEMBLEACCURACY[2.0]],\n",
      "    PRIMEM[\"Greenwich\",0,\n",
      "        ANGLEUNIT[\"degree\",0.0174532925199433]],\n",
      "    CS[ellipsoidal,2],\n",
      "        AXIS[\"geodetic latitude (Lat)\",north,\n",
      "            ORDER[1],\n",
      "            ANGLEUNIT[\"degree\",0.0174532925199433]],\n",
      "        AXIS[\"geodetic longitude (Lon)\",east,\n",
      "            ORDER[2],\n",
      "            ANGLEUNIT[\"degree\",0.0174532925199433]],\n",
      "    USAGE[\n",
      "        SCOPE[\"Horizontal component of 3D system.\"],\n",
      "        AREA[\"World.\"],\n",
      "        BBOX[-90,-180,90,180]],\n",
      "    ID[\"EPSG\",4326]]\n",
      "Data axis to CRS axis mapping: 2,1\n",
      "Origin = (-0.849999999999966,24.599999999999994)\n",
      "Pixel Size = (0.100000000000000,-0.100000000000000)\n",
      "Metadata:\n",
      "  AREA_OR_POINT=Area\n",
      "Image Structure Metadata:\n",
      "  INTERLEAVE=BAND\n",
      "Corner Coordinates:\n",
      "Upper Left  (  -0.8500000,  24.6000000) (  0d51' 0.00\"W, 24d36' 0.00\"N)\n",
      "Lower Left  (  -0.8500000,  10.8000000) (  0d51' 0.00\"W, 10d48' 0.00\"N)\n",
      "Upper Right (  16.9500000,  24.6000000) ( 16d57' 0.00\"E, 24d36' 0.00\"N)\n",
      "Lower Right (  16.9500000,  10.8000000) ( 16d57' 0.00\"E, 10d48' 0.00\"N)\n",
      "Center      (   8.0500000,  17.7000000) (  8d 3' 0.00\"E, 17d42' 0.00\"N)\n",
      "Band 1 Block=178x11 Type=Float32, ColorInterp=Gray\n",
      "    Computed Min/Max=0.007,3.347\n",
      "  NoData Value=-999\n",
      "\n"
     ]
    }
   ],
   "source": [
    "if data_config.GDAL_INFO:\n",
    "    run_gdalinfo(data_config.get_input_tif())"
   ]
  },
  {
   "cell_type": "markdown",
   "metadata": {},
   "source": [
    "##  4 Crop Data to AOI\n",
    "Crop the source data to the specified AOI with a buffer. Adding a buffer is necessary to enable image tiles near the border to be created."
   ]
  },
  {
   "cell_type": "code",
   "execution_count": 184,
   "metadata": {
    "scrolled": true
   },
   "outputs": [
    {
     "name": "stdout",
     "output_type": "stream",
     "text": [
      "\n",
      "\n",
      "Upper Left Lat: 24.52\n",
      "Upper Left Lon: -0.831\n",
      "Lower Right Lat: 10.69\n",
      "Lower Right Lon: 17.0\n"
     ]
    }
   ],
   "source": [
    "# Define AOI to encompass the country (+/- small buffer).\n",
    "ul_lat, ul_lon = aoi_config.LAT_NORTH + aoi_config.BUF_DEG, aoi_config.LON_WEST - aoi_config.BUF_DEG\n",
    "lr_lat, lr_lon = aoi_config.LAT_SOUTH - aoi_config.BUF_DEG, aoi_config.LON_EAST + aoi_config.BUF_DEG\n",
    "\n",
    "# Print the results\n",
    "print(\"\\n\")\n",
    "print(f\"Upper Left Lat: {ul_lat}\")\n",
    "print(f\"Upper Left Lon: {ul_lon}\")\n",
    "print(f\"Lower Right Lat: {lr_lat}\")\n",
    "print(f\"Lower Right Lon: {lr_lon}\")"
   ]
  },
  {
   "cell_type": "code",
   "execution_count": 185,
   "metadata": {
    "scrolled": true
   },
   "outputs": [
    {
     "name": "stdout",
     "output_type": "stream",
     "text": [
      "input_tif:           ./Rainfall/GPM_2001-2022/NI/AOI_crop_daily/GPM_2001-2022.01.V07B_NI_avg.tif\n",
      "\n",
      "\n",
      "intermediate_tif:    ./Rainfall/output/NI/R_GPM_2001-2022.01.V07B_NI_avg_NI_1_crop_geo.tif\n",
      "\n",
      "\n",
      "Input file size is 178, 138\n",
      "0...10...20...30...40...50...60...70...80...90...100 - done.\n",
      "\n"
     ]
    }
   ],
   "source": [
    "# First, extract just the filename from the input TIFF path, removing the directory structure.\n",
    "input_tif = data_config.get_input_tif()\n",
    "input_tif_filename = os.path.basename(data_config.get_input_tif())\n",
    "\n",
    "step = \"_\" + case + \"_1_crop_geo.tif\"\n",
    "\n",
    "intermediate_tif = os.path.join(data_config.get_out_dir(), data_type + '_' + os.path.splitext(input_tif_filename)[0] + step)\n",
    "\n",
    "print(\"input_tif:          \", input_tif)\n",
    "print(\"\\n\")\n",
    "print(\"intermediate_tif:   \", intermediate_tif)\n",
    "print(\"\\n\")\n",
    "\n",
    "gdal_crop(input_tif, intermediate_tif, ul_lon, ul_lat, lr_lon, lr_lat, False)"
   ]
  },
  {
   "cell_type": "markdown",
   "metadata": {},
   "source": [
    "##  5 Set NoData Value"
   ]
  },
  {
   "cell_type": "code",
   "execution_count": 186,
   "metadata": {},
   "outputs": [
    {
     "name": "stdout",
     "output_type": "stream",
     "text": [
      "input_tif:         ./Rainfall/output/NI/R_GPM_2001-2022.01.V07B_NI_avg_NI_1_crop_geo.tif\n",
      "\n",
      "\n",
      "intermediate_tif:  ./Rainfall/output/NI/R_GPM_2001-2022.01.V07B_NI_avg_NI_2_nodata.tif\n",
      "\n",
      "\n",
      "./Rainfall/output/NI/population_1 temp.tif\n",
      "./Rainfall/output/NI/population_2_temp.tif\n"
     ]
    }
   ],
   "source": [
    "input_tif = intermediate_tif \n",
    "\n",
    "step = \"_\" + case + \"_2_nodata.tif\"\n",
    "\n",
    "intermediate_tif = os.path.join(data_config.get_out_dir(), data_type + '_' + os.path.splitext(input_tif_filename)[0] + step)\n",
    "\n",
    "print(\"input_tif:        \", input_tif)\n",
    "print(\"\\n\")\n",
    "print(\"intermediate_tif: \", intermediate_tif)\n",
    "print(\"\\n\")\n",
    "\n",
    "temp_1_tif = os.path.join(data_config.get_out_dir(), 'population_1 temp.tif')\n",
    "temp_2_tif = os.path.join(data_config.get_out_dir(), 'population_2_temp.tif')\n",
    "\n",
    "print(temp_1_tif)\n",
    "print(temp_2_tif)\n",
    "\n",
    "if data_type == 'P':\n",
    "    \n",
    "    # First unset NoData\n",
    "    gdal_unset_nodata(input_tif, temp_1_tif,)\n",
    "    \n",
    "    # Next, repalce data_config.NODATA_SRC with 0\n",
    "    gdal_replace_value(temp_1_tif, temp_2_tif, src_value=data_config.NODATA_SRC, dst_value=0, debug=False)\n",
    "    \n",
    "    # Then explicitly set NoData\n",
    "    gdal_set_nodata(temp_2_tif, intermediate_tif, None, data_config.NODATA_SET, False) \n",
    "else:\n",
    "    # Replace nodata values\n",
    "    gdal_set_nodata(input_tif, intermediate_tif, data_config.NODATA_SRC, data_config.NODATA_SET, False) "
   ]
  },
  {
   "cell_type": "markdown",
   "metadata": {},
   "source": [
    "### <span style=\"color: cornflowerblue;\">Information Summary: Cropped Data (with NoData set)</span>"
   ]
  },
  {
   "cell_type": "code",
   "execution_count": 187,
   "metadata": {
    "scrolled": false
   },
   "outputs": [
    {
     "name": "stdout",
     "output_type": "stream",
     "text": [
      "Driver: GTiff/GeoTIFF\n",
      "Files: ./Rainfall/output/NI/R_GPM_2001-2022.01.V07B_NI_avg_NI_2_nodata.tif\n",
      "Size is 178, 138\n",
      "Coordinate System is:\n",
      "GEOGCRS[\"WGS 84\",\n",
      "    ENSEMBLE[\"World Geodetic System 1984 ensemble\",\n",
      "        MEMBER[\"World Geodetic System 1984 (Transit)\"],\n",
      "        MEMBER[\"World Geodetic System 1984 (G730)\"],\n",
      "        MEMBER[\"World Geodetic System 1984 (G873)\"],\n",
      "        MEMBER[\"World Geodetic System 1984 (G1150)\"],\n",
      "        MEMBER[\"World Geodetic System 1984 (G1674)\"],\n",
      "        MEMBER[\"World Geodetic System 1984 (G1762)\"],\n",
      "        MEMBER[\"World Geodetic System 1984 (G2139)\"],\n",
      "        ELLIPSOID[\"WGS 84\",6378137,298.257223563,\n",
      "            LENGTHUNIT[\"metre\",1]],\n",
      "        ENSEMBLEACCURACY[2.0]],\n",
      "    PRIMEM[\"Greenwich\",0,\n",
      "        ANGLEUNIT[\"degree\",0.0174532925199433]],\n",
      "    CS[ellipsoidal,2],\n",
      "        AXIS[\"geodetic latitude (Lat)\",north,\n",
      "            ORDER[1],\n",
      "            ANGLEUNIT[\"degree\",0.0174532925199433]],\n",
      "        AXIS[\"geodetic longitude (Lon)\",east,\n",
      "            ORDER[2],\n",
      "            ANGLEUNIT[\"degree\",0.0174532925199433]],\n",
      "    USAGE[\n",
      "        SCOPE[\"Horizontal component of 3D system.\"],\n",
      "        AREA[\"World.\"],\n",
      "        BBOX[-90,-180,90,180]],\n",
      "    ID[\"EPSG\",4326]]\n",
      "Data axis to CRS axis mapping: 2,1\n",
      "Origin = (-0.849999999999966,24.599999999999994)\n",
      "Pixel Size = (0.100000000000000,-0.100000000000000)\n",
      "Metadata:\n",
      "  AREA_OR_POINT=Area\n",
      "Image Structure Metadata:\n",
      "  COMPRESSION=DEFLATE\n",
      "  INTERLEAVE=BAND\n",
      "Corner Coordinates:\n",
      "Upper Left  (  -0.8500000,  24.6000000) (  0d51' 0.00\"W, 24d36' 0.00\"N)\n",
      "Lower Left  (  -0.8500000,  10.8000000) (  0d51' 0.00\"W, 10d48' 0.00\"N)\n",
      "Upper Right (  16.9500000,  24.6000000) ( 16d57' 0.00\"E, 24d36' 0.00\"N)\n",
      "Lower Right (  16.9500000,  10.8000000) ( 16d57' 0.00\"E, 10d48' 0.00\"N)\n",
      "Center      (   8.0500000,  17.7000000) (  8d 3' 0.00\"E, 17d42' 0.00\"N)\n",
      "Band 1 Block=178x11 Type=Float32, ColorInterp=Gray\n",
      "    Computed Min/Max=0.007,3.347\n",
      "  NoData Value=-999\n",
      "\n"
     ]
    }
   ],
   "source": [
    "if data_config.GDAL_INFO:\n",
    "    run_gdalinfo(intermediate_tif)"
   ]
  },
  {
   "cell_type": "code",
   "execution_count": 188,
   "metadata": {},
   "outputs": [
    {
     "name": "stdout",
     "output_type": "stream",
     "text": [
      "Bounds:    BoundingBox(left=-0.850, bottom=10.800, right=16.950, top=24.600)\n",
      "EPSG Code: 4326\n"
     ]
    }
   ],
   "source": [
    "# Open the GeoTIFF file\n",
    "with rasterio.open(intermediate_tif) as dataset:\n",
    "\n",
    "    # Access bounding box (bounds)\n",
    "    bounds = dataset.bounds\n",
    "    print(f\"Bounds:    BoundingBox(left={bounds.left:.3f}, bottom={bounds.bottom:.3f}, right={bounds.right:.3f}, top={bounds.top:.3f})\")\n",
    "\n",
    "    # Access the CRS directly\n",
    "    crs = dataset.crs\n",
    "\n",
    "    # Print the EPSG code, if available\n",
    "    if dataset.crs.is_epsg_code:\n",
    "        print(\"EPSG Code:\", crs.to_epsg())\n",
    "    else:\n",
    "        print(\"CRS is not an EPSG: \", dataset.crs.to_string())"
   ]
  },
  {
   "cell_type": "markdown",
   "metadata": {},
   "source": [
    "## 6 Project Geographic Data\n"
   ]
  },
  {
   "cell_type": "code",
   "execution_count": 189,
   "metadata": {
    "scrolled": true
   },
   "outputs": [
    {
     "name": "stdout",
     "output_type": "stream",
     "text": [
      "input_tif:         ./Rainfall/output/NI/R_GPM_2001-2022.01.V07B_NI_avg_NI_2_nodata.tif\n",
      "\n",
      "\n",
      "intermediate_tif:  ./Rainfall/output/NI/R_GPM_2001-2022.01.V07B_NI_avg_NI_3_crs.tif\n",
      "\n",
      "\n"
     ]
    }
   ],
   "source": [
    "input_tif = intermediate_tif \n",
    "\n",
    "step = \"_\" + case + \"_3_crs.tif\"\n",
    "\n",
    "intermediate_tif = os.path.join(data_config.get_out_dir(), data_type + '_' + os.path.splitext(input_tif_filename)[0] + step)\n",
    "\n",
    "print(\"input_tif:        \", input_tif)\n",
    "print(\"\\n\")\n",
    "print(\"intermediate_tif: \", intermediate_tif)\n",
    "print(\"\\n\")\n",
    "\n",
    "transform_to_CRS(input_tif, intermediate_tif, proj_string, debug=False)"
   ]
  },
  {
   "cell_type": "markdown",
   "metadata": {},
   "source": [
    "### <span style=\"color: cornflowerblue;\">Information Summary: Projected Data</span>"
   ]
  },
  {
   "cell_type": "code",
   "execution_count": 190,
   "metadata": {
    "scrolled": false
   },
   "outputs": [
    {
     "name": "stdout",
     "output_type": "stream",
     "text": [
      "Driver: GTiff/GeoTIFF\n",
      "Files: ./Rainfall/output/NI/R_GPM_2001-2022.01.V07B_NI_avg_NI_3_crs.tif\n",
      "Size is 181, 144\n",
      "Coordinate System is:\n",
      "PROJCRS[\"unknown\",\n",
      "    BASEGEOGCRS[\"WGS 84\",\n",
      "        DATUM[\"World Geodetic System 1984\",\n",
      "            ELLIPSOID[\"WGS 84\",6378137,298.257223563,\n",
      "                LENGTHUNIT[\"metre\",1]]],\n",
      "        PRIMEM[\"Greenwich\",0,\n",
      "            ANGLEUNIT[\"degree\",0.0174532925199433]],\n",
      "        ID[\"EPSG\",4326]],\n",
      "    CONVERSION[\"Lambert Azimuthal Equal Area\",\n",
      "        METHOD[\"Lambert Azimuthal Equal Area\",\n",
      "            ID[\"EPSG\",9820]],\n",
      "        PARAMETER[\"Latitude of natural origin\",18,\n",
      "            ANGLEUNIT[\"degree\",0.0174532925199433],\n",
      "            ID[\"EPSG\",8801]],\n",
      "        PARAMETER[\"Longitude of natural origin\",8,\n",
      "            ANGLEUNIT[\"degree\",0.0174532925199433],\n",
      "            ID[\"EPSG\",8802]],\n",
      "        PARAMETER[\"False easting\",0,\n",
      "            LENGTHUNIT[\"metre\",1],\n",
      "            ID[\"EPSG\",8806]],\n",
      "        PARAMETER[\"False northing\",0,\n",
      "            LENGTHUNIT[\"metre\",1],\n",
      "            ID[\"EPSG\",8807]]],\n",
      "    CS[Cartesian,2],\n",
      "        AXIS[\"(E)\",east,\n",
      "            ORDER[1],\n",
      "            LENGTHUNIT[\"metre\",1]],\n",
      "        AXIS[\"(N)\",north,\n",
      "            ORDER[2],\n",
      "            LENGTHUNIT[\"metre\",1]]]\n",
      "Data axis to CRS axis mapping: 1,2\n",
      "Origin = (-968532.268797443015501,754066.376036683330312)\n",
      "Pixel Size = (10743.910704844136490,-10743.910704844136490)\n",
      "Metadata:\n",
      "  AREA_OR_POINT=Area\n",
      "Image Structure Metadata:\n",
      "  INTERLEAVE=BAND\n",
      "Corner Coordinates:\n",
      "Upper Left  ( -968532.269,  754066.376) (  1d33'36.64\"W, 24d34'11.09\"N)\n",
      "Lower Left  ( -968532.269, -793056.765) (  0d50'40.42\"W, 10d38'24.97\"N)\n",
      "Upper Right (  976115.569,  754066.376) ( 17d38' 6.00\"E, 24d33'57.24\"N)\n",
      "Lower Right (  976115.569, -793056.765) ( 16d54'49.96\"E, 10d38'14.35\"N)\n",
      "Center      (    3791.650,  -19495.195) (  8d 2' 8.76\"E, 17d49'25.88\"N)\n",
      "Band 1 Block=181x11 Type=Float32, ColorInterp=Gray\n",
      "    Computed Min/Max=0.007,3.347\n",
      "  NoData Value=-999\n",
      "\n"
     ]
    }
   ],
   "source": [
    "if data_config.GDAL_INFO:\n",
    "    run_gdalinfo(intermediate_tif)"
   ]
  },
  {
   "cell_type": "markdown",
   "metadata": {},
   "source": [
    "## Confirm the CRS of the Projected Data"
   ]
  },
  {
   "cell_type": "code",
   "execution_count": 191,
   "metadata": {
    "scrolled": true
   },
   "outputs": [
    {
     "name": "stdout",
     "output_type": "stream",
     "text": [
      "Bounds:    BoundingBox(left=-968532.269, bottom=-793056.765, right=976115.569, top=754066.376)\n",
      "CRS is not an EPSG:  PROJCS[\"unknown\",GEOGCS[\"WGS 84\",DATUM[\"WGS_1984\",SPHEROID[\"WGS 84\",6378137,298.257223563,AUTHORITY[\"EPSG\",\"7030\"]],AUTHORITY[\"EPSG\",\"6326\"]],PRIMEM[\"Greenwich\",0],UNIT[\"degree\",0.0174532925199433,AUTHORITY[\"EPSG\",\"9122\"]],AUTHORITY[\"EPSG\",\"4326\"]],PROJECTION[\"Lambert_Azimuthal_Equal_Area\"],PARAMETER[\"latitude_of_center\",18],PARAMETER[\"longitude_of_center\",8],PARAMETER[\"false_easting\",0],PARAMETER[\"false_northing\",0],UNIT[\"metre\",1],AXIS[\"Easting\",EAST],AXIS[\"Northing\",NORTH]]\n"
     ]
    }
   ],
   "source": [
    "# Open the GeoTIFF file\n",
    "with rasterio.open(intermediate_tif) as dataset:\n",
    "\n",
    "    # Access bounding box (bounds)\n",
    "    bounds = dataset.bounds\n",
    "    print(f\"Bounds:    BoundingBox(left={bounds.left:.3f}, bottom={bounds.bottom:.3f}, right={bounds.right:.3f}, top={bounds.top:.3f})\")\n",
    "    \n",
    "    # Access the CRS directly\n",
    "    crs = dataset.crs\n",
    "    \n",
    "    # Print the EPSG code, if available\n",
    "    if crs.is_epsg_code:\n",
    "        print(\"EPSG Code:\", crs.to_epsg())\n",
    "    else:\n",
    "        print(\"CRS is not an EPSG: \", crs.to_string())"
   ]
  },
  {
   "cell_type": "markdown",
   "metadata": {},
   "source": [
    "```\n",
    "Bounds:    BoundingBox(left=1177334.011, bottom=803346.316, right=2493812.212, top=2987768.110)\n",
    "CRS is not an EPSG:  \n",
    "\n",
    "PROJCS[\"unknown\",GEOGCS[\"unknown\",DATUM[\"WGS_1984\",SPHEROID[\"WGS 84\",6378137,298.257223563,AUTHORITY[\"EPSG\",\"7030\"]],\n",
    "\n",
    "AUTHORITY[\"EPSG\",\"6326\"]],\n",
    "PRIMEM[\"Greenwich\",0],\n",
    "UNIT[\"Degree\",0.0174532925199433]],\n",
    "PROJECTION[\"Mollweide\"],\n",
    "PARAMETER[\"central_meridian\",0],\n",
    "PARAMETER[\"false_easting\",0],\n",
    "PARAMETER[\"false_northing\",0],\n",
    "UNIT[\"metre\",1,AUTHORITY[\"EPSG\",\"9001\"]],\n",
    "AXIS[\"Easting\",EAST],AXIS[\"Northing\",NORTH]]\n",
    "```"
   ]
  },
  {
   "cell_type": "markdown",
   "metadata": {},
   "source": [
    "## 7 Resample Data\n",
    "\n",
    "Resample the projected data using aoi_config.RESAMPLE which is measured in meters."
   ]
  },
  {
   "cell_type": "code",
   "execution_count": 192,
   "metadata": {
    "scrolled": true
   },
   "outputs": [
    {
     "name": "stdout",
     "output_type": "stream",
     "text": [
      "input_tif:         ./Rainfall/output/NI/R_GPM_2001-2022.01.V07B_NI_avg_NI_3_crs.tif\n",
      "\n",
      "\n",
      "intermediate_tif:  ./Rainfall/output/NI/R_GPM_2001-2022.01.V07B_NI_avg_NI_4_resampled_bilinear.tif\n",
      "\n",
      "\n",
      "Creating output file that is 4862P x 3868L.\n",
      "Processing ./Rainfall/output/NI/R_GPM_2001-2022.01.V07B_NI_avg_NI_3_crs.tif [1/1] : 0Using internal nodata values (e.g. -999) for image ./Rainfall/output/NI/R_GPM_2001-2022.01.V07B_NI_avg_NI_3_crs.tif.\n",
      "Copying nodata values from source ./Rainfall/output/NI/R_GPM_2001-2022.01.V07B_NI_avg_NI_3_crs.tif to destination ./Rainfall/output/NI/R_GPM_2001-2022.01.V07B_NI_avg_NI_4_resampled_bilinear.tif.\n",
      "...10...20...30...40...50...60...70...80...90...100 - done.\n",
      "\n"
     ]
    }
   ],
   "source": [
    "input_tif = intermediate_tif \n",
    "\n",
    "step = \"_\" + case + \"_4_resampled_\" + data_config.RESAMPLE_ALG + \".tif\"\n",
    "\n",
    "intermediate_tif = os.path.join(data_config.get_out_dir(), data_type + '_' + os.path.splitext(input_tif_filename)[0] + step)\n",
    "\n",
    "print(\"input_tif:        \", input_tif)\n",
    "print(\"\\n\")\n",
    "print(\"intermediate_tif: \", intermediate_tif)\n",
    "print(\"\\n\")\n",
    "\n",
    "\n",
    "# Resample the data\n",
    "gdal_resample(input_tif, \n",
    "              intermediate_tif, \n",
    "              data_config.RESAMPLE_ALG, \n",
    "              aoi_config.RESAMPLE, \n",
    "              aoi_config.RESAMPLE)"
   ]
  },
  {
   "cell_type": "markdown",
   "metadata": {},
   "source": [
    "### <span style=\"color: cornflowerblue;\">Information Summary: Resampled Data</span>"
   ]
  },
  {
   "cell_type": "code",
   "execution_count": 193,
   "metadata": {
    "scrolled": false
   },
   "outputs": [
    {
     "name": "stdout",
     "output_type": "stream",
     "text": [
      "Driver: GTiff/GeoTIFF\n",
      "Files: ./Rainfall/output/NI/R_GPM_2001-2022.01.V07B_NI_avg_NI_4_resampled_bilinear.tif\n",
      "Size is 4862, 3868\n",
      "Coordinate System is:\n",
      "PROJCRS[\"unknown\",\n",
      "    BASEGEOGCRS[\"WGS 84\",\n",
      "        DATUM[\"World Geodetic System 1984\",\n",
      "            ELLIPSOID[\"WGS 84\",6378137,298.257223563,\n",
      "                LENGTHUNIT[\"metre\",1]]],\n",
      "        PRIMEM[\"Greenwich\",0,\n",
      "            ANGLEUNIT[\"degree\",0.0174532925199433]],\n",
      "        ID[\"EPSG\",4326]],\n",
      "    CONVERSION[\"Lambert Azimuthal Equal Area\",\n",
      "        METHOD[\"Lambert Azimuthal Equal Area\",\n",
      "            ID[\"EPSG\",9820]],\n",
      "        PARAMETER[\"Latitude of natural origin\",18,\n",
      "            ANGLEUNIT[\"degree\",0.0174532925199433],\n",
      "            ID[\"EPSG\",8801]],\n",
      "        PARAMETER[\"Longitude of natural origin\",8,\n",
      "            ANGLEUNIT[\"degree\",0.0174532925199433],\n",
      "            ID[\"EPSG\",8802]],\n",
      "        PARAMETER[\"False easting\",0,\n",
      "            LENGTHUNIT[\"metre\",1],\n",
      "            ID[\"EPSG\",8806]],\n",
      "        PARAMETER[\"False northing\",0,\n",
      "            LENGTHUNIT[\"metre\",1],\n",
      "            ID[\"EPSG\",8807]]],\n",
      "    CS[Cartesian,2],\n",
      "        AXIS[\"(E)\",east,\n",
      "            ORDER[1],\n",
      "            LENGTHUNIT[\"metre\",1]],\n",
      "        AXIS[\"(N)\",north,\n",
      "            ORDER[2],\n",
      "            LENGTHUNIT[\"metre\",1]]]\n",
      "Data axis to CRS axis mapping: 1,2\n",
      "Origin = (-968532.268797443015501,754066.376036683330312)\n",
      "Pixel Size = (400.000000000000000,-400.000000000000000)\n",
      "Metadata:\n",
      "  AREA_OR_POINT=Area\n",
      "Image Structure Metadata:\n",
      "  COMPRESSION=DEFLATE\n",
      "  INTERLEAVE=BAND\n",
      "Corner Coordinates:\n",
      "Upper Left  ( -968532.269,  754066.376) (  1d33'36.64\"W, 24d34'11.09\"N)\n",
      "Lower Left  ( -968532.269, -793133.624) (  0d50'40.34\"W, 10d38'22.47\"N)\n",
      "Upper Right (  976267.731,  754066.376) ( 17d38'11.41\"E, 24d33'56.96\"N)\n",
      "Lower Right (  976267.731, -793133.624) ( 16d54'54.88\"E, 10d38'11.64\"N)\n",
      "Center      (    3867.731,  -19533.624) (  8d 2'11.34\"E, 17d49'24.63\"N)\n",
      "Band 1 Block=4862x1 Type=Float32, ColorInterp=Gray\n",
      "    Computed Min/Max=0.007,3.346\n",
      "  NoData Value=-999\n",
      "\n"
     ]
    }
   ],
   "source": [
    "if data_config.GDAL_INFO:\n",
    "    run_gdalinfo(intermediate_tif)"
   ]
  },
  {
   "cell_type": "code",
   "execution_count": null,
   "metadata": {},
   "outputs": [],
   "source": []
  },
  {
   "cell_type": "code",
   "execution_count": null,
   "metadata": {},
   "outputs": [],
   "source": []
  },
  {
   "cell_type": "code",
   "execution_count": null,
   "metadata": {},
   "outputs": [],
   "source": []
  }
 ],
 "metadata": {
  "kernelspec": {
   "display_name": "Python (py39-pt-test)",
   "language": "python",
   "name": "py39-pt-test"
  },
  "language_info": {
   "codemirror_mode": {
    "name": "ipython",
    "version": 3
   },
   "file_extension": ".py",
   "mimetype": "text/x-python",
   "name": "python",
   "nbconvert_exporter": "python",
   "pygments_lexer": "ipython3",
   "version": "3.9.20"
  }
 },
 "nbformat": 4,
 "nbformat_minor": 4
}
