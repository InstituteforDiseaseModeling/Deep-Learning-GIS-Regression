{
 "cells": [
  {
   "cell_type": "markdown",
   "metadata": {},
   "source": [
    "# Pre-Preocess Global Rainfall Data (CHIRPS)\n",
    "\n",
    "The notebook pre-processes global rainfall data for specific Areas of Interest (AOIs). This global rainfall data is provided as monthly sum GeoTiff files. For a given AOI, the monthly rainfall sum files are first cropped to the AOI. Then, a yearly sum is computed as an intermediate output. This yearly sum is used to calculate a single daily average GeoTiff file for the specified AOI. No coordinate transformations are performed. The file structure is indicated below. \n",
    "\n",
    "The source data is available globally [here](https://data.chc.ucsb.edu/products/CHIRPS-2.0/global_monthly/tifs/) for 2023 as monthly rainfall totals in mm. \n",
    "\n",
    "Data over waterbodies in the source data is set to -9999.0 to indicate \"bad values.\" The computation of rainfall statistics will exclude the pixels flagged These values will be set as NoData = -999 for consistency with other data types. The \n",
    "\n",
    "## File System Structure\n",
    "The top level file structure is shown below. This notebook is used to process global rainfall data as described below.\n",
    "\n",
    "\n",
    "<pre style=\"font-family: monospace;\">\n",
    "<span style=\"color: black;\">./GIS-Image-Stack-Processing</span> \n",
    "<span></span>\n",
    "<span style=\"color: gray;\">    ./AOI         # AOI Image Stacks and Image Tiles</span>  \n",
    "<span style=\"color: gray;\">    ./DHS         # DHS survey data</span>\n",
    "<span style=\"color: blue;\">    ./gist_utils</span>  <span style=\"color: gray;\"># Python package with convenience functions</span>\n",
    "<span style=\"color: gray;\">    ./Nightlights</span>\n",
    "<span style=\"color: gray;\">    ./Population</span>\n",
    "<span style=\"color: blue;\">    ./Rainfall</span>\n",
    "\n",
    "<span style=\"color: gray;\">    ./prep_aoi_image_tiles.ipynb</span>\n",
    "<span style=\"color: gray;\">    ./prep_geospatial_data.ipynb</span>\n",
    "<span style=\"color: blue;\">    ./prep_rainfall_chirps.ipynb (this notebook)</span>\n",
    "<span style=\"color: gray;\">    ./prep_rainfall_gpm.ipynb</span>\n",
    "</pre>\n",
    "\n",
    "## **Input (Global Monthly Rainfall):**\n",
    "\n",
    "The following file structure is required as input for this notebook. The Chirps dataset consists of 12 monthly global rainfall sum GeoTiff files as indicated below.\n",
    "\n",
    "<pre style=\"font-family: monospace;\">\n",
    "    ./Rainfall/\n",
    "        Chirps_2023/\n",
    "            chirps-v2.0.2023.01.tif\n",
    "            :\n",
    "            :\n",
    "            chirps-v2.0.2023.12.tif\n",
    "</pre>\n",
    "\n",
    "## **Output (AOI Daily Average):**\n",
    "\n",
    "The following file structure will be created by this notebook. The 12 global monthly rainfall sum GeoTiff files are processed to produce daily average rainfall GeoTiff files for the specified country.\n",
    "\n",
    "<pre style=\"font-family: monospace;\">\n",
    "    ./Rainfall/\n",
    "        Chirps_2023/\n",
    "            PK/\n",
    "                AOI_crop_daily_average/\n",
    "                    chirps-v2.0.2023_PK_avg.tif\n",
    "</pre>\n",
    "\n",
    "## Required Configurations\n",
    "\n",
    "The following configurations are required for each execution of this notebook: the two-letter country code for the specified AOI. This notebook should be executed once for a specified AOI.\n",
    "\n",
    "<pre style=\"font-family: monospace;\">\n",
    "<span style=\"color: blue;\">country_code= 'PK'</span>  # Set the country code\n",
    "</pre>"
   ]
  },
  {
   "cell_type": "code",
   "execution_count": 1,
   "metadata": {
    "scrolled": false
   },
   "outputs": [],
   "source": [
    "import os\n",
    "import rasterio\n",
    "import numpy as np\n",
    "from dataclasses import dataclass\n",
    "\n",
    "# Import module that contains several convenience functions (e.g., gdal wrappers)\n",
    "from gist_utils import *\n",
    "\n",
    "# Adding path to gdal commands for local system\n",
    "os.environ['PATH'] += ':/Users/billk/miniforge3/envs/py39-pt/bin/' "
   ]
  },
  {
   "cell_type": "markdown",
   "metadata": {},
   "source": [
    "## 1 Set Country Code and Define AOI\n",
    "\n",
    "The only input settings required in this notebook are the two-letter country code. The AOI for the specified country will be automatically computed based on the bounding box for the country plus an added buffer to allow image tiles near the boarders to be cropped."
   ]
  },
  {
   "cell_type": "code",
   "execution_count": 2,
   "metadata": {},
   "outputs": [],
   "source": [
    "#-------------------------------------------------\n",
    "# REQUIRED CONFIGURATIONS HERE\n",
    "#-------------------------------------------------\n",
    "country_code = 'PK'   # Set the country code\n",
    "#-------------------------------------------------\n",
    "\n",
    "lat_north = aoi_configurations[country_code]['lat_north']\n",
    "lat_south = aoi_configurations[country_code]['lat_south']\n",
    "lon_west  = aoi_configurations[country_code]['lon_west']\n",
    "lon_east  = aoi_configurations[country_code]['lon_east']\n",
    "\n",
    "case = country_code"
   ]
  },
  {
   "cell_type": "markdown",
   "metadata": {},
   "source": [
    "## Define Data Classes to Configure Case"
   ]
  },
  {
   "cell_type": "code",
   "execution_count": 3,
   "metadata": {},
   "outputs": [],
   "source": [
    "@dataclass(frozen=True)\n",
    "class AOIConfig:\n",
    "    # The following Lat, Lon bounds are programmatically set based on pre-defined AOI configurations\n",
    "    # in gist_utils/aoi_configurations.py\n",
    "    LAT_NORTH:   float                      \n",
    "    LAT_SOUTH:   float                      \n",
    "    LON_WEST:    float\n",
    "    LON_EAST:    float\n",
    "    BUF_DEG: float = 1.0\n",
    "        \n",
    "@dataclass(frozen=True)\n",
    "class DatasetConfig:\n",
    "    COUNTRY_CODE:  str\n",
    "    DATA_DIR:      str = './Rainfall/Chirps_2023/'\n",
    "    OUT_DIR_CROP:  str = './Rainfall/Chirps_2023/{country_code}/AOI_crop_monthly' \n",
    "    OUT_DIR_IMPUTE:str = './Rainfall/Chirps_2023/{country_code}/AOI_crop_monthly_impute'\n",
    "    OUT_DIR_NODATA:str = './Rainfall/Chirps_2023/{country_code}/AOI_crop_monthly_nodata' \n",
    "    OUT_DIR:       str = './Rainfall/Chirps_2023/{country_code}/AOI_crop_daily'\n",
    "    OUT_BASE:      str = 'chirps-v2.0.2023'\n",
    "    BAD_VALUES:    int = -9999  # Bad values in source data\n",
    "    NODATA_SET:    int = -999   # NoData value used for this project\n",
    "    GDAL_INFO:    bool = False\n",
    "\n",
    "    def get_out_dir(self):\n",
    "        return self.OUT_DIR.format(country_code=self.COUNTRY_CODE)\n",
    "    \n",
    "    def get_out_dir_crop(self):\n",
    "        return self.OUT_DIR_CROP.format(country_code=self.COUNTRY_CODE)\n",
    "    \n",
    "    def get_out_dir_impute(self):\n",
    "        return self.OUT_DIR_IMPUTE.format(country_code=self.COUNTRY_CODE)\n",
    "    \n",
    "    def get_out_dir_nodata(self):\n",
    "        return self.OUT_DIR_NODATA.format(country_code=self.COUNTRY_CODE)\n",
    "    \n",
    "data_config = DatasetConfig(COUNTRY_CODE=country_code)\n",
    "aoi_config  = AOIConfig(LAT_NORTH=lat_north, LAT_SOUTH=lat_south, LON_WEST=lon_west, LON_EAST=lon_east)"
   ]
  },
  {
   "cell_type": "code",
   "execution_count": 4,
   "metadata": {},
   "outputs": [
    {
     "name": "stdout",
     "output_type": "stream",
     "text": [
      "./Rainfall/Chirps_2023/PK/AOI_crop_monthly\n",
      "./Rainfall/Chirps_2023/PK/AOI_crop_daily\n"
     ]
    }
   ],
   "source": [
    "print(data_config.get_out_dir_crop())\n",
    "print(data_config.get_out_dir())"
   ]
  },
  {
   "cell_type": "markdown",
   "metadata": {},
   "source": [
    "## Set Output Filenames"
   ]
  },
  {
   "cell_type": "code",
   "execution_count": 5,
   "metadata": {},
   "outputs": [
    {
     "name": "stdout",
     "output_type": "stream",
     "text": [
      "output_sum will be saved here:  ./Rainfall/Chirps_2023/PK/AOI_crop_daily/chirps-v2.0.2023_PK_sum.tif\n",
      "output_avg will be saved here:  ./Rainfall/Chirps_2023/PK/AOI_crop_daily/chirps-v2.0.2023_PK_avg.tif\n"
     ]
    }
   ],
   "source": [
    "# Set output filenames\n",
    "output_sum = data_config.get_out_dir() + \"/\" + data_config.OUT_BASE + \"_\" + case + \"_sum.tif\"\n",
    "output_avg = data_config.get_out_dir() + \"/\" + data_config.OUT_BASE + \"_\" + case + \"_avg.tif\"\n",
    "\n",
    "print(\"output_sum will be saved here: \", output_sum)\n",
    "print(\"output_avg will be saved here: \", output_avg)"
   ]
  },
  {
   "cell_type": "code",
   "execution_count": 6,
   "metadata": {},
   "outputs": [],
   "source": [
    "# Create output folders if they do not already exist\n",
    "if not os.path.exists(data_config.get_out_dir()):\n",
    "    os.makedirs(data_config.get_out_dir())\n",
    "    \n",
    "if not os.path.exists(data_config.get_out_dir_crop()):\n",
    "    os.makedirs(data_config.get_out_dir_crop())\n",
    "    \n",
    "if not os.path.exists(data_config.get_out_dir_impute()):\n",
    "    os.makedirs(data_config.get_out_dir_nodata())\n",
    "    \n",
    "if not os.path.exists(data_config.get_out_dir_nodata()):\n",
    "    os.makedirs(data_config.get_out_dir_nodata())"
   ]
  },
  {
   "cell_type": "markdown",
   "metadata": {},
   "source": [
    "## 2 Define the Cropped Region\n",
    "The cropped region is defined by the AOI country bounds plus an additional buffer to allow for cropping tiles near the AOI bounds."
   ]
  },
  {
   "cell_type": "code",
   "execution_count": 7,
   "metadata": {
    "scrolled": true
   },
   "outputs": [
    {
     "name": "stdout",
     "output_type": "stream",
     "text": [
      "Upper Left Lat: 38.08\n",
      "Upper Left Lon: 59.87\n",
      "Lower Right Lat: 22.63\n",
      "Lower Right Lon: 78.84\n"
     ]
    }
   ],
   "source": [
    "# Define AOI to encompass the country (+/- small buffer).\n",
    "ul_lat, ul_lon = aoi_config.LAT_NORTH + aoi_config.BUF_DEG, aoi_config.LON_WEST - aoi_config.BUF_DEG\n",
    "lr_lat, lr_lon = aoi_config.LAT_SOUTH - aoi_config.BUF_DEG, aoi_config.LON_EAST + aoi_config.BUF_DEG\n",
    "\n",
    "# Print the results\n",
    "print(f\"Upper Left Lat: {ul_lat}\")\n",
    "print(f\"Upper Left Lon: {ul_lon}\")\n",
    "print(f\"Lower Right Lat: {lr_lat}\")\n",
    "print(f\"Lower Right Lon: {lr_lon}\")"
   ]
  },
  {
   "cell_type": "markdown",
   "metadata": {},
   "source": [
    "### Confirm Global Input Source Files"
   ]
  },
  {
   "cell_type": "code",
   "execution_count": 8,
   "metadata": {},
   "outputs": [
    {
     "name": "stdout",
     "output_type": "stream",
     "text": [
      "./Rainfall/Chirps_2023/chirps-v2.0.2023.01.tif\n",
      "./Rainfall/Chirps_2023/chirps-v2.0.2023.02.tif\n",
      "./Rainfall/Chirps_2023/chirps-v2.0.2023.03.tif\n",
      "./Rainfall/Chirps_2023/chirps-v2.0.2023.04.tif\n",
      "./Rainfall/Chirps_2023/chirps-v2.0.2023.05.tif\n",
      "./Rainfall/Chirps_2023/chirps-v2.0.2023.06.tif\n",
      "./Rainfall/Chirps_2023/chirps-v2.0.2023.07.tif\n",
      "./Rainfall/Chirps_2023/chirps-v2.0.2023.08.tif\n",
      "./Rainfall/Chirps_2023/chirps-v2.0.2023.09.tif\n",
      "./Rainfall/Chirps_2023/chirps-v2.0.2023.10.tif\n",
      "./Rainfall/Chirps_2023/chirps-v2.0.2023.11.tif\n",
      "./Rainfall/Chirps_2023/chirps-v2.0.2023.12.tif\n"
     ]
    }
   ],
   "source": [
    "# Create a list of all files in the directory\n",
    "files_in_directory = os.listdir(data_config.DATA_DIR)\n",
    "\n",
    "# Filter the list to include only TIFF files\n",
    "tiff_files = sorted([file for file in files_in_directory if file.endswith('.tif')])\n",
    "\n",
    "for file in tiff_files:\n",
    "    print(data_config.DATA_DIR + file)"
   ]
  },
  {
   "cell_type": "markdown",
   "metadata": {},
   "source": [
    "## 3 Crop the Monthly Sum Source Files "
   ]
  },
  {
   "cell_type": "code",
   "execution_count": 9,
   "metadata": {
    "scrolled": false
   },
   "outputs": [
    {
     "name": "stdout",
     "output_type": "stream",
     "text": [
      "./Rainfall/Chirps_2023/PK/AOI_crop_monthly/chirps-v2.0.2023.01_PK_crop.tif\n",
      "Input file size is 7200, 2000\n",
      "0...10...20...30...40...50...60...70...80...90...100 - done.\n",
      "\n",
      "./Rainfall/Chirps_2023/PK/AOI_crop_monthly/chirps-v2.0.2023.02_PK_crop.tif\n",
      "Input file size is 7200, 2000\n",
      "0...10...20...30...40...50...60...70...80...90...100 - done.\n",
      "\n",
      "./Rainfall/Chirps_2023/PK/AOI_crop_monthly/chirps-v2.0.2023.03_PK_crop.tif\n",
      "Input file size is 7200, 2000\n",
      "0...10...20...30...40...50...60...70...80...90...100 - done.\n",
      "\n",
      "./Rainfall/Chirps_2023/PK/AOI_crop_monthly/chirps-v2.0.2023.04_PK_crop.tif\n",
      "Input file size is 7200, 2000\n",
      "0...10...20...30...40...50...60...70...80...90...100 - done.\n",
      "\n",
      "./Rainfall/Chirps_2023/PK/AOI_crop_monthly/chirps-v2.0.2023.05_PK_crop.tif\n",
      "Input file size is 7200, 2000\n",
      "0...10...20...30...40...50...60...70...80...90...100 - done.\n",
      "\n",
      "./Rainfall/Chirps_2023/PK/AOI_crop_monthly/chirps-v2.0.2023.06_PK_crop.tif\n",
      "Input file size is 7200, 2000\n",
      "0...10...20...30...40...50...60...70...80...90...100 - done.\n",
      "\n",
      "./Rainfall/Chirps_2023/PK/AOI_crop_monthly/chirps-v2.0.2023.07_PK_crop.tif\n",
      "Input file size is 7200, 2000\n",
      "0...10...20...30...40...50...60...70...80...90...100 - done.\n",
      "\n",
      "./Rainfall/Chirps_2023/PK/AOI_crop_monthly/chirps-v2.0.2023.08_PK_crop.tif\n",
      "Input file size is 7200, 2000\n",
      "0...10...20...30...40...50...60...70...80...90...100 - done.\n",
      "\n",
      "./Rainfall/Chirps_2023/PK/AOI_crop_monthly/chirps-v2.0.2023.09_PK_crop.tif\n",
      "Input file size is 7200, 2000\n",
      "0...10...20...30...40...50...60...70...80...90...100 - done.\n",
      "\n",
      "./Rainfall/Chirps_2023/PK/AOI_crop_monthly/chirps-v2.0.2023.10_PK_crop.tif\n",
      "Input file size is 7200, 2000\n",
      "0...10...20...30...40...50...60...70...80...90...100 - done.\n",
      "\n",
      "./Rainfall/Chirps_2023/PK/AOI_crop_monthly/chirps-v2.0.2023.11_PK_crop.tif\n",
      "Input file size is 7200, 2000\n",
      "0...10...20...30...40...50...60...70...80...90...100 - done.\n",
      "\n",
      "./Rainfall/Chirps_2023/PK/AOI_crop_monthly/chirps-v2.0.2023.12_PK_crop.tif\n",
      "Input file size is 7200, 2000\n",
      "0...10...20...30...40...50...60...70...80...90...100 - done.\n",
      "\n"
     ]
    }
   ],
   "source": [
    "# Loop through each global TIFF file\n",
    "for file_name in tiff_files:\n",
    "    \n",
    "    input_tif = os.path.join(data_config.DATA_DIR, file_name)\n",
    "    \n",
    "    # Construct the output file name based on the input file name\n",
    "    temp = '_' + case + \"_crop.tif\"\n",
    "    intermediate_tif = os.path.join(data_config.get_out_dir_crop(), os.path.splitext(file_name)[0] + temp)\n",
    "    print(intermediate_tif)\n",
    "    \n",
    "    # Crop the data to the specified AOI\n",
    "    gdal_crop(input_tif, intermediate_tif, ul_lon, ul_lat, lr_lon, lr_lat, False)"
   ]
  },
  {
   "cell_type": "markdown",
   "metadata": {},
   "source": [
    "### Confirm the Cropped Files"
   ]
  },
  {
   "cell_type": "code",
   "execution_count": 10,
   "metadata": {
    "scrolled": false
   },
   "outputs": [
    {
     "name": "stdout",
     "output_type": "stream",
     "text": [
      "./Rainfall/Chirps_2023/PK/AOI_crop_monthly/chirps-v2.0.2023.01_PK_crop.tif\n",
      "./Rainfall/Chirps_2023/PK/AOI_crop_monthly/chirps-v2.0.2023.02_PK_crop.tif\n",
      "./Rainfall/Chirps_2023/PK/AOI_crop_monthly/chirps-v2.0.2023.03_PK_crop.tif\n",
      "./Rainfall/Chirps_2023/PK/AOI_crop_monthly/chirps-v2.0.2023.04_PK_crop.tif\n",
      "./Rainfall/Chirps_2023/PK/AOI_crop_monthly/chirps-v2.0.2023.05_PK_crop.tif\n",
      "./Rainfall/Chirps_2023/PK/AOI_crop_monthly/chirps-v2.0.2023.06_PK_crop.tif\n",
      "./Rainfall/Chirps_2023/PK/AOI_crop_monthly/chirps-v2.0.2023.07_PK_crop.tif\n",
      "./Rainfall/Chirps_2023/PK/AOI_crop_monthly/chirps-v2.0.2023.08_PK_crop.tif\n",
      "./Rainfall/Chirps_2023/PK/AOI_crop_monthly/chirps-v2.0.2023.09_PK_crop.tif\n",
      "./Rainfall/Chirps_2023/PK/AOI_crop_monthly/chirps-v2.0.2023.10_PK_crop.tif\n",
      "./Rainfall/Chirps_2023/PK/AOI_crop_monthly/chirps-v2.0.2023.11_PK_crop.tif\n",
      "./Rainfall/Chirps_2023/PK/AOI_crop_monthly/chirps-v2.0.2023.12_PK_crop.tif\n"
     ]
    }
   ],
   "source": [
    "# List all the cropped TIFF files for the specified AOI\n",
    "cropped_files = sorted([os.path.join(data_config.get_out_dir_crop(), file) \n",
    "                        for file in os.listdir(data_config.get_out_dir_crop()) \n",
    "                        if file.endswith('.tif') or file.endswith('.tiff')])\n",
    "\n",
    "for file in cropped_files:\n",
    "    print(file)"
   ]
  },
  {
   "cell_type": "code",
   "execution_count": 11,
   "metadata": {},
   "outputs": [],
   "source": [
    "# run_gdalinfo('./Rainfall/Chirps_2023/PK/AOI_crop_monthly/chirps-v2.0.2023.06_PK_crop.tif')"
   ]
  },
  {
   "cell_type": "code",
   "execution_count": 19,
   "metadata": {},
   "outputs": [],
   "source": [
    "import rasterio\n",
    "import numpy as np\n",
    "import os\n",
    "from scipy.ndimage import distance_transform_edt, gaussian_filter\n",
    "from sklearn.feature_extraction.image import extract_patches_2d\n",
    "import shutil\n",
    "\n",
    "def impute_pixels(file_list, output_folder, filename_suffix=\"_imputed\", invalid_value=-9999, patch_size=10, overlap=3, blending_radius=15, \n",
    "                  enable_initial_interpolation=True, enable_smooth_coastline=True, enable_constrain_values=True, enable_smoothing=True,\n",
    "                  pass_through=False):\n",
    "    \n",
    "    def impute_rainfall(file_path, output_folder, filename_suffix, invalid_value, patch_size, overlap, blending_radius):\n",
    "        with rasterio.open(file_path) as src:\n",
    "            data = src.read(1)\n",
    "            profile = src.profile\n",
    "            \n",
    "            # Ensure patch size is smaller than the image dimensions\n",
    "            patch_size = min(patch_size, data.shape[0], data.shape[1])\n",
    "            \n",
    "            # Identify invalid pixels\n",
    "            invalid_mask = data == invalid_value\n",
    "            valid_mask = ~invalid_mask\n",
    "            \n",
    "            # Initial nearest-neighbor interpolation to fill gaps\n",
    "            if enable_initial_interpolation:\n",
    "                distance, indices = distance_transform_edt(invalid_mask, return_indices=True)\n",
    "                data_nn = data[tuple(indices)]\n",
    "                data[invalid_mask] = data_nn[invalid_mask]\n",
    "            else:\n",
    "                data_nn = data.copy()\n",
    "            \n",
    "            # Extract patches from valid regions\n",
    "            valid_data = data * valid_mask\n",
    "            patches = extract_patches_2d(valid_data, (patch_size, patch_size), max_patches=None)\n",
    "            \n",
    "            # Model the distribution of valid pixel values near the invalid regions\n",
    "            def get_local_stats(x, y, data, radius=10):\n",
    "                y_min = max(0, y - radius)\n",
    "                y_max = min(data.shape[0], y + radius)\n",
    "                x_min = max(0, x - radius)\n",
    "                x_max = min(data.shape[1], x + radius)\n",
    "                local_patch = data[y_min:y_max, x_min:x_max]\n",
    "                local_valid_values = local_patch[local_patch != invalid_value]\n",
    "                if local_valid_values.size == 0:\n",
    "                    return 0, 1  # Default mean and std\n",
    "                return local_valid_values.mean(), local_valid_values.std()\n",
    "            \n",
    "            # Randomize starting point\n",
    "            start_i = np.random.randint(0, patch_size - overlap)\n",
    "            start_j = np.random.randint(0, patch_size - overlap)\n",
    "            \n",
    "            # Reconstruct invalid regions using synthetic patches based on local statistics\n",
    "            for i in range(start_i, data.shape[0], patch_size - overlap):\n",
    "                for j in range(start_j, data.shape[1], patch_size - overlap):\n",
    "                    current_patch_size = patch_size + np.random.randint(-3, 4)\n",
    "                    i_end = min(i + current_patch_size, data.shape[0])\n",
    "                    j_end = min(j + current_patch_size, data.shape[1])\n",
    "                    block = data[i:i_end, j:j_end]\n",
    "                    block_invalid_mask = invalid_mask[i:i_end, j:j_end]\n",
    "                    if np.any(block_invalid_mask):\n",
    "                        local_mean, local_std = get_local_stats(i + current_patch_size // 2, j + current_patch_size // 2, data)\n",
    "                        synthetic_patch = np.random.normal(local_mean, local_std, block.shape)\n",
    "                        synthetic_patch = np.clip(synthetic_patch, local_mean - local_std, local_mean + local_std)\n",
    "                        block[block_invalid_mask] = synthetic_patch[block_invalid_mask]\n",
    "                        data[i:i_end, j:j_end] = block\n",
    "            \n",
    "            # Smooth the data locally within the blocks\n",
    "            if enable_smoothing:\n",
    "                for i in range(0, data.shape[0], patch_size - overlap):\n",
    "                    for j in range(0, data.shape[1], patch_size - overlap):\n",
    "                        current_patch_size = patch_size + np.random.randint(-3, 4)\n",
    "                        i_end = min(i + current_patch_size, data.shape[0])\n",
    "                        j_end = min(j + current_patch_size, data.shape[1])\n",
    "                        block = data[i:i_end, j:j_end]\n",
    "                        block_invalid_mask = invalid_mask[i:i_end, j:j_end]\n",
    "                        if np.any(block_invalid_mask):\n",
    "                            block = gaussian_filter(block, sigma=1)\n",
    "                            data[i:i_end, j:j_end] = block\n",
    "            \n",
    "            # Apply final blending at the boundary with increased radius\n",
    "            def final_blending(data, data_nn, invalid_mask, blending_radius):\n",
    "                distance = distance_transform_edt(~invalid_mask)\n",
    "                weights = np.clip(distance / blending_radius, 0, 1)\n",
    "                blended_data = data * (1 - weights) + data_nn * weights\n",
    "                return blended_data\n",
    "            \n",
    "            data = final_blending(data, data_nn, invalid_mask, blending_radius)\n",
    "            \n",
    "            # Apply stronger smoothing at the coastline\n",
    "            if enable_smooth_coastline:\n",
    "                def smooth_coastline(data, invalid_mask, valid_mask, radius=5):\n",
    "                    smoothed_data = data.copy()\n",
    "                    for i in range(data.shape[0]):\n",
    "                        for j in range(data.shape[1]):\n",
    "                            if invalid_mask[i, j] and any(valid_mask[max(0, i-radius):min(data.shape[0], i+radius), max(0, j-radius):min(data.shape[1], j+radius)].flatten()):\n",
    "                                local_patch = data[max(0, i-radius):min(data.shape[0], i+radius), max(0, j-radius):min(data.shape[1], j+radius)]\n",
    "                                valid_values = local_patch[local_patch != invalid_value]\n",
    "                                if valid_values.size > 0:\n",
    "                                    smoothed_data[i, j] = np.mean(valid_values)\n",
    "                    return smoothed_data\n",
    "                \n",
    "                data = smooth_coastline(data, invalid_mask, valid_mask)\n",
    "            \n",
    "            # Directly sample values from valid region to constrain imputed values\n",
    "            if enable_constrain_values:\n",
    "                def constrain_values(data, invalid_mask, valid_mask):\n",
    "                    constrained_data = data.copy()\n",
    "                    for i in range(data.shape[0]):\n",
    "                        for j in range(data.shape[1]):\n",
    "                            if invalid_mask[i, j]:\n",
    "                                valid_neighbors = data[max(0, i-1):min(data.shape[0], i+2), max(0, j-1):min(data.shape[1], j+2)]\n",
    "                                valid_values = valid_neighbors[valid_neighbors != invalid_value]\n",
    "                                if valid_values.size > 0:\n",
    "                                    constrained_data[i, j] = np.mean(valid_values)\n",
    "                    return constrained_data\n",
    "\n",
    "                data = constrain_values(data, invalid_mask, valid_mask)\n",
    "\n",
    "            # Save the output file with a configurable filename\n",
    "            base_name = os.path.basename(file_path)\n",
    "            name, ext = os.path.splitext(base_name)\n",
    "            output_path = os.path.join(output_folder, f\"{name}{filename_suffix}{ext}\")\n",
    "            \n",
    "            with rasterio.open(output_path, 'w', **profile) as dst:\n",
    "                dst.write(data, 1)\n",
    "            \n",
    "        return output_path\n",
    "    \n",
    "    # Ensure the output folder exists\n",
    "    if not os.path.exists(output_folder):\n",
    "        os.makedirs(output_folder)\n",
    "    \n",
    "    # Process each file in the list\n",
    "    for file_path in file_list:\n",
    "        if pass_through:\n",
    "            # Simply copy the input file to the output folder with the same filename\n",
    "            base_name = os.path.basename(file_path)\n",
    "            name, ext = os.path.splitext(base_name)\n",
    "            output_path = os.path.join(output_folder, f\"{name}{filename_suffix}{ext}\")\n",
    "            shutil.copyfile(file_path, output_path)\n",
    "            print(f\"Copied file to: {output_path}\")\n",
    "        else:\n",
    "            imputed_file = impute_rainfall(file_path, output_folder, filename_suffix, invalid_value, patch_size, overlap, blending_radius)\n",
    "            print(f\"Imputed file saved to: {imputed_file}\")\n"
   ]
  },
  {
   "cell_type": "code",
   "execution_count": 20,
   "metadata": {},
   "outputs": [],
   "source": [
    "output_folder = data_config.get_out_dir_impute()\n",
    "\n",
    "if not os.path.exists(output_folder):\n",
    "    os.makedirs(output_folder)"
   ]
  },
  {
   "cell_type": "code",
   "execution_count": 21,
   "metadata": {},
   "outputs": [
    {
     "name": "stdout",
     "output_type": "stream",
     "text": [
      "Imputed file saved to: ./Rainfall/Chirps_2023/PK/AOI_crop_monthly_impute/chirps-v2.0.2023.01_PK_crop_impute.tif\n",
      "Imputed file saved to: ./Rainfall/Chirps_2023/PK/AOI_crop_monthly_impute/chirps-v2.0.2023.02_PK_crop_impute.tif\n",
      "Imputed file saved to: ./Rainfall/Chirps_2023/PK/AOI_crop_monthly_impute/chirps-v2.0.2023.03_PK_crop_impute.tif\n",
      "Imputed file saved to: ./Rainfall/Chirps_2023/PK/AOI_crop_monthly_impute/chirps-v2.0.2023.04_PK_crop_impute.tif\n",
      "Imputed file saved to: ./Rainfall/Chirps_2023/PK/AOI_crop_monthly_impute/chirps-v2.0.2023.05_PK_crop_impute.tif\n",
      "Imputed file saved to: ./Rainfall/Chirps_2023/PK/AOI_crop_monthly_impute/chirps-v2.0.2023.06_PK_crop_impute.tif\n",
      "Imputed file saved to: ./Rainfall/Chirps_2023/PK/AOI_crop_monthly_impute/chirps-v2.0.2023.07_PK_crop_impute.tif\n",
      "Imputed file saved to: ./Rainfall/Chirps_2023/PK/AOI_crop_monthly_impute/chirps-v2.0.2023.08_PK_crop_impute.tif\n",
      "Imputed file saved to: ./Rainfall/Chirps_2023/PK/AOI_crop_monthly_impute/chirps-v2.0.2023.09_PK_crop_impute.tif\n",
      "Imputed file saved to: ./Rainfall/Chirps_2023/PK/AOI_crop_monthly_impute/chirps-v2.0.2023.10_PK_crop_impute.tif\n",
      "Imputed file saved to: ./Rainfall/Chirps_2023/PK/AOI_crop_monthly_impute/chirps-v2.0.2023.11_PK_crop_impute.tif\n",
      "Imputed file saved to: ./Rainfall/Chirps_2023/PK/AOI_crop_monthly_impute/chirps-v2.0.2023.12_PK_crop_impute.tif\n"
     ]
    }
   ],
   "source": [
    "impute_pixels(cropped_files, output_folder, '_impute', pass_through=False)"
   ]
  },
  {
   "cell_type": "markdown",
   "metadata": {},
   "source": [
    "## 4 Set NoData Values in the Cropped Monthly Sum Source Files\n",
    "\n",
    "Replace \"bad value\" pixels with NoData set to -999 for consistency with other data types."
   ]
  },
  {
   "cell_type": "code",
   "execution_count": 22,
   "metadata": {},
   "outputs": [
    {
     "name": "stdout",
     "output_type": "stream",
     "text": [
      "./Rainfall/Chirps_2023/PK/AOI_crop_monthly_impute/chirps-v2.0.2023.01_PK_crop_impute.tif\n",
      "./Rainfall/Chirps_2023/PK/AOI_crop_monthly_impute/chirps-v2.0.2023.02_PK_crop_impute.tif\n",
      "./Rainfall/Chirps_2023/PK/AOI_crop_monthly_impute/chirps-v2.0.2023.03_PK_crop_impute.tif\n",
      "./Rainfall/Chirps_2023/PK/AOI_crop_monthly_impute/chirps-v2.0.2023.04_PK_crop_impute.tif\n",
      "./Rainfall/Chirps_2023/PK/AOI_crop_monthly_impute/chirps-v2.0.2023.05_PK_crop_impute.tif\n",
      "./Rainfall/Chirps_2023/PK/AOI_crop_monthly_impute/chirps-v2.0.2023.06_PK_crop_impute.tif\n",
      "./Rainfall/Chirps_2023/PK/AOI_crop_monthly_impute/chirps-v2.0.2023.07_PK_crop_impute.tif\n",
      "./Rainfall/Chirps_2023/PK/AOI_crop_monthly_impute/chirps-v2.0.2023.08_PK_crop_impute.tif\n",
      "./Rainfall/Chirps_2023/PK/AOI_crop_monthly_impute/chirps-v2.0.2023.09_PK_crop_impute.tif\n",
      "./Rainfall/Chirps_2023/PK/AOI_crop_monthly_impute/chirps-v2.0.2023.10_PK_crop_impute.tif\n",
      "./Rainfall/Chirps_2023/PK/AOI_crop_monthly_impute/chirps-v2.0.2023.11_PK_crop_impute.tif\n",
      "./Rainfall/Chirps_2023/PK/AOI_crop_monthly_impute/chirps-v2.0.2023.12_PK_crop_impute.tif\n"
     ]
    }
   ],
   "source": [
    "imputed_files = sorted([os.path.join(data_config.get_out_dir_impute(), file) \n",
    "                        for file in os.listdir(data_config.get_out_dir_impute()) \n",
    "                        if file.endswith('.tif') or file.endswith('.tiff')])\n",
    "for file in imputed_files:\n",
    "    print(file)"
   ]
  },
  {
   "cell_type": "code",
   "execution_count": 23,
   "metadata": {
    "scrolled": false
   },
   "outputs": [
    {
     "name": "stdout",
     "output_type": "stream",
     "text": [
      "Creating output file that is 379P x 309L.\n",
      "Processing ./Rainfall/Chirps_2023/PK/AOI_crop_monthly_impute/chirps-v2.0.2023.01_PK_crop_impute.tif [1/1] : 0...10...20...30...40...50...60...70...80...90...100 - done.\n",
      "\n",
      "Processed file: chirps-v2.0.2023.01_PK_crop_impute_nodata.tif\n",
      "\n",
      "Creating output file that is 379P x 309L.\n",
      "Processing ./Rainfall/Chirps_2023/PK/AOI_crop_monthly_impute/chirps-v2.0.2023.02_PK_crop_impute.tif [1/1] : 0...10...20...30...40...50...60...70...80...90...100 - done.\n",
      "\n",
      "Processed file: chirps-v2.0.2023.02_PK_crop_impute_nodata.tif\n",
      "\n",
      "Creating output file that is 379P x 309L.\n",
      "Processing ./Rainfall/Chirps_2023/PK/AOI_crop_monthly_impute/chirps-v2.0.2023.03_PK_crop_impute.tif [1/1] : 0...10...20...30...40...50...60...70...80...90...100 - done.\n",
      "\n",
      "Processed file: chirps-v2.0.2023.03_PK_crop_impute_nodata.tif\n",
      "\n",
      "Creating output file that is 379P x 309L.\n",
      "Processing ./Rainfall/Chirps_2023/PK/AOI_crop_monthly_impute/chirps-v2.0.2023.04_PK_crop_impute.tif [1/1] : 0...10...20...30...40...50...60...70...80...90...100 - done.\n",
      "\n",
      "Processed file: chirps-v2.0.2023.04_PK_crop_impute_nodata.tif\n",
      "\n",
      "Creating output file that is 379P x 309L.\n",
      "Processing ./Rainfall/Chirps_2023/PK/AOI_crop_monthly_impute/chirps-v2.0.2023.05_PK_crop_impute.tif [1/1] : 0...10...20...30...40...50...60...70...80...90...100 - done.\n",
      "\n",
      "Processed file: chirps-v2.0.2023.05_PK_crop_impute_nodata.tif\n",
      "\n",
      "Creating output file that is 379P x 309L.\n",
      "Processing ./Rainfall/Chirps_2023/PK/AOI_crop_monthly_impute/chirps-v2.0.2023.06_PK_crop_impute.tif [1/1] : 0...10...20...30...40...50...60...70...80...90...100 - done.\n",
      "\n",
      "Processed file: chirps-v2.0.2023.06_PK_crop_impute_nodata.tif\n",
      "\n",
      "Creating output file that is 379P x 309L.\n",
      "Processing ./Rainfall/Chirps_2023/PK/AOI_crop_monthly_impute/chirps-v2.0.2023.07_PK_crop_impute.tif [1/1] : 0...10...20...30...40...50...60...70...80...90...100 - done.\n",
      "\n",
      "Processed file: chirps-v2.0.2023.07_PK_crop_impute_nodata.tif\n",
      "\n",
      "Creating output file that is 379P x 309L.\n",
      "Processing ./Rainfall/Chirps_2023/PK/AOI_crop_monthly_impute/chirps-v2.0.2023.08_PK_crop_impute.tif [1/1] : 0...10...20...30...40...50...60...70...80...90...100 - done.\n",
      "\n",
      "Processed file: chirps-v2.0.2023.08_PK_crop_impute_nodata.tif\n",
      "\n",
      "Creating output file that is 379P x 309L.\n",
      "Processing ./Rainfall/Chirps_2023/PK/AOI_crop_monthly_impute/chirps-v2.0.2023.09_PK_crop_impute.tif [1/1] : 0...10...20...30...40...50...60...70...80...90...100 - done.\n",
      "\n",
      "Processed file: chirps-v2.0.2023.09_PK_crop_impute_nodata.tif\n",
      "\n",
      "Creating output file that is 379P x 309L.\n",
      "Processing ./Rainfall/Chirps_2023/PK/AOI_crop_monthly_impute/chirps-v2.0.2023.10_PK_crop_impute.tif [1/1] : 0...10...20...30...40...50...60...70...80...90...100 - done.\n",
      "\n",
      "Processed file: chirps-v2.0.2023.10_PK_crop_impute_nodata.tif\n",
      "\n",
      "Creating output file that is 379P x 309L.\n",
      "Processing ./Rainfall/Chirps_2023/PK/AOI_crop_monthly_impute/chirps-v2.0.2023.11_PK_crop_impute.tif [1/1] : 0...10...20...30...40...50...60...70...80...90...100 - done.\n",
      "\n",
      "Processed file: chirps-v2.0.2023.11_PK_crop_impute_nodata.tif\n",
      "\n",
      "Creating output file that is 379P x 309L.\n",
      "Processing ./Rainfall/Chirps_2023/PK/AOI_crop_monthly_impute/chirps-v2.0.2023.12_PK_crop_impute.tif [1/1] : 0...10...20...30...40...50...60...70...80...90...100 - done.\n",
      "\n",
      "Processed file: chirps-v2.0.2023.12_PK_crop_impute_nodata.tif\n",
      "\n"
     ]
    }
   ],
   "source": [
    "processed_files = []\n",
    "    \n",
    "for imputed_file in imputed_files:\n",
    "    \n",
    "    # Split the filename from its extension\n",
    "    base_name, extension = os.path.splitext(os.path.basename(imputed_file))\n",
    "    \n",
    "    # Append the suffix before the extension\n",
    "    new_base_name = f\"{base_name}{'_nodata'}{extension}\"\n",
    "    \n",
    "    # Create the full path for the output file\n",
    "    output_tif = os.path.join(data_config.get_out_dir_nodata(), new_base_name)\n",
    "    \n",
    "    # Set NoData values for each file ()\n",
    "    gdal_set_nodata(imputed_file, output_tif, data_config.BAD_VALUES, data_config.NODATA_SET, False)\n",
    "    \n",
    "    processed_files.append(output_tif)\n",
    "    \n",
    "    print(f\"Processed file: {os.path.basename(output_tif)}\\n\")"
   ]
  },
  {
   "cell_type": "markdown",
   "metadata": {},
   "source": [
    "## 5 Compute the Yearly Sum"
   ]
  },
  {
   "cell_type": "code",
   "execution_count": 24,
   "metadata": {
    "scrolled": false
   },
   "outputs": [
    {
     "name": "stdout",
     "output_type": "stream",
     "text": [
      "./Rainfall/Chirps_2023/PK/AOI_crop_monthly_nodata/chirps-v2.0.2023.01_PK_crop_impute_nodata.tif\n",
      "./Rainfall/Chirps_2023/PK/AOI_crop_monthly_nodata/chirps-v2.0.2023.02_PK_crop_impute_nodata.tif\n",
      "./Rainfall/Chirps_2023/PK/AOI_crop_monthly_nodata/chirps-v2.0.2023.03_PK_crop_impute_nodata.tif\n",
      "./Rainfall/Chirps_2023/PK/AOI_crop_monthly_nodata/chirps-v2.0.2023.04_PK_crop_impute_nodata.tif\n",
      "./Rainfall/Chirps_2023/PK/AOI_crop_monthly_nodata/chirps-v2.0.2023.05_PK_crop_impute_nodata.tif\n",
      "./Rainfall/Chirps_2023/PK/AOI_crop_monthly_nodata/chirps-v2.0.2023.06_PK_crop_impute_nodata.tif\n",
      "./Rainfall/Chirps_2023/PK/AOI_crop_monthly_nodata/chirps-v2.0.2023.07_PK_crop_impute_nodata.tif\n",
      "./Rainfall/Chirps_2023/PK/AOI_crop_monthly_nodata/chirps-v2.0.2023.08_PK_crop_impute_nodata.tif\n",
      "./Rainfall/Chirps_2023/PK/AOI_crop_monthly_nodata/chirps-v2.0.2023.09_PK_crop_impute_nodata.tif\n",
      "./Rainfall/Chirps_2023/PK/AOI_crop_monthly_nodata/chirps-v2.0.2023.10_PK_crop_impute_nodata.tif\n",
      "./Rainfall/Chirps_2023/PK/AOI_crop_monthly_nodata/chirps-v2.0.2023.11_PK_crop_impute_nodata.tif\n",
      "./Rainfall/Chirps_2023/PK/AOI_crop_monthly_nodata/chirps-v2.0.2023.12_PK_crop_impute_nodata.tif\n"
     ]
    }
   ],
   "source": [
    "# List all the cropped TIFF files\n",
    "cropped_nodata_files = sorted([os.path.join(data_config.get_out_dir_nodata(), file) \n",
    "                        for file in os.listdir(data_config.get_out_dir_nodata()) \n",
    "                        if file.endswith('.tif') or file.endswith('.tiff')])\n",
    "\n",
    "for file in cropped_nodata_files:\n",
    "    print(file)"
   ]
  },
  {
   "cell_type": "code",
   "execution_count": 25,
   "metadata": {},
   "outputs": [],
   "source": [
    "# run_gdalinfo('./Rainfall/Chirps_2023/PK/AOI_crop_monthly/chirps-v2.0.2023.06_PK_crop.tif')"
   ]
  },
  {
   "cell_type": "code",
   "execution_count": 26,
   "metadata": {},
   "outputs": [
    {
     "name": "stdout",
     "output_type": "stream",
     "text": [
      "Sum of rasters successfully saved to: ./Rainfall/Chirps_2023/PK/AOI_crop_daily/chirps-v2.0.2023_PK_sum.tif\n",
      "Output from command:\n",
      "0...10...20...30...40...50...60...70...80...90...100 - done.\n",
      "\n"
     ]
    }
   ],
   "source": [
    "# Compute the yearly sum\n",
    "sum_rasters(cropped_nodata_files, output_sum, nodata_value=data_config.NODATA_SET)"
   ]
  },
  {
   "cell_type": "markdown",
   "metadata": {},
   "source": [
    "## 6 Compute the Daily Average"
   ]
  },
  {
   "cell_type": "code",
   "execution_count": 27,
   "metadata": {},
   "outputs": [
    {
     "name": "stdout",
     "output_type": "stream",
     "text": [
      "Average operation successfully saved to: ./Rainfall/Chirps_2023/PK/AOI_crop_daily/chirps-v2.0.2023_PK_avg.tif\n",
      "Output from command:\n",
      "0...10...20...30...40...50...60...70...80...90...100 - done.\n",
      "\n"
     ]
    }
   ],
   "source": [
    "# Set the input file to the sum computed above\n",
    "input_file = output_sum\n",
    "\n",
    "# Compute the daily average\n",
    "average_raster(input_file, output_avg, divisor=365, nodata_value=data_config.NODATA_SET)"
   ]
  },
  {
   "cell_type": "code",
   "execution_count": null,
   "metadata": {},
   "outputs": [],
   "source": []
  },
  {
   "cell_type": "code",
   "execution_count": null,
   "metadata": {},
   "outputs": [],
   "source": []
  },
  {
   "cell_type": "code",
   "execution_count": null,
   "metadata": {},
   "outputs": [],
   "source": []
  }
 ],
 "metadata": {
  "kernelspec": {
   "display_name": "Python (py39-pt)",
   "language": "python",
   "name": "clone_env"
  },
  "language_info": {
   "codemirror_mode": {
    "name": "ipython",
    "version": 3
   },
   "file_extension": ".py",
   "mimetype": "text/x-python",
   "name": "python",
   "nbconvert_exporter": "python",
   "pygments_lexer": "ipython3",
   "version": "3.9.18"
  }
 },
 "nbformat": 4,
 "nbformat_minor": 4
}
