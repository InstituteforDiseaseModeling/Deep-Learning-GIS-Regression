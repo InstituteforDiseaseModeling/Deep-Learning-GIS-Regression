{
 "cells": [
  {
   "cell_type": "markdown",
   "metadata": {},
   "source": [
    "# GIS Image Stack Pre-Processing \n",
    "\n",
    "This notebook implements a processing pipeline to transform globally available data types into spatially aligned image stacks with uniform pixel sizes which involve the following steps. The image stack is represented as individual GeoTiff files for each data type that are cropped to an Area of Interest (AOI), specifically a UTM zone, and resampled at teh same pixel resolution. The filesystem structure is organized as described below.\n",
    "\n",
    "This notebook produces an output folder for each data type of the form `PK_42N` and withing that folder are four GeoTiff files that represent the four processing stages implemented in this notebook (number 1 to 4). The forth file is the final output GeoTiff which represents the cropped and resampled raster data that constitutes a single layer in the image stack. \n",
    "\n",
    "## Expected File System Structure (for PK Zone 42N)\n",
    "\n",
    "There is a folder for each data type at the same level as this notebook <code>prep_geospatial_data.ipynb</code>. With the exception of the Rainfall data which has a folder structure for the specified country and UTM zone, the other data types contain a global GeoTiff file directly within the data type folder that is used as input for this notebook. For all data types, output folders are created that indicate the two-letter country code followed by the UTM zone (e.g., PK_42N). The output from this notebook are cropped and resampled GeoTiff files that constitute a single layer in the image stack. These files will be used to create AOI image tiles using a separate notebook <code>prep_aoi_image_tiles.ipynb</code>\n",
    "\n",
    "<!-- <code><span style=\"color: blue;\">Flood/</span>\n",
    "&nbsp;&nbsp;&nbsp;&nbsp;<span style=\"color: green;\">landscan-global-2022.tif</span>\n",
    "&nbsp;&nbsp;&nbsp;&nbsp;<span style=\"color: red;\">output/PK_42N</span>\n",
    "<br>\n",
    "<span style=\"color: blue;\">Landcover/</span>\n",
    "&nbsp;&nbsp;&nbsp;&nbsp;<span style=\"color: green;\">esalc_2020.tif</span>\n",
    "&nbsp;&nbsp;&nbsp;&nbsp;<span style=\"color: red;\">output/PK_42N</span>\n",
    "<br> -->\n",
    "<code><span style=\"color: blue;\">Nightlights/</span>\n",
    "&nbsp;&nbsp;&nbsp;&nbsp;<span style=\"color: green;\">VNL_v22_npp-j01_2022_global_vcmslcfg_c202303062300_median.tif</span>\n",
    "&nbsp;&nbsp;&nbsp;&nbsp;<span style=\"color: red;\">output/PK_42N/</span>\n",
    "&nbsp;&nbsp;&nbsp;&nbsp;&nbsp;&nbsp;<span style=\"color: blue;\">VNL_v22_npp-j01_2022_global_vcmslcfg_median_PK_42N_4_resampled_average.tif</span>\n",
    "<br>\n",
    "<span style=\"color: blue;\">Population/</span>\n",
    "&nbsp;&nbsp;&nbsp;&nbsp;<span style=\"color: green;\">landscan-global-2022.tif</span>\n",
    "&nbsp;&nbsp;&nbsp;&nbsp;<span style=\"color: red;\">output/PK_42N/</span>\n",
    "&nbsp;&nbsp;&nbsp;&nbsp;&nbsp;&nbsp;<span style=\"color: blue;\">landscan-global-2022_PK_42N_4_resampled_average.tif</span>\n",
    "<br>\n",
    "<span style=\"color: blue;\">Rainfall/</span>\n",
    "&nbsp;&nbsp;&nbsp;&nbsp;<span style=\"color: green;\">Chirps_2023/PK_42N/output/chirps-v2.0.2023_PK_42N_avg.tif</span>\n",
    "&nbsp;&nbsp;&nbsp;&nbsp;<span style=\"color: red;\">output/PK_42N</span>\n",
    "&nbsp;&nbsp;&nbsp;&nbsp;&nbsp;&nbsp;<span style=\"color: blue;\">chirps-v2.0.2023_PK_42N_avg_PK_42N_4_resampled_average.tif</span></code>\n",
    "\n",
    "\n",
    "\n",
    "<!-- - **Crop Data to UTM Zone**: Crop the (geographic) source data to the appropriate UTM zone that encompasses the region of interest (adding a +/- 1 deg buffer in longitude). Adding a buffer is necessary to enable image tiles near the border to be created.\n",
    "- **Standardize NoData / NaN Values**: Replace NoData values and NaNs with a fixed value to ensures consistency across data types and to facilitate pixel imputation. \n",
    "- **Pixel Imputation (for NoData)**: This step is required to infill pixels that do not contain valid data, but requires further investigation to determine the appropriate sequence in the processing pipeline and the algorithm for pixel value imputation.\n",
    "- **Transform the Geographic Data to UTM**: Transform the geographic data to UTM using the appropriate UTM zone.\n",
    "- **Resample Data** : Resample each data type to a consistent pixel size. -->\n",
    "\n",
    "\n",
    "## UTM Zones for Reference\n",
    "\n",
    "```\n",
    "EPSG:32628  28N\t 18°W to 12°W\n",
    "EPSG:32629  29N\t 12°W to 6°W\n",
    "EPSG:32630  30N\t 6°W  to 0°\n",
    "EPSG:32631  31N\t 0°   to 6°E\n",
    "EPSG:32632  32N  6°E  to 12°E\n",
    "EPSG:32633  33N  12°E to 18°E\n",
    "EPSG:32634  34N\t 18°E to 24°E\n",
    "EPSG:32635  35N\t 24°E to 30°E\n",
    "EPSG:32636  36N\t 30°E to 36°E\n",
    "EPSG:32637  37N\t 36°E to 42°E\n",
    "EPSG:32638  38N\t 42°E to 48°E\n",
    "EPSG:32639  39N\t 48°E to 54°E\n",
    "EPSG:32640  40N\t 54°E to 60°E\n",
    "EPSG:32641  41N\t 60°E to 66°E\n",
    "EPSG:32642  42N\t 66°E to 72°E\n",
    "EPSG:32643  43N\t 72°E to 78°E\n",
    "EPSG:32644  44N\t 78°E to 84°E\n",
    "EPSG:32645  45N\t 84°E to 90°E\n",
    "```"
   ]
  },
  {
   "cell_type": "code",
   "execution_count": 1,
   "metadata": {},
   "outputs": [],
   "source": [
    "import os\n",
    "from dataclasses import dataclass\n",
    "\n",
    "# Import module that contains several convenience functions (e.g., gdal wrappers)\n",
    "from gist_utils import *\n",
    "\n",
    "# Adding path to gdal commands for local system\n",
    "os.environ['PATH'] += ':/Users/billk/miniforge3/envs/py39-pt/bin/' "
   ]
  },
  {
   "cell_type": "markdown",
   "metadata": {},
   "source": [
    "## 1 Set Country Code and UTM Zone\n",
    "\n",
    "The only input settings required in this notebook are the two-letter country code, UTM zone, and the latitude band for the specified UTM zone."
   ]
  },
  {
   "cell_type": "code",
   "execution_count": 2,
   "metadata": {},
   "outputs": [],
   "source": [
    "country_code  = 'PK'\n",
    "utm_zone      = '42N'\n",
    "utm_code = get_epsg_code(utm_zone)\n",
    "\n",
    "case = country_code + '_' + utm_zone "
   ]
  },
  {
   "cell_type": "markdown",
   "metadata": {},
   "source": [
    "## 2 Configure Data Type\n",
    "\n",
    "This notebook is intended to be executed for a single data type at a time. Each of the data classes below can be pre-configured, and then in the following section, a single data type can be specified for execution which will produce intermediate output (*.tif ) files leading up to the final processed GeoTiff. "
   ]
  },
  {
   "cell_type": "code",
   "execution_count": 3,
   "metadata": {},
   "outputs": [],
   "source": [
    "@dataclass(frozen=True)\n",
    "class DatasetConfig_Flood:                  \n",
    "    INPUT_TIF:    str  = \"./dfo_3696_from_20100727_to_20101115_band5.tif\"     \n",
    "    OUT_DIR:      str  = \"./Flood/output/{country_code}_{utm_zone}/\"    # Output folder to store processed data     \n",
    "    NODATA_SRC:   int  = -999                                           # NoData value in src data  \n",
    "    NODATA_SET:   int  = -999                                           # NoData value to fill in processed data     \n",
    "    RESAMPLE_ALG: str  = 'mode'\n",
    "    GDAL_INFO:    bool = True\n",
    "    \n",
    "    def get_input_tif(self):\n",
    "        return self.INPUT_TIF.format(country_code=self.COUNTRY_CODE, utm_zone=self.UTM_ZONE)\n",
    "    \n",
    "    def get_out_dir(self):\n",
    "        return self.OUT_DIR.format(country_code=self.COUNTRY_CODE, utm_zone=self.UTM_ZONE)"
   ]
  },
  {
   "cell_type": "code",
   "execution_count": 4,
   "metadata": {},
   "outputs": [],
   "source": [
    "@dataclass(frozen=True)\n",
    "class DatasetConfig_Landcover:                  \n",
    "    INPUT_TIF:    str  = \"./esalc_2020.tif\"      \n",
    "    OUT_DIR:      str  = \"./Landcover/output/{country_code}_{utm_zone}/\"   # Output folder to store processed data\n",
    "    NODATA_SRC:   int = -999                                               # NoData value in src data  \n",
    "    NODATA_SRC:   int  = -999                                              # NoData value to fill in processed data     \n",
    "    NODATA_SET:   int  = -999  \n",
    "    RESAMPLE_ALG: str  = 'mode'     \n",
    "    GDAL_INFO:    bool = False\n",
    "        \n",
    "    def get_input_tif(self):\n",
    "        return self.INPUT_TIF.format(country_code=self.COUNTRY_CODE, utm_zone=self.UTM_ZONE)\n",
    "    \n",
    "    def get_out_dir(self):\n",
    "        return self.OUT_DIR.format(country_code=self.COUNTRY_CODE, utm_zone=self.UTM_ZONE)"
   ]
  },
  {
   "cell_type": "code",
   "execution_count": 5,
   "metadata": {},
   "outputs": [],
   "source": [
    "@dataclass(frozen=True)\n",
    "class DatasetConfig_Nightlights:\n",
    "    COUNTRY_CODE: str  \n",
    "    UTM_ZONE:     str\n",
    "    INPUT_TIF:    str = \"./Nightlights/VNL_v22_npp-j01_2022_global_vcmslcfg_median.tif\"  # Source data GeoTiff \n",
    "    OUT_DIR:      str = \"./Nightlights/output/{country_code}_{utm_zone}/\"                # Output folder to store processed data\n",
    "    NODATA_SRC:   int = -999                                                             # NoData value in src data  \n",
    "    NODATA_SRC:   int = -999                                                             # NoData value to fill in processed data\n",
    "    NODATA_SET:   int = -999                                                             \n",
    "    RESAMPLE_ALG: str = 'average'\n",
    "    GDAL_INFO:   bool = False\n",
    "        \n",
    "    def get_input_tif(self):\n",
    "        return self.INPUT_TIF.format(country_code=self.COUNTRY_CODE, utm_zone=self.UTM_ZONE)\n",
    "    \n",
    "    def get_out_dir(self):\n",
    "        return self.OUT_DIR.format(country_code=self.COUNTRY_CODE, utm_zone=self.UTM_ZONE)"
   ]
  },
  {
   "cell_type": "code",
   "execution_count": 6,
   "metadata": {},
   "outputs": [],
   "source": [
    "@dataclass(frozen=True)\n",
    "class DatasetConfig_Population:\n",
    "    COUNTRY_CODE: str  \n",
    "    UTM_ZONE:     str\n",
    "    INPUT_TIF:    str = \"./Population/landscan-global-2022.tif\"           # Source data GeoTiff\n",
    "    OUT_DIR:      str = \"./Population/output/{country_code}_{utm_zone}/\"  # Output folder to store processed data\n",
    "    NODATA_SRC:   int = -2147483647                                       # NoData value in src data  \n",
    "    NODATA_SET:   int = -999                                              # NoData value to fill in processed data\n",
    "    RESAMPLE_ALG: str = 'average'\n",
    "    GDAL_INFO:    bool = False\n",
    "        \n",
    "    def get_input_tif(self):\n",
    "        return self.INPUT_TIF.format(country_code=self.COUNTRY_CODE, utm_zone=self.UTM_ZONE)\n",
    "    \n",
    "    def get_out_dir(self):\n",
    "        return self.OUT_DIR.format(country_code=self.COUNTRY_CODE, utm_zone=self.UTM_ZONE)"
   ]
  },
  {
   "cell_type": "code",
   "execution_count": 7,
   "metadata": {},
   "outputs": [],
   "source": [
    "@dataclass(frozen=True)\n",
    "class DatasetConfig_Rainfall:\n",
    "    COUNTRY_CODE: str  \n",
    "    UTM_ZONE:     str                     \n",
    "    INPUT_TIF:    str   = \"./Rainfall/Chirps_2023/{country_code}_{utm_zone}/output/chirps-v2.0.2023_{country_code}_{utm_zone}_avg.tif\"     \n",
    "    OUT_DIR:      str   = \"./Rainfall/output/{country_code}_{utm_zone}/\"           \n",
    "    NODATA_SRC:   float = 3.4028234663852886e+38                   \n",
    "    NODATA_SET:   int   = -999 \n",
    "    RESAMPLE_ALG: str   = 'average'\n",
    "    GDAL_INFO:    bool  = True\n",
    "        \n",
    "    def get_input_tif(self):\n",
    "        return self.INPUT_TIF.format(country_code=self.COUNTRY_CODE, utm_zone=self.UTM_ZONE)\n",
    "    \n",
    "    def get_out_dir(self):\n",
    "        return self.OUT_DIR.format(country_code=self.COUNTRY_CODE, utm_zone=self.UTM_ZONE)"
   ]
  },
  {
   "cell_type": "markdown",
   "metadata": {},
   "source": [
    "## 3 Configure AOI\n",
    "\n",
    "The AOI data class below is used to configure the AOI for all the data types which serves to specify the cropped region for the image stack along with the re-sampling size in meters. The UTM zone and latitude boundaries are determined visually by inspecting the rgeion of interest (e.g, country) and the associated DHS survery data locations."
   ]
  },
  {
   "cell_type": "code",
   "execution_count": 8,
   "metadata": {},
   "outputs": [],
   "source": [
    "@dataclass(frozen=True)\n",
    "class AOIConfig:\n",
    "    UTM_CODE:    str                         \n",
    "    RESAMPLE:    float = 400                       # Resample data in UTM x & y (meters)\n",
    "    UTM_BUF_DEG:   int = 1.0                       # Extended buffer in deg longitude beyond UTM zone\n",
    "    LAT_NORTH:   float = 38.0                      # Define max latitude for AOI\n",
    "    LAT_SOUTH:   float = 23.0                      # Define min latitude for AOI\n",
    "\n",
    "#-------------------------------------------------------------------\n",
    "# Configure data type here (uncomment one line from the list below)\n",
    "#-------------------------------------------------------------------\n",
    "#data_config = DatasetConfig_Flood(COUNTRY_CODE=country_code, UTM_ZONE=utm_zone)\n",
    "#data_config = DatasetConfig_Landcover(COUNTRY_CODE=country_code, UTM_ZONE=utm_zone)\n",
    "#data_config = DatasetConfig_Nightlights(COUNTRY_CODE=country_code, UTM_ZONE=utm_zone)\n",
    "\n",
    "#data_config = DatasetConfig_Population(COUNTRY_CODE=country_code, UTM_ZONE=utm_zone)\n",
    "#data_config = DatasetConfig_Nightlights(COUNTRY_CODE=country_code, UTM_ZONE=utm_zone)\n",
    "data_config = DatasetConfig_Rainfall(COUNTRY_CODE=country_code, UTM_ZONE=utm_zone)\n",
    "\n",
    "aoi_config  = AOIConfig(UTM_CODE=utm_code)\n",
    "\n",
    "if not os.path.exists(data_config.get_out_dir()):\n",
    "    os.makedirs(data_config.get_out_dir())"
   ]
  },
  {
   "cell_type": "markdown",
   "metadata": {},
   "source": [
    "##  Information Summary: Source Data"
   ]
  },
  {
   "cell_type": "code",
   "execution_count": 9,
   "metadata": {
    "scrolled": false
   },
   "outputs": [
    {
     "name": "stdout",
     "output_type": "stream",
     "text": [
      "Driver: GTiff/GeoTIFF\n",
      "Files: ./Rainfall/Chirps_2023/PK_42N/output/chirps-v2.0.2023_PK_42N_avg.tif\n",
      "Size is 160, 300\n",
      "Coordinate System is:\n",
      "GEOGCRS[\"WGS 84\",\n",
      "    ENSEMBLE[\"World Geodetic System 1984 ensemble\",\n",
      "        MEMBER[\"World Geodetic System 1984 (Transit)\"],\n",
      "        MEMBER[\"World Geodetic System 1984 (G730)\"],\n",
      "        MEMBER[\"World Geodetic System 1984 (G873)\"],\n",
      "        MEMBER[\"World Geodetic System 1984 (G1150)\"],\n",
      "        MEMBER[\"World Geodetic System 1984 (G1674)\"],\n",
      "        MEMBER[\"World Geodetic System 1984 (G1762)\"],\n",
      "        MEMBER[\"World Geodetic System 1984 (G2139)\"],\n",
      "        ELLIPSOID[\"WGS 84\",6378137,298.257223563,\n",
      "            LENGTHUNIT[\"metre\",1]],\n",
      "        ENSEMBLEACCURACY[2.0]],\n",
      "    PRIMEM[\"Greenwich\",0,\n",
      "        ANGLEUNIT[\"degree\",0.0174532925199433]],\n",
      "    CS[ellipsoidal,2],\n",
      "        AXIS[\"geodetic latitude (Lat)\",north,\n",
      "            ORDER[1],\n",
      "            ANGLEUNIT[\"degree\",0.0174532925199433]],\n",
      "        AXIS[\"geodetic longitude (Lon)\",east,\n",
      "            ORDER[2],\n",
      "            ANGLEUNIT[\"degree\",0.0174532925199433]],\n",
      "    USAGE[\n",
      "        SCOPE[\"Horizontal component of 3D system.\"],\n",
      "        AREA[\"World.\"],\n",
      "        BBOX[-90,-180,90,180]],\n",
      "    ID[\"EPSG\",4326]]\n",
      "Data axis to CRS axis mapping: 2,1\n",
      "Origin = (65.000003650784492,37.999999821186066)\n",
      "Pixel Size = (0.050000000745058,-0.050000000745058)\n",
      "Metadata:\n",
      "  AREA_OR_POINT=Area\n",
      "Image Structure Metadata:\n",
      "  INTERLEAVE=BAND\n",
      "Corner Coordinates:\n",
      "Upper Left  (  65.0000037,  37.9999998) ( 65d 0' 0.01\"E, 38d 0' 0.00\"N)\n",
      "Lower Left  (  65.0000037,  22.9999996) ( 65d 0' 0.01\"E, 23d 0' 0.00\"N)\n",
      "Upper Right (  73.0000038,  37.9999998) ( 73d 0' 0.01\"E, 38d 0' 0.00\"N)\n",
      "Lower Right (  73.0000038,  22.9999996) ( 73d 0' 0.01\"E, 23d 0' 0.00\"N)\n",
      "Center      (  69.0000037,  30.4999997) ( 69d 0' 0.01\"E, 30d30' 0.00\"N)\n",
      "Band 1 Block=160x12 Type=Float32, ColorInterp=Gray\n",
      "    Computed Min/Max=-328.734,4.518\n",
      "  NoData Value=3.4028235e+38\n",
      "\n"
     ]
    }
   ],
   "source": [
    "if data_config.GDAL_INFO:\n",
    "    run_gdalinfo(data_config.get_input_tif())"
   ]
  },
  {
   "cell_type": "markdown",
   "metadata": {},
   "source": [
    "##  4 Crop Data to AOI (UTM Zone) \n",
    "Crop the source data to the appropriate UTM zone with a buffer in longitude. Adding a buffer is necessary to enable image tiles near the border to be created."
   ]
  },
  {
   "cell_type": "code",
   "execution_count": 10,
   "metadata": {
    "scrolled": true
   },
   "outputs": [
    {
     "name": "stdout",
     "output_type": "stream",
     "text": [
      "epsg_code:  EPSG:32642\n",
      "\n",
      "\n",
      "Upper Left Lat: 38.0\n",
      "Upper Left Lon: 65.0\n",
      "Lower Right Lat: 23.0\n",
      "Lower Right Lon: 73.0\n"
     ]
    }
   ],
   "source": [
    "# Define the longitude booundaries for the specified UTM zone\n",
    "utm_west_lon, utm_east_lon = utm_zone_longitude_bounds(aoi_config.UTM_CODE)\n",
    "\n",
    "# Define AOI to encompass local UTM zone (+/- small buffer). Choose latitude to cover data for region\n",
    "ul_lat, ul_lon = aoi_config.LAT_NORTH, utm_west_lon - aoi_config.UTM_BUF_DEG\n",
    "lr_lat, lr_lon = aoi_config.LAT_SOUTH, utm_east_lon + aoi_config.UTM_BUF_DEG\n",
    "\n",
    "# Print the results\n",
    "print(\"\\n\")\n",
    "print(f\"Upper Left Lat: {ul_lat}\")\n",
    "print(f\"Upper Left Lon: {ul_lon}\")\n",
    "print(f\"Lower Right Lat: {lr_lat}\")\n",
    "print(f\"Lower Right Lon: {lr_lon}\")"
   ]
  },
  {
   "cell_type": "code",
   "execution_count": 11,
   "metadata": {
    "scrolled": true
   },
   "outputs": [
    {
     "name": "stdout",
     "output_type": "stream",
     "text": [
      "input_tif:           ./Rainfall/Chirps_2023/PK_42N/output/chirps-v2.0.2023_PK_42N_avg.tif\n",
      "\n",
      "\n",
      "intermediate_tif:    ./Rainfall/output/PK_42N/chirps-v2.0.2023_PK_42N_avg_PK_42N_1_crop_geo.tif\n",
      "\n",
      "\n",
      "Input file size is 160, 300\n",
      "0...10...20...30...40...50...60...70...80...90...100 - done.\n",
      "\n"
     ]
    }
   ],
   "source": [
    "# First, extract just the filename from the input TIFF path, removing the directory structure.\n",
    "input_tif = data_config.get_input_tif()\n",
    "input_tif_filename = os.path.basename(data_config.get_input_tif())\n",
    "\n",
    "step = \"_\" + case + \"_1_crop_geo.tif\"\n",
    "\n",
    "intermediate_tif = os.path.join(data_config.get_out_dir(), os.path.splitext(input_tif_filename)[0] + step)\n",
    "\n",
    "print(\"input_tif:          \", input_tif)\n",
    "print(\"\\n\")\n",
    "print(\"intermediate_tif:   \", intermediate_tif)\n",
    "print(\"\\n\")\n",
    "\n",
    "gdal_crop(input_tif, intermediate_tif, ul_lon, ul_lat, lr_lon, lr_lat, False)"
   ]
  },
  {
   "cell_type": "markdown",
   "metadata": {},
   "source": [
    "##  5 Set NoData Value"
   ]
  },
  {
   "cell_type": "code",
   "execution_count": 12,
   "metadata": {},
   "outputs": [
    {
     "name": "stdout",
     "output_type": "stream",
     "text": [
      "input_tif:         ./Rainfall/output/PK_42N/chirps-v2.0.2023_PK_42N_avg_PK_42N_1_crop_geo.tif\n",
      "\n",
      "\n",
      "intermediate_tif:  ./Rainfall/output/PK_42N/chirps-v2.0.2023_PK_42N_avg_PK_42N_2_nodata.tif\n",
      "\n",
      "\n",
      "Creating output file that is 160P x 300L.\n",
      "Processing ./Rainfall/output/PK_42N/chirps-v2.0.2023_PK_42N_avg_PK_42N_1_crop_geo.tif [1/1] : 0...10...20...30...40...50...60...70...80...90...100 - done.\n",
      "\n"
     ]
    }
   ],
   "source": [
    "input_tif = intermediate_tif \n",
    "\n",
    "step = \"_\" + case + \"_2_nodata.tif\"\n",
    "\n",
    "intermediate_tif = os.path.join(data_config.get_out_dir(), os.path.splitext(input_tif_filename)[0] + step)\n",
    "\n",
    "print(\"input_tif:        \", input_tif)\n",
    "print(\"\\n\")\n",
    "print(\"intermediate_tif: \", intermediate_tif)\n",
    "print(\"\\n\")\n",
    "\n",
    "# Replace nodata values\n",
    "gdal_replace_nodata(input_tif, intermediate_tif, data_config.NODATA_SET, data_config.NODATA_SRC, False)"
   ]
  },
  {
   "cell_type": "markdown",
   "metadata": {},
   "source": [
    "## Information Summary: Cropped Data (with NoData set)"
   ]
  },
  {
   "cell_type": "code",
   "execution_count": 13,
   "metadata": {
    "scrolled": false
   },
   "outputs": [
    {
     "name": "stdout",
     "output_type": "stream",
     "text": [
      "Driver: GTiff/GeoTIFF\n",
      "Files: ./Rainfall/output/PK_42N/chirps-v2.0.2023_PK_42N_avg_PK_42N_2_nodata.tif\n",
      "Size is 160, 300\n",
      "Coordinate System is:\n",
      "GEOGCRS[\"WGS 84\",\n",
      "    ENSEMBLE[\"World Geodetic System 1984 ensemble\",\n",
      "        MEMBER[\"World Geodetic System 1984 (Transit)\"],\n",
      "        MEMBER[\"World Geodetic System 1984 (G730)\"],\n",
      "        MEMBER[\"World Geodetic System 1984 (G873)\"],\n",
      "        MEMBER[\"World Geodetic System 1984 (G1150)\"],\n",
      "        MEMBER[\"World Geodetic System 1984 (G1674)\"],\n",
      "        MEMBER[\"World Geodetic System 1984 (G1762)\"],\n",
      "        MEMBER[\"World Geodetic System 1984 (G2139)\"],\n",
      "        ELLIPSOID[\"WGS 84\",6378137,298.257223563,\n",
      "            LENGTHUNIT[\"metre\",1]],\n",
      "        ENSEMBLEACCURACY[2.0]],\n",
      "    PRIMEM[\"Greenwich\",0,\n",
      "        ANGLEUNIT[\"degree\",0.0174532925199433]],\n",
      "    CS[ellipsoidal,2],\n",
      "        AXIS[\"geodetic latitude (Lat)\",north,\n",
      "            ORDER[1],\n",
      "            ANGLEUNIT[\"degree\",0.0174532925199433]],\n",
      "        AXIS[\"geodetic longitude (Lon)\",east,\n",
      "            ORDER[2],\n",
      "            ANGLEUNIT[\"degree\",0.0174532925199433]],\n",
      "    USAGE[\n",
      "        SCOPE[\"Horizontal component of 3D system.\"],\n",
      "        AREA[\"World.\"],\n",
      "        BBOX[-90,-180,90,180]],\n",
      "    ID[\"EPSG\",4326]]\n",
      "Data axis to CRS axis mapping: 2,1\n",
      "Origin = (65.000003650784492,37.999999821186066)\n",
      "Pixel Size = (0.050000000745058,-0.050000000745058)\n",
      "Metadata:\n",
      "  AREA_OR_POINT=Area\n",
      "Image Structure Metadata:\n",
      "  COMPRESSION=DEFLATE\n",
      "  INTERLEAVE=BAND\n",
      "Corner Coordinates:\n",
      "Upper Left  (  65.0000037,  37.9999998) ( 65d 0' 0.01\"E, 38d 0' 0.00\"N)\n",
      "Lower Left  (  65.0000037,  22.9999996) ( 65d 0' 0.01\"E, 23d 0' 0.00\"N)\n",
      "Upper Right (  73.0000038,  37.9999998) ( 73d 0' 0.01\"E, 38d 0' 0.00\"N)\n",
      "Lower Right (  73.0000038,  22.9999996) ( 73d 0' 0.01\"E, 23d 0' 0.00\"N)\n",
      "Center      (  69.0000037,  30.4999997) ( 69d 0' 0.01\"E, 30d30' 0.00\"N)\n",
      "Band 1 Block=160x12 Type=Float32, ColorInterp=Gray\n",
      "    Computed Min/Max=-328.734,4.518\n",
      "  NoData Value=-999\n",
      "\n"
     ]
    }
   ],
   "source": [
    "if data_config.GDAL_INFO:\n",
    "    run_gdalinfo(intermediate_tif)"
   ]
  },
  {
   "cell_type": "code",
   "execution_count": 14,
   "metadata": {},
   "outputs": [
    {
     "name": "stdout",
     "output_type": "stream",
     "text": [
      "Bounds:    BoundingBox(left=65.000, bottom=23.000, right=73.000, top=38.000)\n",
      "EPSG Code: 4326\n"
     ]
    }
   ],
   "source": [
    "# Open the GeoTIFF file\n",
    "with rasterio.open(intermediate_tif) as dataset:\n",
    "\n",
    "    # Access bounding box (bounds)\n",
    "    bounds = dataset.bounds\n",
    "    print(f\"Bounds:    BoundingBox(left={bounds.left:.3f}, bottom={bounds.bottom:.3f}, right={bounds.right:.3f}, top={bounds.top:.3f})\")\n",
    "\n",
    "    # Access the CRS directly\n",
    "    crs = dataset.crs\n",
    "\n",
    "    # Print the EPSG code, if available\n",
    "    if dataset.crs.is_epsg_code:\n",
    "        print(\"EPSG Code:\", crs.to_epsg())\n",
    "    else:\n",
    "        print(\"CRS is not an EPSG: \", dataset.crs.to_string())"
   ]
  },
  {
   "cell_type": "markdown",
   "metadata": {},
   "source": [
    "## 6 Project Geographic Data to UTM\n",
    "\n",
    "Project the geographic data to UTM so that image tiles consist of uniform pixel sizes as measured by their edge extents on the ground."
   ]
  },
  {
   "cell_type": "code",
   "execution_count": 15,
   "metadata": {
    "scrolled": true
   },
   "outputs": [
    {
     "name": "stdout",
     "output_type": "stream",
     "text": [
      "input_tif:         ./Rainfall/output/PK_42N/chirps-v2.0.2023_PK_42N_avg_PK_42N_2_nodata.tif\n",
      "\n",
      "\n",
      "intermediate_tif:  ./Rainfall/output/PK_42N/chirps-v2.0.2023_PK_42N_avg_PK_42N_3_utm.tif\n",
      "\n",
      "\n",
      "Creating output file that is 152P x 310L.\n",
      "Processing ./Rainfall/output/PK_42N/chirps-v2.0.2023_PK_42N_avg_PK_42N_2_nodata.tif [1/1] : 0Using internal nodata values (e.g. -999) for image ./Rainfall/output/PK_42N/chirps-v2.0.2023_PK_42N_avg_PK_42N_2_nodata.tif.\n",
      "Copying nodata values from source ./Rainfall/output/PK_42N/chirps-v2.0.2023_PK_42N_avg_PK_42N_2_nodata.tif to destination ./Rainfall/output/PK_42N/chirps-v2.0.2023_PK_42N_avg_PK_42N_3_utm.tif.\n",
      "...10...20...30...40...50...60...70...80...90...100 - done.\n",
      "\n"
     ]
    }
   ],
   "source": [
    "input_tif = intermediate_tif \n",
    "\n",
    "step = \"_\" + case + \"_3_utm.tif\"\n",
    "\n",
    "intermediate_tif = os.path.join(data_config.get_out_dir(), os.path.splitext(input_tif_filename)[0] + step)\n",
    "\n",
    "print(\"input_tif:        \", input_tif)\n",
    "print(\"\\n\")\n",
    "print(\"intermediate_tif: \", intermediate_tif)\n",
    "print(\"\\n\")\n",
    "\n",
    "transform_to_utm(input_tif, intermediate_tif, utm_code, False)"
   ]
  },
  {
   "cell_type": "markdown",
   "metadata": {},
   "source": [
    "##  Information Summary: UTM Data"
   ]
  },
  {
   "cell_type": "code",
   "execution_count": 16,
   "metadata": {
    "scrolled": false
   },
   "outputs": [
    {
     "name": "stdout",
     "output_type": "stream",
     "text": [
      "Driver: GTiff/GeoTIFF\n",
      "Files: ./Rainfall/output/PK_42N/chirps-v2.0.2023_PK_42N_avg_PK_42N_3_utm.tif\n",
      "Size is 152, 310\n",
      "Coordinate System is:\n",
      "PROJCRS[\"WGS 84 / UTM zone 42N\",\n",
      "    BASEGEOGCRS[\"WGS 84\",\n",
      "        DATUM[\"World Geodetic System 1984\",\n",
      "            ELLIPSOID[\"WGS 84\",6378137,298.257223563,\n",
      "                LENGTHUNIT[\"metre\",1]]],\n",
      "        PRIMEM[\"Greenwich\",0,\n",
      "            ANGLEUNIT[\"degree\",0.0174532925199433]],\n",
      "        ID[\"EPSG\",4326]],\n",
      "    CONVERSION[\"UTM zone 42N\",\n",
      "        METHOD[\"Transverse Mercator\",\n",
      "            ID[\"EPSG\",9807]],\n",
      "        PARAMETER[\"Latitude of natural origin\",0,\n",
      "            ANGLEUNIT[\"degree\",0.0174532925199433],\n",
      "            ID[\"EPSG\",8801]],\n",
      "        PARAMETER[\"Longitude of natural origin\",69,\n",
      "            ANGLEUNIT[\"degree\",0.0174532925199433],\n",
      "            ID[\"EPSG\",8802]],\n",
      "        PARAMETER[\"Scale factor at natural origin\",0.9996,\n",
      "            SCALEUNIT[\"unity\",1],\n",
      "            ID[\"EPSG\",8805]],\n",
      "        PARAMETER[\"False easting\",500000,\n",
      "            LENGTHUNIT[\"metre\",1],\n",
      "            ID[\"EPSG\",8806]],\n",
      "        PARAMETER[\"False northing\",0,\n",
      "            LENGTHUNIT[\"metre\",1],\n",
      "            ID[\"EPSG\",8807]]],\n",
      "    CS[Cartesian,2],\n",
      "        AXIS[\"(E)\",east,\n",
      "            ORDER[1],\n",
      "            LENGTHUNIT[\"metre\",1]],\n",
      "        AXIS[\"(N)\",north,\n",
      "            ORDER[2],\n",
      "            LENGTHUNIT[\"metre\",1]],\n",
      "    USAGE[\n",
      "        SCOPE[\"Navigation and medium accuracy spatial referencing.\"],\n",
      "        AREA[\"Between 66°E and 72°E, northern hemisphere between equator and 84°N, onshore and offshore. Afghanistan. India. Kazakhstan. Kyrgyzstan. Pakistan. Russian Federation. Tajikistan. Uzbekistan.\"],\n",
      "        BBOX[0,66,84,72]],\n",
      "    ID[\"EPSG\",32642]]\n",
      "Data axis to CRS axis mapping: 1,2\n",
      "Origin = (89841.236570703331381,4213370.729678307659924)\n",
      "Pixel Size = (5382.825036519471723,-5382.825036519471723)\n",
      "Metadata:\n",
      "  AREA_OR_POINT=Area\n",
      "Image Structure Metadata:\n",
      "  COMPRESSION=DEFLATE\n",
      "  INTERLEAVE=BAND\n",
      "Corner Coordinates:\n",
      "Upper Left  (   89841.237, 4213370.730) ( 64d19'52.23\"E, 37d58'31.10\"N)\n",
      "Lower Left  (   89841.237, 2544694.968) ( 65d 0' 4.25\"E, 22d57'36.44\"N)\n",
      "Upper Right (  908030.642, 4213370.730) ( 73d38'40.83\"E, 37d58'34.55\"N)\n",
      "Lower Right (  908030.642, 2544694.968) ( 72d58'41.20\"E, 22d57'38.32\"N)\n",
      "Center      (  498935.939, 3379032.849) ( 68d59'20.06\"E, 30d32'37.27\"N)\n",
      "Band 1 Block=152x13 Type=Float32, ColorInterp=Gray\n",
      "    Computed Min/Max=-328.734,4.518\n",
      "  NoData Value=-999\n",
      "\n"
     ]
    }
   ],
   "source": [
    "if data_config.GDAL_INFO:\n",
    "    run_gdalinfo(intermediate_tif)"
   ]
  },
  {
   "cell_type": "code",
   "execution_count": 17,
   "metadata": {},
   "outputs": [
    {
     "name": "stdout",
     "output_type": "stream",
     "text": [
      "Bounds:    BoundingBox(left=89841.237, bottom=2544694.968, right=908030.642, top=4213370.730)\n",
      "EPSG Code: 32642\n"
     ]
    }
   ],
   "source": [
    "# Open the GeoTIFF file\n",
    "with rasterio.open(intermediate_tif) as dataset:\n",
    "\n",
    "    # Access bounding box (bounds)\n",
    "    bounds = dataset.bounds\n",
    "    print(f\"Bounds:    BoundingBox(left={bounds.left:.3f}, bottom={bounds.bottom:.3f}, right={bounds.right:.3f}, top={bounds.top:.3f})\")\n",
    "    \n",
    "    # Access the CRS directly\n",
    "    crs = dataset.crs\n",
    "    \n",
    "    # Print the EPSG code, if available\n",
    "    if crs.is_epsg_code:\n",
    "        print(\"EPSG Code:\", crs.to_epsg())\n",
    "    else:\n",
    "        print(\"CRS is not an EPSG: \", crs.to_string())"
   ]
  },
  {
   "cell_type": "markdown",
   "metadata": {},
   "source": [
    "## 7 Resample Data\n",
    "\n",
    "Resample the data in UTM using aoi_config.RESAMPLE which is measured in meters."
   ]
  },
  {
   "cell_type": "code",
   "execution_count": 18,
   "metadata": {
    "scrolled": true
   },
   "outputs": [
    {
     "name": "stdout",
     "output_type": "stream",
     "text": [
      "input_tif:         ./Rainfall/output/PK_42N/chirps-v2.0.2023_PK_42N_avg_PK_42N_3_utm.tif\n",
      "\n",
      "\n",
      "intermediate_tif:  ./Rainfall/output/PK_42N/chirps-v2.0.2023_PK_42N_avg_PK_42N_4_resampled_average.tif\n",
      "\n",
      "\n",
      "Creating output file that is 2045P x 4172L.\n",
      "Processing ./Rainfall/output/PK_42N/chirps-v2.0.2023_PK_42N_avg_PK_42N_3_utm.tif [1/1] : 0Using internal nodata values (e.g. -999) for image ./Rainfall/output/PK_42N/chirps-v2.0.2023_PK_42N_avg_PK_42N_3_utm.tif.\n",
      "Copying nodata values from source ./Rainfall/output/PK_42N/chirps-v2.0.2023_PK_42N_avg_PK_42N_3_utm.tif to destination ./Rainfall/output/PK_42N/chirps-v2.0.2023_PK_42N_avg_PK_42N_4_resampled_average.tif.\n",
      "...10...20...30...40...50...60...70...80...90...100 - done.\n",
      "\n"
     ]
    }
   ],
   "source": [
    "input_tif = intermediate_tif \n",
    "\n",
    "step = \"_\" + case + \"_4_resampled_\" + data_config.RESAMPLE_ALG + \".tif\"\n",
    "\n",
    "intermediate_tif = os.path.join(data_config.get_out_dir(), os.path.splitext(input_tif_filename)[0] + step)\n",
    "\n",
    "print(\"input_tif:        \", input_tif)\n",
    "print(\"\\n\")\n",
    "print(\"intermediate_tif: \", intermediate_tif)\n",
    "print(\"\\n\")\n",
    "\n",
    "\n",
    "# Resample the data\n",
    "gdal_resample(input_tif, \n",
    "              intermediate_tif, \n",
    "              data_config.RESAMPLE_ALG, \n",
    "              aoi_config.RESAMPLE, \n",
    "              aoi_config.RESAMPLE)"
   ]
  },
  {
   "cell_type": "code",
   "execution_count": 19,
   "metadata": {},
   "outputs": [
    {
     "name": "stdout",
     "output_type": "stream",
     "text": [
      "Bounds:    BoundingBox(left=89841.237, bottom=2544570.730, right=907841.237, top=4213370.730)\n",
      "EPSG Code: 32642\n"
     ]
    }
   ],
   "source": [
    "# Open the GeoTIFF file\n",
    "with rasterio.open(intermediate_tif) as dataset:\n",
    "\n",
    "    # Access bounding box (bounds)\n",
    "    bounds = dataset.bounds\n",
    "    print(f\"Bounds:    BoundingBox(left={bounds.left:.3f}, bottom={bounds.bottom:.3f}, right={bounds.right:.3f}, top={bounds.top:.3f})\")\n",
    "\n",
    "    # Access the CRS directly\n",
    "    crs = dataset.crs\n",
    "\n",
    "    # Print the EPSG code, if available\n",
    "    if crs.is_epsg_code:\n",
    "        print(\"EPSG Code:\", crs.to_epsg())\n",
    "    else:\n",
    "        print(\"CRS is not an EPSG: \", crs.to_string())"
   ]
  },
  {
   "cell_type": "markdown",
   "metadata": {},
   "source": [
    "##  Information Summary: Resampled Data"
   ]
  },
  {
   "cell_type": "code",
   "execution_count": 20,
   "metadata": {
    "scrolled": false
   },
   "outputs": [
    {
     "name": "stdout",
     "output_type": "stream",
     "text": [
      "Driver: GTiff/GeoTIFF\n",
      "Files: ./Rainfall/output/PK_42N/chirps-v2.0.2023_PK_42N_avg_PK_42N_4_resampled_average.tif\n",
      "Size is 2045, 4172\n",
      "Coordinate System is:\n",
      "PROJCRS[\"WGS 84 / UTM zone 42N\",\n",
      "    BASEGEOGCRS[\"WGS 84\",\n",
      "        DATUM[\"World Geodetic System 1984\",\n",
      "            ELLIPSOID[\"WGS 84\",6378137,298.257223563,\n",
      "                LENGTHUNIT[\"metre\",1]]],\n",
      "        PRIMEM[\"Greenwich\",0,\n",
      "            ANGLEUNIT[\"degree\",0.0174532925199433]],\n",
      "        ID[\"EPSG\",4326]],\n",
      "    CONVERSION[\"UTM zone 42N\",\n",
      "        METHOD[\"Transverse Mercator\",\n",
      "            ID[\"EPSG\",9807]],\n",
      "        PARAMETER[\"Latitude of natural origin\",0,\n",
      "            ANGLEUNIT[\"degree\",0.0174532925199433],\n",
      "            ID[\"EPSG\",8801]],\n",
      "        PARAMETER[\"Longitude of natural origin\",69,\n",
      "            ANGLEUNIT[\"degree\",0.0174532925199433],\n",
      "            ID[\"EPSG\",8802]],\n",
      "        PARAMETER[\"Scale factor at natural origin\",0.9996,\n",
      "            SCALEUNIT[\"unity\",1],\n",
      "            ID[\"EPSG\",8805]],\n",
      "        PARAMETER[\"False easting\",500000,\n",
      "            LENGTHUNIT[\"metre\",1],\n",
      "            ID[\"EPSG\",8806]],\n",
      "        PARAMETER[\"False northing\",0,\n",
      "            LENGTHUNIT[\"metre\",1],\n",
      "            ID[\"EPSG\",8807]]],\n",
      "    CS[Cartesian,2],\n",
      "        AXIS[\"(E)\",east,\n",
      "            ORDER[1],\n",
      "            LENGTHUNIT[\"metre\",1]],\n",
      "        AXIS[\"(N)\",north,\n",
      "            ORDER[2],\n",
      "            LENGTHUNIT[\"metre\",1]],\n",
      "    USAGE[\n",
      "        SCOPE[\"Navigation and medium accuracy spatial referencing.\"],\n",
      "        AREA[\"Between 66°E and 72°E, northern hemisphere between equator and 84°N, onshore and offshore. Afghanistan. India. Kazakhstan. Kyrgyzstan. Pakistan. Russian Federation. Tajikistan. Uzbekistan.\"],\n",
      "        BBOX[0,66,84,72]],\n",
      "    ID[\"EPSG\",32642]]\n",
      "Data axis to CRS axis mapping: 1,2\n",
      "Origin = (89841.236570703331381,4213370.729678307659924)\n",
      "Pixel Size = (400.000000000000000,-400.000000000000000)\n",
      "Metadata:\n",
      "  AREA_OR_POINT=Area\n",
      "Image Structure Metadata:\n",
      "  COMPRESSION=DEFLATE\n",
      "  INTERLEAVE=BAND\n",
      "Corner Coordinates:\n",
      "Upper Left  (   89841.237, 4213370.730) ( 64d19'52.23\"E, 37d58'31.10\"N)\n",
      "Lower Left  (   89841.237, 2544570.730) ( 65d 0' 4.36\"E, 22d57'32.41\"N)\n",
      "Upper Right (  907841.237, 4213370.730) ( 73d38'33.09\"E, 37d58'34.85\"N)\n",
      "Lower Right (  907841.237, 2544570.730) ( 72d58'34.45\"E, 22d57'34.46\"N)\n",
      "Center      (  498841.237, 3378970.730) ( 68d59'16.51\"E, 30d32'35.26\"N)\n",
      "Band 1 Block=2045x1 Type=Float32, ColorInterp=Gray\n",
      "    Computed Min/Max=-328.734,4.518\n",
      "  NoData Value=-999\n",
      "\n"
     ]
    }
   ],
   "source": [
    "if data_config.GDAL_INFO:\n",
    "    run_gdalinfo(intermediate_tif)"
   ]
  },
  {
   "cell_type": "code",
   "execution_count": 21,
   "metadata": {},
   "outputs": [
    {
     "name": "stdout",
     "output_type": "stream",
     "text": [
      "Bounds:    BoundingBox(left=89841.237, bottom=2544570.730, right=907841.237, top=4213370.730)\n",
      "EPSG Code: 32642\n"
     ]
    }
   ],
   "source": [
    "# Open the GeoTIFF file\n",
    "with rasterio.open(intermediate_tif) as dataset:\n",
    "\n",
    "    # Access bounding box (bounds)\n",
    "    bounds = dataset.bounds\n",
    "    print(f\"Bounds:    BoundingBox(left={bounds.left:.3f}, bottom={bounds.bottom:.3f}, right={bounds.right:.3f}, top={bounds.top:.3f})\")\n",
    "\n",
    "    # Print the EPSG code, if available\n",
    "    if crs.is_epsg_code:\n",
    "        print(\"EPSG Code:\", crs.to_epsg())\n",
    "    else:\n",
    "        print(\"CRS is not an EPSG: \", crs.to_string())"
   ]
  },
  {
   "cell_type": "code",
   "execution_count": null,
   "metadata": {},
   "outputs": [],
   "source": []
  }
 ],
 "metadata": {
  "kernelspec": {
   "display_name": "Python (py39-pt)",
   "language": "python",
   "name": "clone_env"
  },
  "language_info": {
   "codemirror_mode": {
    "name": "ipython",
    "version": 3
   },
   "file_extension": ".py",
   "mimetype": "text/x-python",
   "name": "python",
   "nbconvert_exporter": "python",
   "pygments_lexer": "ipython3",
   "version": "3.9.18"
  }
 },
 "nbformat": 4,
 "nbformat_minor": 4
}
