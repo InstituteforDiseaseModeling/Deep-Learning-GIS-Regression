{
 "cells": [
  {
   "cell_type": "markdown",
   "metadata": {},
   "source": [
    "# GIS Image Pre-Processing \n",
    "\n",
    "The processing pipeline to transform globally available data types into spatially aligned image stacks with uniform pixel sizes involve the following steps.  \n",
    "\n",
    "- **Specialized Processing**: Specialized, one-time, processing to transform certain data types to the required format (e.g., building footprints, and rainfall statistics).\n",
    "- **Crop Data to UTM Zone**: Crop the (geographic) source data to the appropriate UTM zone that encompasses the region of interest (adding a +/- 1 deg buffer in longitude). Adding a buffer is necessary to enable image tiles near the border to be created.\n",
    "- **Standardize NoData / NaN Values**: Replace NoData values and NaNs with a fixed value to ensures consistency across data types and to facilitate pixel imputation. \n",
    "- **Pixel Imputation (for NoData)**: This step is required to infill pixels that do not contain valid data, but requires further investigation to determine the appropriate sequence in the processing pipeline and the algorithm for pixel value imputation.\n",
    "- **Transform the Geographic Data to UTM**: Transform the geographic data to UTM using the appropriate UTM zone.\n",
    "- **Resample Data** : Resample each data type to a consistent pixel size.\n",
    "\n",
    "Apart from one-time specialized pre-processing, the remaining processing steps outlined above will be implemented in this notebook using configurable Dataset classes.\n",
    "\n",
    "### UTM Zones for Reference\n",
    "\n",
    "```\n",
    "EPSG:32628  28N\t 18°W to 12°W\n",
    "EPSG:32629  29N\t 12°W to 6°W\n",
    "EPSG:32630  30N\t 6°W  to 0°\n",
    "EPSG:32631  31N\t 0°   to 6°E\n",
    "EPSG:32632  32N  6°E  to 12°E\n",
    "EPSG:32633  33N  12°E to 18°E\n",
    "EPSG:32634  34N\t 18°E to 24°E\n",
    "EPSG:32635  35N\t 24°E to 30°E\n",
    "EPSG:32636  36N\t 30°E to 36°E\n",
    "EPSG:32637  37N\t 36°E to 42°E\n",
    "EPSG:32638  38N\t 42°E to 48°E\n",
    "EPSG:32639  39N\t 48°E to 54°E\n",
    "EPSG:32640  40N\t 54°E to 60°E\n",
    "EPSG:32641  41N\t 60°E to 66°E\n",
    "EPSG:32642  42N\t 66°E to 72°E\n",
    "EPSG:32643  43N\t 72°E to 78°E\n",
    "EPSG:32644  44N\t 78°E to 84°E\n",
    "EPSG:32645  45N\t 84°E to 90°E\n",
    "```\n",
    "\n",
    "\n",
    "### Expected file system structure:\n",
    "```\n",
    "prep_geospatial_data.ipynb (this notebook)\n",
    "\n",
    "Flood/\n",
    "     landscan-global-2022.tif\n",
    "     output/\n",
    "     \n",
    "Landcover/\n",
    "     esalc_2020.tif\n",
    "     output/\n",
    "     \n",
    "Nightlights/\n",
    "     VNL_v22_npp-j01_2022_global_vcmslcfg_c202303062300_median.tif\n",
    "     output/\n",
    "     \n",
    "Population/\n",
    "     landscan-global-2022.tif\n",
    "     output/   \n",
    "     \n",
    "Rainfall/\n",
    "     chirps-v2.0.2022_avg\n",
    "     output/\n",
    "     \n",
    "```\n",
    "     \n",
    "      "
   ]
  },
  {
   "cell_type": "code",
   "execution_count": 1,
   "metadata": {},
   "outputs": [],
   "source": [
    "import os\n",
    "from dataclasses import dataclass\n",
    "\n",
    "# Import module that contains several convenience functions (e.g., gdal wrappers).\n",
    "from gist_utils import *\n",
    "\n",
    "# Adding path to gdal commands for local system.\n",
    "os.environ['PATH'] += ':/Users/billk/miniforge3/envs/py39-pt/bin/' "
   ]
  },
  {
   "cell_type": "markdown",
   "metadata": {},
   "source": [
    "## Configure Data Type"
   ]
  },
  {
   "cell_type": "code",
   "execution_count": 2,
   "metadata": {},
   "outputs": [],
   "source": [
    "@dataclass(frozen=True)\n",
    "class DatasetConfig_Population:\n",
    "    DATA_DIR:      str = \"./Population\"                   # Top-level folder for source data\n",
    "    INPUT_TIF:     str = \"./landscan-global-2022.tif\"     # Source data GeoTiff\n",
    "    OUT_DIR:       str = \"./Population/output\"            # Output folder to store processed data\n",
    "    NODATA_SRC:    int = -2147483647                      # NoData value in src data  \n",
    "    NODATA_SET:    int = -999                             # NoData value to fill in processed data\n",
    "    CASE_ID:      str = \"PK_42N\"                          # Case ID to distinguish image stacks\n",
    "    GDAL_INFO:    bool = False"
   ]
  },
  {
   "cell_type": "code",
   "execution_count": 3,
   "metadata": {},
   "outputs": [],
   "source": [
    "@dataclass(frozen=True)\n",
    "class DatasetConfig_Nightlights:\n",
    "    DATA_DIR:     str = \"./Nightlights\"                   \n",
    "    INPUT_TIF:    str = \"./VNL_v22_npp-j01_2022_global_vcmslcfg_c202303062300_median_masked.tif\"     \n",
    "    OUT_DIR:      str = \"./Nightlights/output\"           \n",
    "    NODATA_SRC:   int = -999                        \n",
    "    NODATA_SET:   int = -999                             \n",
    "    CASE_ID:      str = \"PK_42N\"\n",
    "    GDAL_INFO:   bool = True"
   ]
  },
  {
   "cell_type": "code",
   "execution_count": 4,
   "metadata": {},
   "outputs": [],
   "source": [
    "@dataclass(frozen=True)\n",
    "class DatasetConfig_Rainfall:\n",
    "    DATA_DIR:   str   = \"./Rainfall\"                   \n",
    "    INPUT_TIF:  str   = \"./chirps-v2.0.2022_avg.tif\"     \n",
    "    OUT_DIR:    str   = \"./Rainfall/output\"           \n",
    "    NODATA_SRC: float = 3.4028234663852886e+38                   \n",
    "    NODATA_SET: int   = -999                             \n",
    "    CASE_ID:    str   = \"PK_42N\"\n",
    "    GDAL_INFO:   bool = True"
   ]
  },
  {
   "cell_type": "code",
   "execution_count": 5,
   "metadata": {},
   "outputs": [],
   "source": [
    "@dataclass(frozen=True)\n",
    "class DatasetConfig_Flood:\n",
    "    DATA_DIR:   str   = \"./Flood\"                   \n",
    "    INPUT_TIF:  str   = \"./dfo_3696_from_20100727_to_20101115_band5.tif\"     \n",
    "    OUT_DIR:    str   = \"./Flood/output\"           \n",
    "    NODATA_SRC: int   = -999               \n",
    "    NODATA_SET: int   = -999                             \n",
    "    CASE_ID:    str   = \"PK_42N\"\n",
    "    GDAL_INFO:   bool = True"
   ]
  },
  {
   "cell_type": "code",
   "execution_count": 6,
   "metadata": {},
   "outputs": [],
   "source": [
    "@dataclass(frozen=True)\n",
    "class DatasetConfig_Landcover:\n",
    "    DATA_DIR:   str   = \"./Landcover\"                   \n",
    "    INPUT_TIF:  str   = \"./esalc_2020.tif\"     \n",
    "    OUT_DIR:    str   = \"./Landcover/output\"           \n",
    "    NODATA_SRC: int   = -999               \n",
    "    NODATA_SET: int   = -999                             \n",
    "    CASE_ID:    str   = \"PK_42N\"\n",
    "    GDAL_INFO:   bool = True"
   ]
  },
  {
   "cell_type": "markdown",
   "metadata": {},
   "source": [
    "## Configure Data Type Execution Here"
   ]
  },
  {
   "cell_type": "code",
   "execution_count": 7,
   "metadata": {},
   "outputs": [],
   "source": [
    "#-------------------------------------------------------------------\n",
    "# Configure data type here (uncomment one line from the list below)\n",
    "#-------------------------------------------------------------------\n",
    "data_config = DatasetConfig_Population\n",
    "#data_config = DatasetConfig_Nightlights\n",
    "#data_config = DatasetConfig_Rainfall\n",
    "#data_config = DatasetConfig_Flood\n",
    "#data_config = DatasetConfig_Landcover\n",
    "\n",
    "# Path to input tif.\n",
    "input_tif =  os.path.join(data_config.DATA_DIR, data_config.INPUT_TIF)\n",
    "\n",
    "if not os.path.exists(data_config.OUT_DIR):\n",
    "    os.makedirs(data_config.OUT_DIR)"
   ]
  },
  {
   "cell_type": "markdown",
   "metadata": {},
   "source": [
    "## Comnfigure AOI"
   ]
  },
  {
   "cell_type": "code",
   "execution_count": 8,
   "metadata": {},
   "outputs": [],
   "source": [
    "@dataclass(frozen=True)\n",
    "class AOIConfig:\n",
    "    UTM_ZONE:      str = \"EPSG:32642\"              # Edit for appropriate UTM Zone\n",
    "    RESAMPLE:    float = 400                       # Resample data in UTM x & y (meters)\n",
    "    UTM_BUF_DEG:   int = 1.0                       # Extended buffer in deg longitude beyond UTM zone\n",
    "    LAT_NORTH:   float = 38.0                      # Define max latitude for AOI\n",
    "    LAT_SOUTH:   float = 23.0                      # Define min latitude for AOI\n",
    "\n",
    "aoi_config = AOIConfig"
   ]
  },
  {
   "cell_type": "markdown",
   "metadata": {},
   "source": [
    "##  Information Summary: Source Data"
   ]
  },
  {
   "cell_type": "code",
   "execution_count": 9,
   "metadata": {
    "scrolled": false
   },
   "outputs": [],
   "source": [
    "if data_config.GDAL_INFO:\n",
    "    run_gdalinfo(input_tif)"
   ]
  },
  {
   "cell_type": "markdown",
   "metadata": {},
   "source": [
    "##  Crop Data to AOI (UTM Zone) \n",
    "Crop the source data to the appropriate UTM zone with a buffer in longitude. Adding a buffer is necessary to enable image tiles near the border to be created."
   ]
  },
  {
   "cell_type": "code",
   "execution_count": 10,
   "metadata": {
    "scrolled": true
   },
   "outputs": [
    {
     "name": "stdout",
     "output_type": "stream",
     "text": [
      "Upper Left Lat: 38.0\n",
      "Upper Left Lon: 65.0\n",
      "Lower Right Lat: 23.0\n",
      "Lower Right Lon: 73.0\n"
     ]
    }
   ],
   "source": [
    "utm_west_lon, utm_east_lon = utm_zone_longitude_bounds(aoi_config.UTM_ZONE)\n",
    "\n",
    "# Define AOI to encompass local UTM zone (+/- small buffer). Choose latitude to cover data for region.\n",
    "ul_lat, ul_lon = aoi_config.LAT_NORTH, utm_west_lon - aoi_config.UTM_BUF_DEG\n",
    "lr_lat, lr_lon = aoi_config.LAT_SOUTH, utm_east_lon + aoi_config.UTM_BUF_DEG\n",
    "\n",
    "# Print the results\n",
    "print(f\"Upper Left Lat: {ul_lat}\")\n",
    "print(f\"Upper Left Lon: {ul_lon}\")\n",
    "print(f\"Lower Right Lat: {lr_lat}\")\n",
    "print(f\"Lower Right Lon: {lr_lon}\")"
   ]
  },
  {
   "cell_type": "code",
   "execution_count": 11,
   "metadata": {
    "scrolled": true
   },
   "outputs": [
    {
     "name": "stdout",
     "output_type": "stream",
     "text": [
      "Input  TIF: ./Population/./landscan-global-2022.tif\n",
      "Output TIF: ./Population/output/./landscan-global-2022_PK_42N_1_crop_geo.tif\n",
      "\n",
      "Input file size is 43200, 21600\n",
      "0...10...20...30...40...50...60...70...80...90...100 - done.\n"
     ]
    }
   ],
   "source": [
    " # Construct the output file name based on the input file name.\n",
    "case = \"_\" + data_config.CASE_ID + \"_1_crop_geo.tif\"\n",
    "intermediate_tif = os.path.join(data_config.OUT_DIR, os.path.splitext(data_config.INPUT_TIF)[0] + case)\n",
    "    \n",
    "gdal_crop(input_tif, intermediate_tif, ul_lon, ul_lat, lr_lon, lr_lat, True)"
   ]
  },
  {
   "cell_type": "markdown",
   "metadata": {},
   "source": [
    "##  Set NoData Value"
   ]
  },
  {
   "cell_type": "code",
   "execution_count": 12,
   "metadata": {},
   "outputs": [
    {
     "name": "stdout",
     "output_type": "stream",
     "text": [
      "Input TIF: ./Population/output/./landscan-global-2022_PK_42N_1_crop_geo.tif\n",
      "Final Output TIF: ./Population/output/./landscan-global-2022_PK_42N_2_nodata.tif\n",
      "\n",
      "gdalwarp command: gdalwarp -overwrite -co COMPRESS=DEFLATE -co ZLEVEL=9 ./Population/output/./landscan-global-2022_PK_42N_1_crop_geo.tif ./Population/output/./landscan-global-2022_PK_42N_2_nodata.tif -srcnodata -2147483647 -dstnodata -999\n",
      "\n",
      "Creating output file that is 960P x 1800L.\n",
      "Processing ./Population/output/./landscan-global-2022_PK_42N_1_crop_geo.tif [1/1] : 0...10...20...30...40...50...60...70...80...90...100 - done.\n",
      "Output TIF has been written to: ./Population/output/./landscan-global-2022_PK_42N_2_nodata.tif\n"
     ]
    }
   ],
   "source": [
    "input_tif = intermediate_tif \n",
    "\n",
    "# Construct the output file name based on the input file name.\n",
    "case = \"_\" + data_config.CASE_ID + \"_2_nodata.tif\"\n",
    "intermediate_tif = os.path.join(data_config.OUT_DIR, os.path.splitext(data_config.INPUT_TIF)[0] + case)\n",
    "\n",
    "# Replace nodata values.\n",
    "gdal_replace_nodata(input_tif, intermediate_tif, data_config.NODATA_SET, data_config.NODATA_SRC, True)"
   ]
  },
  {
   "cell_type": "markdown",
   "metadata": {},
   "source": [
    "## Information Summary: Cropped Data (with NoData set)"
   ]
  },
  {
   "cell_type": "code",
   "execution_count": 13,
   "metadata": {
    "scrolled": false
   },
   "outputs": [],
   "source": [
    "if data_config.GDAL_INFO:\n",
    "    run_gdalinfo(intermediate_tif)"
   ]
  },
  {
   "cell_type": "markdown",
   "metadata": {},
   "source": [
    "## Transform Geographic Data to UTM\n",
    "\n",
    "Transform the geographic data to a projected CRS (UTM) so that image tiles consist of uniform pixel sizes as measured by their edge extents on the ground."
   ]
  },
  {
   "cell_type": "code",
   "execution_count": 14,
   "metadata": {
    "scrolled": true
   },
   "outputs": [
    {
     "name": "stdout",
     "output_type": "stream",
     "text": [
      "Input  TIF: ./Population/output/./landscan-global-2022_PK_42N_2_nodata.tif\n",
      "Output TIF: ./Population/output/./landscan-global-2022_PK_42N_3_utm.tif\n",
      "\n",
      "Creating output file that is 914P x 1861L.\n",
      "Processing ./Population/output/./landscan-global-2022_PK_42N_2_nodata.tif [1/1] : 0Using internal nodata values (e.g. -999) for image ./Population/output/./landscan-global-2022_PK_42N_2_nodata.tif.\n",
      "Copying nodata values from source ./Population/output/./landscan-global-2022_PK_42N_2_nodata.tif to destination ./Population/output/./landscan-global-2022_PK_42N_3_utm.tif.\n",
      "...10...20...30...40...50...60...70...80...90...100 - done.\n"
     ]
    }
   ],
   "source": [
    "utm_zone = aoi_config.UTM_ZONE \n",
    "\n",
    "input_tif = intermediate_tif \n",
    "\n",
    "case = \"_\" + data_config.CASE_ID + \"_3_utm.tif\"\n",
    "temp = os.path.splitext(data_config.INPUT_TIF)[0] + case\n",
    "\n",
    "intermediate_tif = os.path.join(data_config.OUT_DIR, temp)\n",
    "\n",
    "transform_to_utm(input_tif, intermediate_tif, utm_zone, True)"
   ]
  },
  {
   "cell_type": "markdown",
   "metadata": {},
   "source": [
    "##  Information Summary: UTM Data"
   ]
  },
  {
   "cell_type": "code",
   "execution_count": 15,
   "metadata": {},
   "outputs": [],
   "source": [
    "if data_config.GDAL_INFO:\n",
    "    run_gdalinfo(intermediate_tif)"
   ]
  },
  {
   "cell_type": "markdown",
   "metadata": {},
   "source": [
    "## Resample Data"
   ]
  },
  {
   "cell_type": "code",
   "execution_count": 16,
   "metadata": {
    "scrolled": true
   },
   "outputs": [
    {
     "name": "stdout",
     "output_type": "stream",
     "text": [
      "Creating output file that is 2050P x 4174L.\n",
      "Processing ./Population/output/./landscan-global-2022_PK_42N_3_utm.tif [1/1] : 0Using internal nodata values (e.g. -999) for image ./Population/output/./landscan-global-2022_PK_42N_3_utm.tif.\n",
      "Copying nodata values from source ./Population/output/./landscan-global-2022_PK_42N_3_utm.tif to destination ./Population/output/./landscan-global-2022_PK_42N_4_resampled.tif.\n",
      "...10...20...30...40...50...60...70...80...90...100 - done.\n"
     ]
    }
   ],
   "source": [
    "# Construct the intermediate output file name\n",
    "input_tif = intermediate_tif \n",
    "\n",
    "# Construct the final output file name\n",
    "case = \"_\" + data_config.CASE_ID + \"_4_resampled.tif\"\n",
    "temp = os.path.splitext(data_config.INPUT_TIF)[0] + case\n",
    "\n",
    "intermediate_tif = os.path.join(data_config.OUT_DIR, temp)\n",
    "\n",
    "# Resample the data\n",
    "gdal_resample(input_tif, intermediate_tif, aoi_config.RESAMPLE, aoi_config.RESAMPLE)"
   ]
  },
  {
   "cell_type": "markdown",
   "metadata": {},
   "source": [
    "##  Information Summary: Resampled Data"
   ]
  },
  {
   "cell_type": "code",
   "execution_count": 17,
   "metadata": {
    "scrolled": false
   },
   "outputs": [],
   "source": [
    "if data_config.GDAL_INFO:\n",
    "    run_gdalinfo(intermediate_tif)"
   ]
  }
 ],
 "metadata": {
  "kernelspec": {
   "display_name": "Python (py39-pt)",
   "language": "python",
   "name": "clone_env"
  },
  "language_info": {
   "codemirror_mode": {
    "name": "ipython",
    "version": 3
   },
   "file_extension": ".py",
   "mimetype": "text/x-python",
   "name": "python",
   "nbconvert_exporter": "python",
   "pygments_lexer": "ipython3",
   "version": "3.9.18"
  }
 },
 "nbformat": 4,
 "nbformat_minor": 4
}
