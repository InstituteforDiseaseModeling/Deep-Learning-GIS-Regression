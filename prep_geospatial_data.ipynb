{
 "cells": [
  {
   "cell_type": "markdown",
   "metadata": {},
   "source": [
    "# GIS Image Pre-Processing \n",
    "\n",
    "The processing pipeline to transform globally available data types into spatially aligned image stacks with uniform pixel sizes involve the following steps.  \n",
    "\n",
    "- **Specialized Processing**: Specialized, one-time, processing to transform certain data types to the required format (e.g., building footprints, and rainfall statistics).\n",
    "- **Crop Data to UTM Zone**: Crop the (geographic) source data to the appropriate UTM zone that encompasses the region of interest (adding a +/- 1 deg buffer in longitude). Adding a buffer is necessary to enable image tiles near the border to be created.\n",
    "- **Standardize NoData / NaN Values**: Replace NoData values and NaNs with a fixed value to ensures consistency across data types and to facilitate pixel imputation. \n",
    "- **Pixel Imputation (for NoData)**: This step is required to infill pixels that do not contain valid data, but requires further investigation to determine the appropriate sequence in the processing pipeline and the algorithm for pixel value imputation.\n",
    "- **Transform the Geographic Data to UTM**: Transform the geographic data to UTM using the appropriate UTM zone.\n",
    "- **Resample Data** : Resample each data type to a consistent pixel size.\n",
    "\n",
    "Apart from one-time specialized pre-processing, the remaining processing steps outlined above will be implemented in this notebook using configurable Dataset classes.\n",
    "\n",
    "### UTM Zones for Reference\n",
    "\n",
    "```\n",
    "EPSG:32628  28N\t 18°W to 12°W\n",
    "EPSG:32629  29N\t 12°W to 6°W\n",
    "EPSG:32630  30N\t 6°W  to 0°\n",
    "EPSG:32631  31N\t 0°   to 6°E\n",
    "EPSG:32632  32N  6°E  to 12°E\n",
    "EPSG:32633  33N  12°E to 18°E\n",
    "EPSG:32634  34N\t 18°E to 24°E\n",
    "EPSG:32635  35N\t 24°E to 30°E\n",
    "EPSG:32636  36N\t 30°E to 36°E\n",
    "EPSG:32637  37N\t 36°E to 42°E\n",
    "EPSG:32638  38N\t 42°E to 48°E\n",
    "EPSG:32639  39N\t 48°E to 54°E\n",
    "EPSG:32640  40N\t 54°E to 60°E\n",
    "EPSG:32641  41N\t 60°E to 66°E\n",
    "EPSG:32642  42N\t 66°E to 72°E\n",
    "EPSG:32643  43N\t 72°E to 78°E\n",
    "EPSG:32644  44N\t 78°E to 84°E\n",
    "EPSG:32645  45N\t 84°E to 90°E\n",
    "```"
   ]
  },
  {
   "cell_type": "code",
   "execution_count": 1,
   "metadata": {},
   "outputs": [],
   "source": [
    "import os\n",
    "from dataclasses import dataclass\n",
    "\n",
    "# Import module that contains several convenience functions (e.g., gdal wrappers).\n",
    "from gist_utils import *\n",
    "\n",
    "# Adding path to gdal commands for local system.\n",
    "os.environ['PATH'] += ':/Users/billk/miniforge3/envs/py39-pt/bin/' "
   ]
  },
  {
   "cell_type": "markdown",
   "metadata": {},
   "source": [
    "## Configure Data Type"
   ]
  },
  {
   "cell_type": "code",
   "execution_count": 2,
   "metadata": {},
   "outputs": [],
   "source": [
    "@dataclass(frozen=True)\n",
    "class DatasetConfig_Population:\n",
    "    DATA_DIR:      str = \"./Population\"                   # Top-level folder for source data\n",
    "    INPUT_TIF:     str = \"./landscan-global-2022.tif\"     # Source data GeoTiff\n",
    "    OUT_DIR:       str = \"./Population/output\"            # Output folder to store processed data\n",
    "    NODATA_SRC:    int = -2147483647                      # NoData value in src data  \n",
    "    NODATA_SET:    int = -999                             # NoData value to fill in processed data\n",
    "    CASE_ID:      str = \"PK_42N\"                          # Case ID to distinguish image stacks\n",
    "    GDAL_INFO:    bool = True"
   ]
  },
  {
   "cell_type": "code",
   "execution_count": 3,
   "metadata": {},
   "outputs": [],
   "source": [
    "@dataclass(frozen=True)\n",
    "class DatasetConfig_Nightlights:\n",
    "    DATA_DIR:     str = \"./Nightlights\"                   \n",
    "    INPUT_TIF:    str = \"./VNL_v22_npp-j01_2022_global_vcmslcfg_c202303062300_median_masked.tif\"     \n",
    "    OUT_DIR:      str = \"./Nightlights/output\"           \n",
    "    NODATA_SRC:   int = -999                        \n",
    "    NODATA_SET:   int = -999                             \n",
    "    CASE_ID:      str = \"PK_42N\"\n",
    "    GDAL_INFO:   bool = True"
   ]
  },
  {
   "cell_type": "code",
   "execution_count": 4,
   "metadata": {},
   "outputs": [],
   "source": [
    "@dataclass(frozen=True)\n",
    "class DatasetConfig_Rainfall:\n",
    "    DATA_DIR:   str   = \"./Rainfall\"                   \n",
    "    INPUT_TIF:  str   = \"./chirps-v2.0.2022_avg.tif\"     \n",
    "    OUT_DIR:    str   = \"./Rainfall/output\"           \n",
    "    NODATA_SRC: float = 3.4028234663852886e+38                   \n",
    "    NODATA_SET: int   = -999                             \n",
    "    CASE_ID:    str   = \"PK_42N\"\n",
    "    GDAL_INFO:   bool = True"
   ]
  },
  {
   "cell_type": "code",
   "execution_count": 5,
   "metadata": {},
   "outputs": [],
   "source": [
    "@dataclass(frozen=True)\n",
    "class DatasetConfig_Flood:\n",
    "    DATA_DIR:   str   = \"./Flood\"                   \n",
    "    INPUT_TIF:  str   = \"./dfo_3696_from_20100727_to_20101115_band5.tif\"     \n",
    "    OUT_DIR:    str   = \"./Flood/output\"           \n",
    "    NODATA_SRC: int   = -999               \n",
    "    NODATA_SET: int   = -999                             \n",
    "    CASE_ID:    str   = \"PK_42N\"\n",
    "    GDAL_INFO:   bool = True"
   ]
  },
  {
   "cell_type": "code",
   "execution_count": 6,
   "metadata": {},
   "outputs": [],
   "source": [
    "@dataclass(frozen=True)\n",
    "class DatasetConfig_Landcover:\n",
    "    DATA_DIR:   str   = \"./Landcover\"                   \n",
    "    INPUT_TIF:  str   = \"./esalc_2020.tif\"     \n",
    "    OUT_DIR:    str   = \"./Landcover/output\"           \n",
    "    NODATA_SRC: int   = -999               \n",
    "    NODATA_SET: int   = -999                             \n",
    "    CASE_ID:    str   = \"PK_42N\"\n",
    "    GDAL_INFO:   bool = True"
   ]
  },
  {
   "cell_type": "markdown",
   "metadata": {},
   "source": [
    "## Configure Data Type Execution Here"
   ]
  },
  {
   "cell_type": "code",
   "execution_count": 7,
   "metadata": {},
   "outputs": [],
   "source": [
    "#-------------------------------------------------------------------\n",
    "# Configure data type here (uncomment one line from the list below)\n",
    "#-------------------------------------------------------------------\n",
    "data_config = DatasetConfig_Population\n",
    "#data_config = DatasetConfig_Nightlights\n",
    "#data_config = DatasetConfig_Rainfall\n",
    "#data_config = DatasetConfig_Flood\n",
    "#data_config = DatasetConfig_Landcover\n",
    "\n",
    "# Full path to input tif.\n",
    "input_tif =  os.path.join(data_config.DATA_DIR, data_config.INPUT_TIF)\n",
    "\n",
    "if not os.path.exists(data_config.OUT_DIR):\n",
    "    os.makedirs(data_config.OUT_DIR)"
   ]
  },
  {
   "cell_type": "markdown",
   "metadata": {},
   "source": [
    "## Comnfigure AOI"
   ]
  },
  {
   "cell_type": "code",
   "execution_count": 8,
   "metadata": {},
   "outputs": [],
   "source": [
    "@dataclass(frozen=True)\n",
    "class AOIConfig:\n",
    "    UTM_ZONE:      str = \"EPSG:32642\"              # Edit for appropriate UTM Zone\n",
    "    RESAMPLE:    float = 400                       # Resample data in UTM x & y (meters)\n",
    "    UTM_BUF_DEG:   int = 1.0                       # Extended buffer in deg longitude beyond UTM zone\n",
    "    LAT_NORTH:   float = 38.0                      # Define max latitude for AOI\n",
    "    LAT_SOUTH:   float = 23.0                      # Define min latitude for AOI\n",
    "\n",
    "aoi_config = AOIConfig"
   ]
  },
  {
   "cell_type": "markdown",
   "metadata": {},
   "source": [
    "##  Information Summary: Source Data"
   ]
  },
  {
   "cell_type": "code",
   "execution_count": 9,
   "metadata": {
    "scrolled": false
   },
   "outputs": [
    {
     "name": "stdout",
     "output_type": "stream",
     "text": [
      "Driver: GTiff/GeoTIFF\n",
      "Files: ./Population/./landscan-global-2022.tif\n",
      "Size is 43200, 21600\n",
      "Coordinate System is:\n",
      "GEOGCRS[\"WGS 84\",\n",
      "    ENSEMBLE[\"World Geodetic System 1984 ensemble\",\n",
      "        MEMBER[\"World Geodetic System 1984 (Transit)\"],\n",
      "        MEMBER[\"World Geodetic System 1984 (G730)\"],\n",
      "        MEMBER[\"World Geodetic System 1984 (G873)\"],\n",
      "        MEMBER[\"World Geodetic System 1984 (G1150)\"],\n",
      "        MEMBER[\"World Geodetic System 1984 (G1674)\"],\n",
      "        MEMBER[\"World Geodetic System 1984 (G1762)\"],\n",
      "        MEMBER[\"World Geodetic System 1984 (G2139)\"],\n",
      "        ELLIPSOID[\"WGS 84\",6378137,298.257223563,\n",
      "            LENGTHUNIT[\"metre\",1]],\n",
      "        ENSEMBLEACCURACY[2.0]],\n",
      "    PRIMEM[\"Greenwich\",0,\n",
      "        ANGLEUNIT[\"degree\",0.0174532925199433]],\n",
      "    CS[ellipsoidal,2],\n",
      "        AXIS[\"geodetic latitude (Lat)\",north,\n",
      "            ORDER[1],\n",
      "            ANGLEUNIT[\"degree\",0.0174532925199433]],\n",
      "        AXIS[\"geodetic longitude (Lon)\",east,\n",
      "            ORDER[2],\n",
      "            ANGLEUNIT[\"degree\",0.0174532925199433]],\n",
      "    USAGE[\n",
      "        SCOPE[\"Horizontal component of 3D system.\"],\n",
      "        AREA[\"World.\"],\n",
      "        BBOX[-90,-180,90,180]],\n",
      "    ID[\"EPSG\",4326]]\n",
      "Data axis to CRS axis mapping: 2,1\n",
      "Origin = (-180.000000000000000,89.999999999999289)\n",
      "Pixel Size = (0.008333333333333,-0.008333333333333)\n",
      "Metadata:\n",
      "  AREA_OR_POINT=Area\n",
      "Image Structure Metadata:\n",
      "  COMPRESSION=DEFLATE\n",
      "  INTERLEAVE=BAND\n",
      "  LAYOUT=COG\n",
      "  PREDICTOR=2\n",
      "Corner Coordinates:\n",
      "Upper Left  (-180.0000000,  90.0000000) (180d 0' 0.00\"W, 90d 0' 0.00\"N)\n",
      "Lower Left  (-180.0000000, -90.0000000) (180d 0' 0.00\"W, 90d 0' 0.00\"S)\n",
      "Upper Right ( 180.0000000,  90.0000000) (180d 0' 0.00\"E, 90d 0' 0.00\"N)\n",
      "Lower Right ( 180.0000000, -90.0000000) (180d 0' 0.00\"E, 90d 0' 0.00\"S)\n",
      "Center      (  -0.0000000,  -0.0000000) (  0d 0' 0.00\"W,  0d 0' 0.00\"S)\n",
      "Band 1 Block=512x512 Type=Int32, ColorInterp=Gray\n",
      "    Computed Min/Max=0.000,175750.000\n",
      "  NoData Value=-2147483647\n",
      "\n"
     ]
    }
   ],
   "source": [
    "if data_config.GDAL_INFO:\n",
    "    run_gdalinfo(input_tif)"
   ]
  },
  {
   "cell_type": "markdown",
   "metadata": {},
   "source": [
    "##  Crop Data to AOI and Repalce NoData Values\n",
    "Crop the source data to the appropriate UTM zone with a buffer in longitude. Adding a buffer is necessary to enable image tiles near the border to be created."
   ]
  },
  {
   "cell_type": "code",
   "execution_count": 10,
   "metadata": {
    "scrolled": true
   },
   "outputs": [
    {
     "name": "stdout",
     "output_type": "stream",
     "text": [
      "Upper Left Lat: 38.0\n",
      "Upper Left Lon: 65.0\n",
      "Lower Right Lat: 23.0\n",
      "Lower Right Lon: 73.0\n"
     ]
    }
   ],
   "source": [
    "utm_west_lon, utm_east_lon = utm_zone_longitude_bounds(aoi_config.UTM_ZONE)\n",
    "\n",
    "# Define AOI to encompass local UTM zone (+/- small buffer). Choose latitude to cover data for region.\n",
    "ul_lat, ul_lon = aoi_config.LAT_NORTH, utm_west_lon - aoi_config.UTM_BUF_DEG\n",
    "lr_lat, lr_lon = aoi_config.LAT_SOUTH, utm_east_lon + aoi_config.UTM_BUF_DEG\n",
    "\n",
    "# Print the results\n",
    "print(f\"Upper Left Lat: {ul_lat}\")\n",
    "print(f\"Upper Left Lon: {ul_lon}\")\n",
    "print(f\"Lower Right Lat: {lr_lat}\")\n",
    "print(f\"Lower Right Lon: {lr_lon}\")"
   ]
  },
  {
   "cell_type": "code",
   "execution_count": 11,
   "metadata": {
    "scrolled": true
   },
   "outputs": [
    {
     "name": "stdout",
     "output_type": "stream",
     "text": [
      "Input  TIF: ./Population/./landscan-global-2022.tif\n",
      "Output TIF: ./Population/output/./landscan-global-2022_PK_42N_1_crop_geo.tif\n",
      "\n",
      "Input file size is 43200, 21600\n",
      "0...10...20...30...40...50...60...70...80...90...100 - done.\n"
     ]
    }
   ],
   "source": [
    " # Construct the output file name based on the input file name.\n",
    "case = \"_\" + data_config.CASE_ID + \"_1_crop_geo.tif\"\n",
    "intermediate_tif = os.path.join(data_config.OUT_DIR, os.path.splitext(data_config.INPUT_TIF)[0] + case)\n",
    "    \n",
    "gdal_crop(input_tif, intermediate_tif, ul_lon, ul_lat, lr_lon, lr_lat, True)"
   ]
  },
  {
   "cell_type": "code",
   "execution_count": 12,
   "metadata": {},
   "outputs": [
    {
     "name": "stdout",
     "output_type": "stream",
     "text": [
      "Input TIF: ./Population/output/./landscan-global-2022_PK_42N_1_crop_geo.tif\n",
      "Final Output TIF: ./Population/output/./landscan-global-2022_PK_42N_2_nodata.tif\n",
      "\n",
      "gdalwarp command: gdalwarp -overwrite -co COMPRESS=DEFLATE -co ZLEVEL=9 ./Population/output/./landscan-global-2022_PK_42N_1_crop_geo.tif ./Population/output/./landscan-global-2022_PK_42N_2_nodata.tif -srcnodata -2147483647 -dstnodata -999\n",
      "\n",
      "Creating output file that is 960P x 1800L.\n",
      "Processing ./Population/output/./landscan-global-2022_PK_42N_1_crop_geo.tif [1/1] : 0...10...20...30...40...50...60...70...80...90...100 - done.\n",
      "Output TIF has been written to: ./Population/output/./landscan-global-2022_PK_42N_2_nodata.tif\n"
     ]
    }
   ],
   "source": [
    "input_tif = intermediate_tif \n",
    "\n",
    "# Construct the output file name based on the input file name.\n",
    "case = \"_\" + data_config.CASE_ID + \"_2_nodata.tif\"\n",
    "intermediate_tif = os.path.join(data_config.OUT_DIR, os.path.splitext(data_config.INPUT_TIF)[0] + case)\n",
    "\n",
    "# Replace nodata values.\n",
    "gdal_replace_nodata(input_tif, intermediate_tif, data_config.NODATA_SET, data_config.NODATA_SRC, True)"
   ]
  },
  {
   "cell_type": "markdown",
   "metadata": {},
   "source": [
    "## Information Summary: Cropped Data"
   ]
  },
  {
   "cell_type": "code",
   "execution_count": 13,
   "metadata": {
    "scrolled": false
   },
   "outputs": [
    {
     "name": "stdout",
     "output_type": "stream",
     "text": [
      "Driver: GTiff/GeoTIFF\n",
      "Files: ./Population/output/./landscan-global-2022_PK_42N_2_nodata.tif\n",
      "Size is 960, 1800\n",
      "Coordinate System is:\n",
      "GEOGCRS[\"WGS 84\",\n",
      "    ENSEMBLE[\"World Geodetic System 1984 ensemble\",\n",
      "        MEMBER[\"World Geodetic System 1984 (Transit)\"],\n",
      "        MEMBER[\"World Geodetic System 1984 (G730)\"],\n",
      "        MEMBER[\"World Geodetic System 1984 (G873)\"],\n",
      "        MEMBER[\"World Geodetic System 1984 (G1150)\"],\n",
      "        MEMBER[\"World Geodetic System 1984 (G1674)\"],\n",
      "        MEMBER[\"World Geodetic System 1984 (G1762)\"],\n",
      "        MEMBER[\"World Geodetic System 1984 (G2139)\"],\n",
      "        ELLIPSOID[\"WGS 84\",6378137,298.257223563,\n",
      "            LENGTHUNIT[\"metre\",1]],\n",
      "        ENSEMBLEACCURACY[2.0]],\n",
      "    PRIMEM[\"Greenwich\",0,\n",
      "        ANGLEUNIT[\"degree\",0.0174532925199433]],\n",
      "    CS[ellipsoidal,2],\n",
      "        AXIS[\"geodetic latitude (Lat)\",north,\n",
      "            ORDER[1],\n",
      "            ANGLEUNIT[\"degree\",0.0174532925199433]],\n",
      "        AXIS[\"geodetic longitude (Lon)\",east,\n",
      "            ORDER[2],\n",
      "            ANGLEUNIT[\"degree\",0.0174532925199433]],\n",
      "    USAGE[\n",
      "        SCOPE[\"Horizontal component of 3D system.\"],\n",
      "        AREA[\"World.\"],\n",
      "        BBOX[-90,-180,90,180]],\n",
      "    ID[\"EPSG\",4326]]\n",
      "Data axis to CRS axis mapping: 2,1\n",
      "Origin = (64.999999999999034,37.999999999999496)\n",
      "Pixel Size = (0.008333333333333,-0.008333333333333)\n",
      "Metadata:\n",
      "  AREA_OR_POINT=Area\n",
      "Image Structure Metadata:\n",
      "  COMPRESSION=DEFLATE\n",
      "  INTERLEAVE=BAND\n",
      "Corner Coordinates:\n",
      "Upper Left  (  65.0000000,  38.0000000) ( 65d 0' 0.00\"E, 38d 0' 0.00\"N)\n",
      "Lower Left  (  65.0000000,  23.0000000) ( 65d 0' 0.00\"E, 23d 0' 0.00\"N)\n",
      "Upper Right (  73.0000000,  38.0000000) ( 73d 0' 0.00\"E, 38d 0' 0.00\"N)\n",
      "Lower Right (  73.0000000,  23.0000000) ( 73d 0' 0.00\"E, 23d 0' 0.00\"N)\n",
      "Center      (  69.0000000,  30.5000000) ( 69d 0' 0.00\"E, 30d30' 0.00\"N)\n",
      "Band 1 Block=960x2 Type=Int32, ColorInterp=Gray\n",
      "    Computed Min/Max=0.000,138368.000\n",
      "  NoData Value=-999\n",
      "\n"
     ]
    }
   ],
   "source": [
    "if data_config.GDAL_INFO:\n",
    "    run_gdalinfo(intermediate_tif)"
   ]
  },
  {
   "cell_type": "markdown",
   "metadata": {},
   "source": [
    "## Transform Geographic Data to UTM\n",
    "\n",
    "Transform the geographic data to a projected CRS (UTM) so that image tiles consist of uniform pixel sizes as measured by their edge extents on the ground."
   ]
  },
  {
   "cell_type": "code",
   "execution_count": 14,
   "metadata": {
    "scrolled": true
   },
   "outputs": [
    {
     "name": "stdout",
     "output_type": "stream",
     "text": [
      "Input  TIF: ./Population/output/./landscan-global-2022_PK_42N_2_nodata.tif\n",
      "Output TIF: ./Population/output/./landscan-global-2022_PK_42N_3_utm.tif\n",
      "\n",
      "Creating output file that is 914P x 1861L.\n",
      "Processing ./Population/output/./landscan-global-2022_PK_42N_2_nodata.tif [1/1] : 0Using internal nodata values (e.g. -999) for image ./Population/output/./landscan-global-2022_PK_42N_2_nodata.tif.\n",
      "Copying nodata values from source ./Population/output/./landscan-global-2022_PK_42N_2_nodata.tif to destination ./Population/output/./landscan-global-2022_PK_42N_3_utm.tif.\n",
      "...10...20...30...40...50...60...70...80...90...100 - done.\n"
     ]
    }
   ],
   "source": [
    "utm_zone = aoi_config.UTM_ZONE \n",
    "\n",
    "input_tif = intermediate_tif \n",
    "\n",
    "case = \"_\" + data_config.CASE_ID + \"_3_utm.tif\"\n",
    "temp = os.path.splitext(data_config.INPUT_TIF)[0] + case\n",
    "\n",
    "intermediate_tif = os.path.join(data_config.OUT_DIR, temp)\n",
    "\n",
    "transform_to_utm(input_tif, intermediate_tif, utm_zone, True)"
   ]
  },
  {
   "cell_type": "markdown",
   "metadata": {},
   "source": [
    "##  Information Summary: Resampled Data"
   ]
  },
  {
   "cell_type": "code",
   "execution_count": 15,
   "metadata": {},
   "outputs": [
    {
     "name": "stdout",
     "output_type": "stream",
     "text": [
      "Driver: GTiff/GeoTIFF\n",
      "Files: ./Population/output/./landscan-global-2022_PK_42N_3_utm.tif\n",
      "Size is 914, 1861\n",
      "Coordinate System is:\n",
      "PROJCRS[\"WGS 84 / UTM zone 42N\",\n",
      "    BASEGEOGCRS[\"WGS 84\",\n",
      "        DATUM[\"World Geodetic System 1984\",\n",
      "            ELLIPSOID[\"WGS 84\",6378137,298.257223563,\n",
      "                LENGTHUNIT[\"metre\",1]]],\n",
      "        PRIMEM[\"Greenwich\",0,\n",
      "            ANGLEUNIT[\"degree\",0.0174532925199433]],\n",
      "        ID[\"EPSG\",4326]],\n",
      "    CONVERSION[\"UTM zone 42N\",\n",
      "        METHOD[\"Transverse Mercator\",\n",
      "            ID[\"EPSG\",9807]],\n",
      "        PARAMETER[\"Latitude of natural origin\",0,\n",
      "            ANGLEUNIT[\"degree\",0.0174532925199433],\n",
      "            ID[\"EPSG\",8801]],\n",
      "        PARAMETER[\"Longitude of natural origin\",69,\n",
      "            ANGLEUNIT[\"degree\",0.0174532925199433],\n",
      "            ID[\"EPSG\",8802]],\n",
      "        PARAMETER[\"Scale factor at natural origin\",0.9996,\n",
      "            SCALEUNIT[\"unity\",1],\n",
      "            ID[\"EPSG\",8805]],\n",
      "        PARAMETER[\"False easting\",500000,\n",
      "            LENGTHUNIT[\"metre\",1],\n",
      "            ID[\"EPSG\",8806]],\n",
      "        PARAMETER[\"False northing\",0,\n",
      "            LENGTHUNIT[\"metre\",1],\n",
      "            ID[\"EPSG\",8807]]],\n",
      "    CS[Cartesian,2],\n",
      "        AXIS[\"(E)\",east,\n",
      "            ORDER[1],\n",
      "            LENGTHUNIT[\"metre\",1]],\n",
      "        AXIS[\"(N)\",north,\n",
      "            ORDER[2],\n",
      "            LENGTHUNIT[\"metre\",1]],\n",
      "    USAGE[\n",
      "        SCOPE[\"Navigation and medium accuracy spatial referencing.\"],\n",
      "        AREA[\"Between 66°E and 72°E, northern hemisphere between equator and 84°N, onshore and offshore. Afghanistan. India. Kazakhstan. Kyrgyzstan. Pakistan. Russian Federation. Tajikistan. Uzbekistan.\"],\n",
      "        BBOX[0,66,84,72]],\n",
      "    ID[\"EPSG\",32642]]\n",
      "Data axis to CRS axis mapping: 1,2\n",
      "Origin = (89840.863013382826466,4213370.735271400772035)\n",
      "Pixel Size = (897.137491973998863,-897.137491973998863)\n",
      "Metadata:\n",
      "  AREA_OR_POINT=Area\n",
      "Image Structure Metadata:\n",
      "  COMPRESSION=DEFLATE\n",
      "  INTERLEAVE=BAND\n",
      "Corner Coordinates:\n",
      "Upper Left  (   89840.863, 4213370.735) ( 64d19'52.22\"E, 37d58'31.10\"N)\n",
      "Lower Left  (   89840.863, 2543797.863) ( 65d 0' 5.09\"E, 22d57' 7.34\"N)\n",
      "Upper Right (  909824.531, 4213370.735) ( 73d39'54.11\"E, 37d58'31.64\"N)\n",
      "Lower Right (  909824.531, 2543797.863) ( 72d59'43.19\"E, 22d57' 7.64\"N)\n",
      "Center      (  499832.697, 3378584.299) ( 68d59'53.72\"E, 30d32'22.70\"N)\n",
      "Band 1 Block=914x2 Type=Int32, ColorInterp=Gray\n",
      "    Computed Min/Max=0.000,138368.000\n",
      "  NoData Value=-999\n",
      "\n"
     ]
    }
   ],
   "source": [
    "if data_config.GDAL_INFO:\n",
    "    run_gdalinfo(intermediate_tif)"
   ]
  },
  {
   "cell_type": "markdown",
   "metadata": {},
   "source": [
    "## Resample Data"
   ]
  },
  {
   "cell_type": "code",
   "execution_count": 16,
   "metadata": {
    "scrolled": true
   },
   "outputs": [
    {
     "name": "stdout",
     "output_type": "stream",
     "text": [
      "Creating output file that is 2050P x 4174L.\n",
      "Processing ./Population/output/./landscan-global-2022_PK_42N_3_utm.tif [1/1] : 0Using internal nodata values (e.g. -999) for image ./Population/output/./landscan-global-2022_PK_42N_3_utm.tif.\n",
      "Copying nodata values from source ./Population/output/./landscan-global-2022_PK_42N_3_utm.tif to destination ./Population/output/./landscan-global-2022_PK_42N_4_resampled.tif.\n",
      "...10...20...30...40...50...60...70...80...90...100 - done.\n"
     ]
    }
   ],
   "source": [
    "# Construct the intermediate output file name\n",
    "input_tif = intermediate_tif \n",
    "\n",
    "# Construct the final output file name\n",
    "case = \"_\" + data_config.CASE_ID + \"_4_resampled.tif\"\n",
    "temp = os.path.splitext(data_config.INPUT_TIF)[0] + case\n",
    "\n",
    "intermediate_tif = os.path.join(data_config.OUT_DIR, temp)\n",
    "\n",
    "# Resample the data\n",
    "gdal_resample(input_tif, intermediate_tif, aoi_config.RESAMPLE, aoi_config.RESAMPLE)"
   ]
  },
  {
   "cell_type": "markdown",
   "metadata": {},
   "source": [
    "##  Information Summary: Resampled Data"
   ]
  },
  {
   "cell_type": "code",
   "execution_count": 17,
   "metadata": {
    "scrolled": false
   },
   "outputs": [
    {
     "name": "stdout",
     "output_type": "stream",
     "text": [
      "Driver: GTiff/GeoTIFF\n",
      "Files: ./Population/output/./landscan-global-2022_PK_42N_4_resampled.tif\n",
      "Size is 2050, 4174\n",
      "Coordinate System is:\n",
      "PROJCRS[\"WGS 84 / UTM zone 42N\",\n",
      "    BASEGEOGCRS[\"WGS 84\",\n",
      "        DATUM[\"World Geodetic System 1984\",\n",
      "            ELLIPSOID[\"WGS 84\",6378137,298.257223563,\n",
      "                LENGTHUNIT[\"metre\",1]]],\n",
      "        PRIMEM[\"Greenwich\",0,\n",
      "            ANGLEUNIT[\"degree\",0.0174532925199433]],\n",
      "        ID[\"EPSG\",4326]],\n",
      "    CONVERSION[\"UTM zone 42N\",\n",
      "        METHOD[\"Transverse Mercator\",\n",
      "            ID[\"EPSG\",9807]],\n",
      "        PARAMETER[\"Latitude of natural origin\",0,\n",
      "            ANGLEUNIT[\"degree\",0.0174532925199433],\n",
      "            ID[\"EPSG\",8801]],\n",
      "        PARAMETER[\"Longitude of natural origin\",69,\n",
      "            ANGLEUNIT[\"degree\",0.0174532925199433],\n",
      "            ID[\"EPSG\",8802]],\n",
      "        PARAMETER[\"Scale factor at natural origin\",0.9996,\n",
      "            SCALEUNIT[\"unity\",1],\n",
      "            ID[\"EPSG\",8805]],\n",
      "        PARAMETER[\"False easting\",500000,\n",
      "            LENGTHUNIT[\"metre\",1],\n",
      "            ID[\"EPSG\",8806]],\n",
      "        PARAMETER[\"False northing\",0,\n",
      "            LENGTHUNIT[\"metre\",1],\n",
      "            ID[\"EPSG\",8807]]],\n",
      "    CS[Cartesian,2],\n",
      "        AXIS[\"(E)\",east,\n",
      "            ORDER[1],\n",
      "            LENGTHUNIT[\"metre\",1]],\n",
      "        AXIS[\"(N)\",north,\n",
      "            ORDER[2],\n",
      "            LENGTHUNIT[\"metre\",1]],\n",
      "    USAGE[\n",
      "        SCOPE[\"Navigation and medium accuracy spatial referencing.\"],\n",
      "        AREA[\"Between 66°E and 72°E, northern hemisphere between equator and 84°N, onshore and offshore. Afghanistan. India. Kazakhstan. Kyrgyzstan. Pakistan. Russian Federation. Tajikistan. Uzbekistan.\"],\n",
      "        BBOX[0,66,84,72]],\n",
      "    ID[\"EPSG\",32642]]\n",
      "Data axis to CRS axis mapping: 1,2\n",
      "Origin = (89840.863013382826466,4213370.735271400772035)\n",
      "Pixel Size = (400.000000000000000,-400.000000000000000)\n",
      "Metadata:\n",
      "  AREA_OR_POINT=Area\n",
      "Image Structure Metadata:\n",
      "  COMPRESSION=DEFLATE\n",
      "  INTERLEAVE=BAND\n",
      "Corner Coordinates:\n",
      "Upper Left  (   89840.863, 4213370.735) ( 64d19'52.22\"E, 37d58'31.10\"N)\n",
      "Lower Left  (   89840.863, 2543770.735) ( 65d 0' 5.12\"E, 22d57' 6.46\"N)\n",
      "Upper Right (  909840.863, 4213370.735) ( 73d39'54.78\"E, 37d58'31.62\"N)\n",
      "Lower Right (  909840.863, 2543770.735) ( 72d59'43.74\"E, 22d57' 6.74\"N)\n",
      "Center      (  499840.863, 3378570.735) ( 68d59'54.03\"E, 30d32'22.26\"N)\n",
      "Band 1 Block=2050x1 Type=Int32, ColorInterp=Gray\n",
      "    Computed Min/Max=0.000,130750.000\n",
      "  NoData Value=-999\n",
      "\n"
     ]
    }
   ],
   "source": [
    "if data_config.GDAL_INFO:\n",
    "    run_gdalinfo(intermediate_tif)"
   ]
  },
  {
   "cell_type": "code",
   "execution_count": null,
   "metadata": {},
   "outputs": [],
   "source": []
  }
 ],
 "metadata": {
  "kernelspec": {
   "display_name": "Python (py39-pt)",
   "language": "python",
   "name": "clone_env"
  },
  "language_info": {
   "codemirror_mode": {
    "name": "ipython",
    "version": 3
   },
   "file_extension": ".py",
   "mimetype": "text/x-python",
   "name": "python",
   "nbconvert_exporter": "python",
   "pygments_lexer": "ipython3",
   "version": "3.9.18"
  }
 },
 "nbformat": 4,
 "nbformat_minor": 4
}
