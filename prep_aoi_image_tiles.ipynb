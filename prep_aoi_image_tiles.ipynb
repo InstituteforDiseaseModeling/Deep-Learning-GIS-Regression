{
 "cells": [
  {
   "cell_type": "markdown",
   "metadata": {},
   "source": [
    "# Create AOI Image Tiles \n",
    "\n",
    "\n",
    "This notebook is used to create image tiles at DHS survaey locations for a given AOI (UTM Zone) using resampled and spatially aligned GeoTiff raster files that were previously created for the specific UTM zone using `prep_geospatial_data.ipynb`. The following processing steps are performed.\n",
    "\n",
    "\n",
    "- 1 Define configurations (required input files, AOI parameters, file naming, etc.) \n",
    "- 2 Extract survey data from the Pakistan DHS shape file (specifically, Cluster IDs and GPS lat, lon)\n",
    "- 3 Load AOI Raster Data\n",
    "- 4 Convert each survey GPS location to the same UTM zone as the AOI image stack\n",
    "- 5 Loop through all GPS locations (in UTM) and identify which points are within the AOI image stack\n",
    "- 6 Crop image tiles from the AOI image stack:\n",
    "    - For each GPS location (in UTM), find the nearest vertex in the image stack\n",
    "    - Use that vertex point as the center of a bounding box for cropping an image tile from the stack for each data type (224 x 224)\n",
    "    - Save each crop as a data sample with an associated file name that clearly identifies the data sample\n",
    "    \n",
    "\n",
    "\n",
    "## Example File System Structure\n",
    "\n",
    "The input GeoTiff files are loacted in `Image_Stack` and the output image tiles for each data type are located in `Image_Tiles.` Virtual Reference Table (VRT) files are also produced in the top level folder for the run case (e.g., `PK_42N`) which allow you to load all the image tiles for a given data type.\n",
    "```\n",
    "        AOI/\n",
    "            PK_42N/  \n",
    "                Image_Stack/\n",
    "                    # Resampled, spatially aligned image stack.\n",
    "                    chirps-v2.0.2022_42N_avg_42N_2022_bilinear_4_resampled.tif\n",
    "                    landscan-global-2022_42N_2022_average_4_resampled.tif\n",
    "                    VNL_v22_npp-j01_2022_global_vcmslcfg_median_42N_2022_median_average_4_resampled.tif\n",
    "            \n",
    "                Image_Tiles/\n",
    "                    Nightlights/\n",
    "                        # Cropped image tiles at each DHS cluster location.\n",
    "                        PK_42N_001_C-001_Rainfall_2023_400m.tif\n",
    "                        PK_42N_002_C-002_Rainfall_2023_400m.tif\n",
    "                        :\n",
    "                        PK_42N_349_C-415_Rainfall_2023_400m.tif\n",
    "                \n",
    "                    Population/\n",
    "            \n",
    "                    Rainfall/\n",
    "```\n",
    "\n",
    "## UTM Zones for Reference\n",
    "\n",
    "```\n",
    "EPSG:32628  28N\t 18°W to 12°W\n",
    "EPSG:32629  29N\t 12°W to 6°W\n",
    "EPSG:32630  30N\t 6°W  to 0°\n",
    "EPSG:32631  31N\t 0°   to 6°E\n",
    "EPSG:32632  32N  6°E  to 12°E\n",
    "EPSG:32633  33N  12°E to 18°E\n",
    "EPSG:32634  34N\t 18°E to 24°E\n",
    "EPSG:32635  35N\t 24°E to 30°E\n",
    "EPSG:32636  36N\t 30°E to 36°E\n",
    "EPSG:32637  37N\t 36°E to 42°E\n",
    "EPSG:32638  38N\t 42°E to 48°E\n",
    "EPSG:32639  39N\t 48°E to 54°E\n",
    "EPSG:32640  40N\t 54°E to 60°E\n",
    "EPSG:32641  41N\t 60°E to 66°E\n",
    "EPSG:32642  42N\t 66°E to 72°E\n",
    "EPSG:32643  43N\t 72°E to 78°E\n",
    "EPSG:32644  44N\t 78°E to 84°E\n",
    "EPSG:32645  45N\t 84°E to 90°E\n",
    "```"
   ]
  },
  {
   "cell_type": "code",
   "execution_count": 1,
   "metadata": {},
   "outputs": [],
   "source": [
    "import os\n",
    "from osgeo import gdal, osr, ogr \n",
    "from dataclasses import dataclass\n",
    "\n",
    "# Import module that contains several convenience functions (e.g., gdal wrappers)\n",
    "from gist_utils import *\n",
    "\n",
    "# Adding path to gdal commands for local system\n",
    "os.environ['PATH'] += ':/Users/billk/miniforge3/envs/py39-pt/bin/' "
   ]
  },
  {
   "cell_type": "markdown",
   "metadata": {},
   "source": [
    "## 1 Configurations\n",
    "\n",
    "The following settings must be specified:\n",
    "```\n",
    "shapefile_path: Path to the DHS country shape file that comntains the survey locations\n",
    "aoi_name:       Country code and UTM zone (e.g., PK_42N)\n",
    "expected_crs:   Corresponding CRS EPSG code for the UTM Zone (e.g., 'EPSG:32642')\n",
    "```"
   ]
  },
  {
   "cell_type": "code",
   "execution_count": 2,
   "metadata": {},
   "outputs": [],
   "source": [
    "# Country level DHS data\n",
    "shapefile_path = './DHS/PK_2017-18_DHS_05072024_2158_211908/PKGE71FL/PKGE71FL.shp'\n",
    "cluster_field  = 'DHSCLUST'\n",
    "lat_field      = 'LATNUM'\n",
    "lon_field      = 'LONGNUM'\n",
    "\n",
    "# Set the aoi name for programmatic file naming below\n",
    "aoi_name = 'PK_42N' \n",
    "\n",
    "# The code further below will check that the input rasters (above) match the expected CRS and pixel size\n",
    "expected_crs         = 'EPSG:32642'  # This should match the CRS in the input rasters\n",
    "expected_pixel_size  = (400, 400)    # This should match the pixel size in the input rasters\n",
    "\n",
    "# Set the resolution for programmatic file naming below\n",
    "res = expected_pixel_size[0]\n",
    "\n",
    "# Build a list of the raster  (produced by: prep_geospatial_data.ipynb)\n",
    "aoi_image_stack_folder = f'./AOI/{aoi_name}/Image_Stack/'\n",
    "\n",
    "# List all files in the image stack\n",
    "aoi_image_stack_paths = [os.path.join(aoi_image_stack_folder, file) for file in os.listdir(aoi_image_stack_folder) if file.endswith('.tif')]\n",
    "\n",
    "# Image tile outputs (folders where image tiles are stored for each data type)\n",
    "image_tile_folders = []\n",
    "image_tile_folders.append(f'./AOI/{aoi_name}/Image_Tiles/Nightlights/')\n",
    "image_tile_folders.append(f'./AOI/{aoi_name}/Image_Tiles/Population/')\n",
    "image_tile_folders.append(f'./AOI/{aoi_name}/Image_Tiles/Rainfall/')\n",
    "\n",
    "image_tile_suffixes = []\n",
    "image_tile_suffixes.append(f'Nightlights_2022_{res}m')\n",
    "image_tile_suffixes.append(f'Population_2022_{res}m')\n",
    "image_tile_suffixes.append(f'Rainfall_2023_{res}m')\n",
    "\n",
    "# VRT filename suffix\n",
    "vrt_file_suffixes = []\n",
    "vrt_file_suffixes.append(f'Nightlights_2022_{res}m')\n",
    "vrt_file_suffixes.append(f'Population_2022_{res}m')\n",
    "vrt_file_suffixes.append(f'Rainfall_2023_{res}m')"
   ]
  },
  {
   "cell_type": "markdown",
   "metadata": {},
   "source": [
    "## 2 Extract Cluster IDs and Associated GPS Coordinates"
   ]
  },
  {
   "cell_type": "code",
   "execution_count": 3,
   "metadata": {},
   "outputs": [
    {
     "name": "stdout",
     "output_type": "stream",
     "text": [
      "(1.0, 36.4499182254, 72.5715578674)\n",
      "(2.0, 35.8919142536, 71.7268731073)\n",
      "(3.0, 35.1695664132, 71.8344582034)\n",
      "(4.0, 35.4247289555, 72.1639311741)\n",
      "(5.0, 35.0056955272, 71.7764776856)\n"
     ]
    }
   ],
   "source": [
    "cluster_data = extract_cluster_info(shapefile_path, cluster_field, lat_field, lon_field)\n",
    "\n",
    "# Print a few records\n",
    "for idx in range(0,5):\n",
    "    print(cluster_data[idx])   "
   ]
  },
  {
   "cell_type": "markdown",
   "metadata": {},
   "source": [
    "## 3 Load AOI Raster Data"
   ]
  },
  {
   "cell_type": "code",
   "execution_count": 4,
   "metadata": {},
   "outputs": [],
   "source": [
    "# Initialize a list to store the results\n",
    "results = []\n",
    "\n",
    "# Loop through each raster path and call the function\n",
    "for path in aoi_image_stack_paths:\n",
    "    \n",
    "    raster, crs_match, pixel_size_match = load_raster(path, expected_crs, expected_pixel_size)\n",
    "    result = {\n",
    "        'path': path,\n",
    "        'raster': raster, \n",
    "        'crs_match': crs_match,\n",
    "        'pixel_size_match': pixel_size_match\n",
    "    }\n",
    "    results.append(result)"
   ]
  },
  {
   "cell_type": "markdown",
   "metadata": {},
   "source": [
    "### Check Image Stack Metadata "
   ]
  },
  {
   "cell_type": "code",
   "execution_count": 5,
   "metadata": {},
   "outputs": [],
   "source": [
    "# Check \n",
    "# !gdalinfo {aoi_image_stack_paths[0]}"
   ]
  },
  {
   "cell_type": "code",
   "execution_count": 6,
   "metadata": {},
   "outputs": [],
   "source": [
    "# # Check \n",
    "# !gdalinfo {aoi_image_stack_paths[1]}"
   ]
  },
  {
   "cell_type": "code",
   "execution_count": 7,
   "metadata": {},
   "outputs": [],
   "source": [
    "# # Check \n",
    "# !gdalinfo {aoi_image_stack_paths[2]}"
   ]
  },
  {
   "cell_type": "markdown",
   "metadata": {},
   "source": [
    "## 4 Convert DHS GPS Locations to UTM"
   ]
  },
  {
   "cell_type": "code",
   "execution_count": 8,
   "metadata": {},
   "outputs": [
    {
     "name": "stdout",
     "output_type": "stream",
     "text": [
      "561\n",
      "(1, 820119.121556883, 4039785.0472224173)\n"
     ]
    }
   ],
   "source": [
    "all_crs_match = all(result['crs_match'] for result in results)\n",
    "\n",
    "if all_crs_match:\n",
    "    utm_coordinates = convert_cluster_coordinates(cluster_data, src_crs='EPSG:4326', dst_crs=expected_crs)\n",
    "    print(len(utm_coordinates))\n",
    "    print(utm_coordinates[0])\n",
    "else:\n",
    "    print(\"*** Error: CRS does not match.\")"
   ]
  },
  {
   "cell_type": "markdown",
   "metadata": {},
   "source": [
    "## 5 Find DHS Points that Fall within the Input Raster Files\n",
    "The input raster files were previously cropped, projected to the same UTM zone, and resampled to the same pixel size. The cropping was extended in longitide to accomodate cropping near the boundaries. So the raster files intentionally extend beyond the longitude boundaries of the UTM zone. \n",
    "\n",
    "When the function below is called to determine which DHS points fall within the boundaries of the raster file, the raster file itself is not used to determine inclusion, but rather the longitude bands for the given UTM zone. "
   ]
  },
  {
   "cell_type": "code",
   "execution_count": 9,
   "metadata": {},
   "outputs": [
    {
     "name": "stdout",
     "output_type": "stream",
     "text": [
      "epsg_code:  EPSG:32642\n",
      "Points w/in bounds: ./AOI/PK_42N/Image_Stack/landscan-global-2022_PK_42N_4_resampled_average.tif: 265\n",
      "\n",
      "epsg_code:  EPSG:32642\n",
      "Points w/in bounds: ./AOI/PK_42N/Image_Stack/chirps-v2.0.2023_PK_42N_avg_PK_42N_4_resampled_average.tif: 265\n",
      "\n",
      "epsg_code:  EPSG:32642\n",
      "Points w/in bounds: ./AOI/PK_42N/Image_Stack/VNL_v22_npp-j01_2022_global_vcmslcfg_median_PK_42N_4_resampled_average.tif: 265\n",
      "\n",
      "All datasets have the same number of points.\n"
     ]
    }
   ],
   "source": [
    "all_pixel_match = all(result['pixel_size_match'] for result in results)\n",
    "\n",
    "if all_pixel_match:\n",
    "    # Collect number of points in each dataset for comparison\n",
    "    number_of_points_per_dataset = []\n",
    "\n",
    "    for result in results:\n",
    "        raster = result['raster']\n",
    "        points_within_raster = find_points_within_raster_zone(raster, utm_coordinates)\n",
    "        \n",
    "        # Store the points within raster into the results dictionary for each raster\n",
    "        result['points_within_raster'] = points_within_raster\n",
    "        number_of_points_per_dataset.append(len(points_within_raster))\n",
    "        print(f\"Points w/in bounds: {result['path']}: {len(points_within_raster)}\\n\")\n",
    "\n",
    "    # Check if all datasets have the same number of points\n",
    "    if len(set(number_of_points_per_dataset)) == 1:\n",
    "        print(\"All datasets have the same number of points.\")\n",
    "    else:\n",
    "        print(\"Warning: Datasets have varying numbers of points. Here are the counts per dataset:\", number_of_points_per_dataset)\n",
    "\n",
    "else:\n",
    "    print(\"Pixel size match does not match for one or more rasters.\")\n"
   ]
  },
  {
   "cell_type": "markdown",
   "metadata": {},
   "source": [
    "## Debug:  `points_within_raster`"
   ]
  },
  {
   "cell_type": "code",
   "execution_count": 10,
   "metadata": {},
   "outputs": [],
   "source": [
    "# for idx, item in enumerate(points_within_raster[:100]):\n",
    "#     x, y = item['point'].coords[0]  # Assuming the point has coords attribute which is a tuple\n",
    "#     lat, lon = utm_to_latlon(x, y)\n",
    "#     if lon > 72.0 or lon < 66.0:\n",
    "#         print(f\"Point: POINT ({x:.3f} {y:.3f}) ({lat:.3f} {lon:.3f}) with Cluster ID: {item['cluster_id']}\")\n",
    "#         x,y = latlon_to_utm(lat,lon)\n",
    "#         print(f\"Point: POINT ({x:.3f} {y:.3f})\")"
   ]
  },
  {
   "cell_type": "code",
   "execution_count": 11,
   "metadata": {},
   "outputs": [],
   "source": [
    "# #----------------\n",
    "# # TEST CASE\n",
    "# #----------------\n",
    "# specific_cluster_id = 101  # The cluster ID you are interested in\n",
    "\n",
    "# # Initialize an empty list to store specific points\n",
    "# specific_points = []\n",
    "\n",
    "# # Loop through each point and check the cluster ID\n",
    "# for item in points_within_raster:\n",
    "#     if item['cluster_id'] == specific_cluster_id:\n",
    "#         specific_points.append(item)\n",
    "#         print(f\"Point: {item['point']} with Cluster ID: {item['cluster_id']}\")"
   ]
  },
  {
   "cell_type": "code",
   "execution_count": 12,
   "metadata": {},
   "outputs": [],
   "source": [
    "# # Use a point that was determined above to be within the AOI.\n",
    "# print(points_within_raster[0])\n",
    "\n",
    "# first_point = points_within_raster[0]  # Get the first point from the list\n",
    "\n",
    "# # Now access its x and y coordinates for use with find_nearest_vertex() below.\n",
    "# x = first_point['point'].x\n",
    "# y = first_point['point'].y"
   ]
  },
  {
   "cell_type": "markdown",
   "metadata": {},
   "source": [
    "## Debug: `find_nearest_vertex`\n",
    "Test find_nearest_vertex() which will be used further below from within crop_raster()"
   ]
  },
  {
   "cell_type": "code",
   "execution_count": 13,
   "metadata": {},
   "outputs": [],
   "source": [
    "# first_point = specific_points[0]  # Get the first point from the list\n",
    "\n",
    "# # Now access its x and y coordinates for use with find_nearest_vertex() below.\n",
    "# x = first_point['point'].x\n",
    "# y = first_point['point'].y"
   ]
  },
  {
   "cell_type": "markdown",
   "metadata": {},
   "source": [
    "### Rasterio Version"
   ]
  },
  {
   "cell_type": "code",
   "execution_count": 14,
   "metadata": {
    "scrolled": true
   },
   "outputs": [],
   "source": [
    "# nearest_vertex = find_nearest_vertex_rasterio(results[0]['raster'], x, y)\n",
    "# print(\"Nearest vertex UTM coordinates:\", nearest_vertex)"
   ]
  },
  {
   "cell_type": "markdown",
   "metadata": {},
   "source": [
    "### GDAL Version"
   ]
  },
  {
   "cell_type": "code",
   "execution_count": 15,
   "metadata": {},
   "outputs": [],
   "source": [
    "# debug = True\n",
    "# rasterio_dataset = results[0]['raster']\n",
    "# if isinstance(rasterio_dataset, rasterio.io.DatasetReader):\n",
    "#     raster_path = rasterio_dataset.name\n",
    "# else:\n",
    "#     raise ValueError(\"The input must be a rasterio dataset.\")\n",
    "\n",
    "# # Open the raster file using GDAL\n",
    "# gdal_raster = gdal.Open(raster_path, gdal.GA_ReadOnly)\n",
    "\n",
    "# nearest_vertex = find_nearest_vertex_gdal(gdal_raster, x, y)\n",
    "# print(\"Nearest vertex UTM coordinates:\", nearest_vertex)"
   ]
  },
  {
   "cell_type": "markdown",
   "metadata": {},
   "source": [
    "## 6 Crop Image Tiles from AOI Image Stack\n",
    "Loop over each data type which is stored in memory as a raster and crop an image tile of the specified size for each of the survey points specified in the `points_within_raster` list. Additionally, build a VRT file which referneces the image tiles for each data type. The VRT facilitates  loading a large number of image tiles in QGIS for visualization purposes."
   ]
  },
  {
   "cell_type": "code",
   "execution_count": 16,
   "metadata": {
    "scrolled": true
   },
   "outputs": [
    {
     "name": "stdout",
     "output_type": "stream",
     "text": [
      "Crops are saved in ./AOI/PK_42N/Image_Tiles/Nightlights/\n",
      "0...10...20...30...40...50...60...70...80...90...100 - done.\n",
      "Crops are saved in ./AOI/PK_42N/Image_Tiles/Population/\n",
      "0...10...20...30...40...50...60...70...80...90...100 - done.\n",
      "Crops are saved in ./AOI/PK_42N/Image_Tiles/Rainfall/\n",
      "0...10...20...30...40...50...60...70...80...90...100 - done.\n"
     ]
    }
   ],
   "source": [
    "# Loop over each result and its corresponding image tile path\n",
    "idx = 0\n",
    "for result, image_tile_folder, image_tile_suffix in zip(results, image_tile_folders, image_tile_suffixes):\n",
    "    \n",
    "    raster = result['raster']\n",
    "    \n",
    "    crop_raster_rasterio(raster, points_within_raster, aoi_name, image_tile_suffix, image_tile_folder, tile_size=224, debug=False)\n",
    "\n",
    "    # Construct the VRT filename\n",
    "    vrt_file = f\"./AOI/{aoi_name}/{aoi_name}_{vrt_file_suffixes[idx]}.vrt\"\n",
    "    \n",
    "    # Build the VRT using the specified tiles in the folder\n",
    "    command = f\"gdalbuildvrt -vrtnodata -999 {vrt_file} {image_tile_folder}/*.tif\"\n",
    "    subprocess.run(command, shell=True, check=True)\n",
    "    \n",
    "    idx += 1 "
   ]
  },
  {
   "cell_type": "code",
   "execution_count": null,
   "metadata": {},
   "outputs": [],
   "source": []
  }
 ],
 "metadata": {
  "kernelspec": {
   "display_name": "Python (py39-pt)",
   "language": "python",
   "name": "clone_env"
  },
  "language_info": {
   "codemirror_mode": {
    "name": "ipython",
    "version": 3
   },
   "file_extension": ".py",
   "mimetype": "text/x-python",
   "name": "python",
   "nbconvert_exporter": "python",
   "pygments_lexer": "ipython3",
   "version": "3.9.18"
  }
 },
 "nbformat": 4,
 "nbformat_minor": 4
}
