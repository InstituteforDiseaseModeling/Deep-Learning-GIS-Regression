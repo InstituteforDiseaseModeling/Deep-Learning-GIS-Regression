{
 "cells": [
  {
   "cell_type": "markdown",
   "metadata": {},
   "source": [
    "# Pre-Preocess Global Rainfall Data \n",
    "\n",
    "The notebook is used to pre-process global rainfall data for specific AOIs. The rainfall data is first cropped to specific AOIs followed by computing a yearly sum and daily average.\n",
    "\n",
    "The source data is available globally [here](https://data.chc.ucsb.edu/products/CHIRPS-2.0/global_monthly/tifs/) as monthly rainfall totals in mm. Also availble [here](https://dataexchange.gatesfoundation.org/dataset/chirps_rainfall_dataset_2022/resource/c9a40f6d-09d3-4b00-894b-8864573b82f8) for 2022.\n",
    "\n",
    "Set the configurations below to define the location of the source data GeoTiff files along with the output folders from the cropped files and the sum and average output files. The specific AOI also needs to be configured which defines the region to crop the data prior to computing the sum and averages.\n",
    "\n",
    "## UTM Zones for Reference\n",
    "\n",
    "```\n",
    "EPSG:32628  28N\t 18°W to 12°W\n",
    "EPSG:32629  29N\t 12°W to 6°W\n",
    "EPSG:32630  30N\t 6°W  to 0°\n",
    "EPSG:32631  31N\t 0°   to 6°E\n",
    "EPSG:32632  32N  6°E  to 12°E\n",
    "EPSG:32633  33N  12°E to 18°E\n",
    "EPSG:32634  34N\t 18°E to 24°E\n",
    "EPSG:32635  35N\t 24°E to 30°E\n",
    "EPSG:32636  36N\t 30°E to 36°E\n",
    "EPSG:32637  37N\t 36°E to 42°E\n",
    "EPSG:32638  38N\t 42°E to 48°E\n",
    "EPSG:32639  39N\t 48°E to 54°E\n",
    "EPSG:32640  40N\t 54°E to 60°E\n",
    "EPSG:32641  41N\t 60°E to 66°E\n",
    "EPSG:32642  42N\t 66°E to 72°E\n",
    "EPSG:32643  43N\t 72°E to 78°E\n",
    "EPSG:32644  44N\t 78°E to 84°E\n",
    "EPSG:32645  45N\t 84°E to 90°E\n",
    "```\n"
   ]
  },
  {
   "cell_type": "code",
   "execution_count": 1,
   "metadata": {
    "scrolled": false
   },
   "outputs": [],
   "source": [
    "import os\n",
    "from dataclasses import dataclass\n",
    "\n",
    "# Import module that contains several convenience functions (e.g., gdal wrappers)\n",
    "from gist_utils import *\n",
    "\n",
    "# Adding path to gdal commands for local system\n",
    "os.environ['PATH'] += ':/Users/billk/miniforge3/envs/py39-pt/bin/' "
   ]
  },
  {
   "cell_type": "markdown",
   "metadata": {},
   "source": [
    "## 1 Set Country Code and UTM Zone\n",
    "\n",
    "The only input settings required in this notebook are the two-letter country code, UTM zone, and the latitude band for the specified UTM zone."
   ]
  },
  {
   "cell_type": "code",
   "execution_count": 2,
   "metadata": {},
   "outputs": [],
   "source": [
    "country_code = 'PK'\n",
    "utm_zone     = '42N'\n",
    "utm_code = get_epsg_code(utm_zone)"
   ]
  },
  {
   "cell_type": "code",
   "execution_count": 3,
   "metadata": {},
   "outputs": [],
   "source": [
    "@dataclass(frozen=True)\n",
    "class AOIConfig:\n",
    "    UTM_CODE:    str\n",
    "    UTM_BUF_DEG: float = 1.0\n",
    "    LAT_NORTH:   float = 38.0    # Specify for the specific AOI (country and UTM zone)\n",
    "    LAT_SOUTH:   float = 23.0    # Specify for the specific AOI (country and UTM zone)\n",
    "        \n",
    "@dataclass(frozen=True)\n",
    "class DatasetConfig:\n",
    "    COUNTRY_CODE:  str\n",
    "    UTM_ZONE:      str\n",
    "    DATA_DIR:      str = './Rainfall/Chirps_2023/'\n",
    "    OUT_DIR_CROP:  str = './Rainfall/Chirps_2023/{country_code}_{utm_zone}/output_crop'  \n",
    "    OUT_DIR:       str = './Rainfall/Chirps_2023/{country_code}_{utm_zone}/output' \n",
    "    OUT_BASE:      str = 'chirps-v2.0.2023'\n",
    "    GDAL_INFO:    bool = False\n",
    "\n",
    "    def get_out_dir_crop(self):\n",
    "        return self.OUT_DIR_CROP.format(country_code=self.COUNTRY_CODE, utm_zone=self.UTM_ZONE)\n",
    "    \n",
    "    def get_out_dir(self):\n",
    "        return self.OUT_DIR.format(country_code=self.COUNTRY_CODE, utm_zone=self.UTM_ZONE)\n",
    "\n",
    "# Instantiate data classes\n",
    "data_config = DatasetConfig(COUNTRY_CODE=country_code, UTM_ZONE=utm_zone)\n",
    "aoi_config  = AOIConfig(UTM_CODE=utm_code)\n",
    "\n",
    "case = country_code + '_' + utm_zone "
   ]
  },
  {
   "cell_type": "code",
   "execution_count": 4,
   "metadata": {},
   "outputs": [
    {
     "name": "stdout",
     "output_type": "stream",
     "text": [
      "./Rainfall/Chirps_2023/PK_42N/output_crop\n",
      "./Rainfall/Chirps_2023/PK_42N/output\n",
      "EPSG:32642\n"
     ]
    }
   ],
   "source": [
    "print(data_config.get_out_dir_crop())\n",
    "print(data_config.get_out_dir())\n",
    "print(aoi_config.UTM_CODE)"
   ]
  },
  {
   "cell_type": "code",
   "execution_count": 5,
   "metadata": {},
   "outputs": [
    {
     "name": "stdout",
     "output_type": "stream",
     "text": [
      "output_sum will be saved here:  ./Rainfall/Chirps_2023/PK_42N/output/chirps-v2.0.2023_PK_42N_sum.tif\n",
      "output_avg will be saved here:  ./Rainfall/Chirps_2023/PK_42N/output/chirps-v2.0.2023_PK_42N_avg.tif\n"
     ]
    }
   ],
   "source": [
    "# Set output filenames\n",
    "output_sum = data_config.get_out_dir() + \"/\" + data_config.OUT_BASE + \"_\" + case + \"_sum.tif\"\n",
    "output_avg = data_config.get_out_dir() + \"/\" + data_config.OUT_BASE + \"_\" + case + \"_avg.tif\"\n",
    "\n",
    "print(\"output_sum will be saved here: \", output_sum)\n",
    "print(\"output_avg will be saved here: \", output_avg)"
   ]
  },
  {
   "cell_type": "code",
   "execution_count": 6,
   "metadata": {},
   "outputs": [],
   "source": [
    "# Create output folders if they do not already exist\n",
    "if not os.path.exists(data_config.get_out_dir_crop()):\n",
    "    os.makedirs(data_config.get_out_dir_crop())\n",
    "    \n",
    "if not os.path.exists(data_config.get_out_dir()):\n",
    "    os.makedirs(data_config.get_out_dir())"
   ]
  },
  {
   "cell_type": "markdown",
   "metadata": {},
   "source": [
    "## 2 Define the Cropped Region\n",
    "The cropped region is defined by the UTM zone specified above and the desired latitude bands that span the region of interest."
   ]
  },
  {
   "cell_type": "code",
   "execution_count": 7,
   "metadata": {
    "scrolled": true
   },
   "outputs": [
    {
     "name": "stdout",
     "output_type": "stream",
     "text": [
      "epsg_code:  EPSG:32642\n",
      "Upper Left Lat: 38.0\n",
      "Upper Left Lon: 65.0\n",
      "Lower Right Lat: 23.0\n",
      "Lower Right Lon: 73.0\n"
     ]
    }
   ],
   "source": [
    "# Define the longitude booundaries for the specified UTM zone\n",
    "utm_west_lon, utm_east_lon = utm_zone_longitude_bounds(aoi_config.UTM_CODE)\n",
    "\n",
    "# Define AOI to encompass local UTM zone (+/- small buffer). Choose latitude to cover data for region\n",
    "ul_lat, ul_lon = aoi_config.LAT_NORTH, utm_west_lon - aoi_config.UTM_BUF_DEG\n",
    "lr_lat, lr_lon = aoi_config.LAT_SOUTH, utm_east_lon + aoi_config.UTM_BUF_DEG\n",
    "\n",
    "# Print the results\n",
    "print(f\"Upper Left Lat: {ul_lat}\")\n",
    "print(f\"Upper Left Lon: {ul_lon}\")\n",
    "print(f\"Lower Right Lat: {lr_lat}\")\n",
    "print(f\"Lower Right Lon: {lr_lon}\")"
   ]
  },
  {
   "cell_type": "markdown",
   "metadata": {},
   "source": [
    "### Confirm Input Files"
   ]
  },
  {
   "cell_type": "code",
   "execution_count": 8,
   "metadata": {},
   "outputs": [
    {
     "name": "stdout",
     "output_type": "stream",
     "text": [
      "chirps-v2.0.2023.01.tif\n",
      "chirps-v2.0.2023.02.tif\n",
      "chirps-v2.0.2023.03.tif\n",
      "chirps-v2.0.2023.04.tif\n",
      "chirps-v2.0.2023.05.tif\n",
      "chirps-v2.0.2023.06.tif\n",
      "chirps-v2.0.2023.07.tif\n",
      "chirps-v2.0.2023.08.tif\n",
      "chirps-v2.0.2023.09.tif\n",
      "chirps-v2.0.2023.10.tif\n",
      "chirps-v2.0.2023.11.tif\n",
      "chirps-v2.0.2023.12.tif\n"
     ]
    }
   ],
   "source": [
    "# Create a list of all files in the directory\n",
    "files_in_directory = os.listdir(data_config.DATA_DIR)\n",
    "\n",
    "# Filter the list to include only TIFF files\n",
    "tiff_files = sorted([file for file in files_in_directory if file.endswith('.tif')])\n",
    "\n",
    "for file in tiff_files:\n",
    "    print(file)"
   ]
  },
  {
   "cell_type": "markdown",
   "metadata": {},
   "source": [
    "## 3 Crop the Source Files "
   ]
  },
  {
   "cell_type": "code",
   "execution_count": 9,
   "metadata": {
    "scrolled": false
   },
   "outputs": [
    {
     "name": "stdout",
     "output_type": "stream",
     "text": [
      "./Rainfall/Chirps_2023/PK_42N/output_crop/chirps-v2.0.2023.01_PK_42N_crop.tif\n",
      "Input file size is 7200, 2000\n",
      "0...10...20...30...40...50...60...70...80...90...100 - done.\n",
      "\n",
      "./Rainfall/Chirps_2023/PK_42N/output_crop/chirps-v2.0.2023.02_PK_42N_crop.tif\n",
      "Input file size is 7200, 2000\n",
      "0...10...20...30...40...50...60...70...80...90...100 - done.\n",
      "\n",
      "./Rainfall/Chirps_2023/PK_42N/output_crop/chirps-v2.0.2023.03_PK_42N_crop.tif\n",
      "Input file size is 7200, 2000\n",
      "0...10...20...30...40...50...60...70...80...90...100 - done.\n",
      "\n",
      "./Rainfall/Chirps_2023/PK_42N/output_crop/chirps-v2.0.2023.04_PK_42N_crop.tif\n",
      "Input file size is 7200, 2000\n",
      "0...10...20...30...40...50...60...70...80...90...100 - done.\n",
      "\n",
      "./Rainfall/Chirps_2023/PK_42N/output_crop/chirps-v2.0.2023.05_PK_42N_crop.tif\n",
      "Input file size is 7200, 2000\n",
      "0...10...20...30...40...50...60...70...80...90...100 - done.\n",
      "\n",
      "./Rainfall/Chirps_2023/PK_42N/output_crop/chirps-v2.0.2023.06_PK_42N_crop.tif\n",
      "Input file size is 7200, 2000\n",
      "0...10...20...30...40...50...60...70...80...90...100 - done.\n",
      "\n",
      "./Rainfall/Chirps_2023/PK_42N/output_crop/chirps-v2.0.2023.07_PK_42N_crop.tif\n",
      "Input file size is 7200, 2000\n",
      "0...10...20...30...40...50...60...70...80...90...100 - done.\n",
      "\n",
      "./Rainfall/Chirps_2023/PK_42N/output_crop/chirps-v2.0.2023.08_PK_42N_crop.tif\n",
      "Input file size is 7200, 2000\n",
      "0...10...20...30...40...50...60...70...80...90...100 - done.\n",
      "\n",
      "./Rainfall/Chirps_2023/PK_42N/output_crop/chirps-v2.0.2023.09_PK_42N_crop.tif\n",
      "Input file size is 7200, 2000\n",
      "0...10...20...30...40...50...60...70...80...90...100 - done.\n",
      "\n",
      "./Rainfall/Chirps_2023/PK_42N/output_crop/chirps-v2.0.2023.10_PK_42N_crop.tif\n",
      "Input file size is 7200, 2000\n",
      "0...10...20...30...40...50...60...70...80...90...100 - done.\n",
      "\n",
      "./Rainfall/Chirps_2023/PK_42N/output_crop/chirps-v2.0.2023.11_PK_42N_crop.tif\n",
      "Input file size is 7200, 2000\n",
      "0...10...20...30...40...50...60...70...80...90...100 - done.\n",
      "\n",
      "./Rainfall/Chirps_2023/PK_42N/output_crop/chirps-v2.0.2023.12_PK_42N_crop.tif\n",
      "Input file size is 7200, 2000\n",
      "0...10...20...30...40...50...60...70...80...90...100 - done.\n",
      "\n"
     ]
    }
   ],
   "source": [
    "# Loop through each TIFF file\n",
    "for file_name in tiff_files:\n",
    "    \n",
    "    input_tif = os.path.join(data_config.DATA_DIR, file_name)\n",
    "    \n",
    "    # Construct the output file name based on the input file name\n",
    "    temp = '_' + case + \"_crop.tif\"\n",
    "    intermediate_tif = os.path.join(data_config.get_out_dir_crop(), os.path.splitext(file_name)[0] + temp)\n",
    "    print(intermediate_tif)\n",
    "    # Crop the data\n",
    "    gdal_crop(input_tif, intermediate_tif, ul_lon, ul_lat, lr_lon, lr_lat, False)"
   ]
  },
  {
   "cell_type": "markdown",
   "metadata": {},
   "source": [
    "### Confirm the Cropped Files"
   ]
  },
  {
   "cell_type": "code",
   "execution_count": 10,
   "metadata": {
    "scrolled": false
   },
   "outputs": [
    {
     "name": "stdout",
     "output_type": "stream",
     "text": [
      "./Rainfall/Chirps_2023/PK_42N/output_crop/chirps-v2.0.2023.03_PK_42N_crop.tif\n",
      "./Rainfall/Chirps_2023/PK_42N/output_crop/chirps-v2.0.2023.12_PK_42N_crop.tif\n",
      "./Rainfall/Chirps_2023/PK_42N/output_crop/chirps-v2.0.2023.04_PK_42N_crop.tif\n",
      "./Rainfall/Chirps_2023/PK_42N/output_crop/chirps-v2.0.2023.05_PK_42N_crop.tif\n",
      "./Rainfall/Chirps_2023/PK_42N/output_crop/chirps-v2.0.2023.02_PK_42N_crop.tif\n",
      "./Rainfall/Chirps_2023/PK_42N/output_crop/chirps-v2.0.2023.11_PK_42N_crop.tif\n",
      "./Rainfall/Chirps_2023/PK_42N/output_crop/chirps-v2.0.2023.08_PK_42N_crop.tif\n",
      "./Rainfall/Chirps_2023/PK_42N/output_crop/chirps-v2.0.2023.07_PK_42N_crop.tif\n",
      "./Rainfall/Chirps_2023/PK_42N/output_crop/chirps-v2.0.2023.01_PK_42N_crop.tif\n",
      "./Rainfall/Chirps_2023/PK_42N/output_crop/chirps-v2.0.2023.10_PK_42N_crop.tif\n",
      "./Rainfall/Chirps_2023/PK_42N/output_crop/chirps-v2.0.2023.09_PK_42N_crop.tif\n",
      "./Rainfall/Chirps_2023/PK_42N/output_crop/chirps-v2.0.2023.06_PK_42N_crop.tif\n"
     ]
    }
   ],
   "source": [
    "# List all the cropped TIFF files\n",
    "cropped_files = [os.path.join(data_config.get_out_dir_crop(), file) for file in os.listdir(data_config.get_out_dir_crop()) if file.endswith('.tif') or file.endswith('.tiff')]\n",
    "\n",
    "for file in cropped_files:\n",
    "    print(file)"
   ]
  },
  {
   "cell_type": "markdown",
   "metadata": {},
   "source": [
    "## 4 Compute the Yearly Sum"
   ]
  },
  {
   "cell_type": "code",
   "execution_count": 11,
   "metadata": {},
   "outputs": [
    {
     "name": "stdout",
     "output_type": "stream",
     "text": [
      "Sum of rasters successfully saved to: ./Rainfall/Chirps_2023/PK_42N/output/chirps-v2.0.2023_PK_42N_sum.tif\n",
      "Output from command:\n",
      "0...10...20...30...40...50...60...70...80...90...100 - done.\n",
      "\n"
     ]
    }
   ],
   "source": [
    "# Compute the yearly sum\n",
    "sum_rasters(cropped_files, output_sum)"
   ]
  },
  {
   "cell_type": "markdown",
   "metadata": {},
   "source": [
    "## 5 Compute the Daily Average"
   ]
  },
  {
   "cell_type": "code",
   "execution_count": 12,
   "metadata": {},
   "outputs": [
    {
     "name": "stdout",
     "output_type": "stream",
     "text": [
      "Average operation successfully saved to: ./Rainfall/Chirps_2023/PK_42N/output/chirps-v2.0.2023_PK_42N_avg.tif\n",
      "Output from command:\n",
      "0...10...20...30...40...50...60...70...80...90...100 - done.\n",
      "\n"
     ]
    }
   ],
   "source": [
    "# Set the input file to the sum computed above\n",
    "input_file = output_sum\n",
    "\n",
    "# Compute the daily average\n",
    "average_raster(input_file, output_avg, divisor=365)"
   ]
  },
  {
   "cell_type": "code",
   "execution_count": null,
   "metadata": {},
   "outputs": [],
   "source": []
  }
 ],
 "metadata": {
  "kernelspec": {
   "display_name": "Python (py39-pt)",
   "language": "python",
   "name": "clone_env"
  },
  "language_info": {
   "codemirror_mode": {
    "name": "ipython",
    "version": 3
   },
   "file_extension": ".py",
   "mimetype": "text/x-python",
   "name": "python",
   "nbconvert_exporter": "python",
   "pygments_lexer": "ipython3",
   "version": "3.9.18"
  }
 },
 "nbformat": 4,
 "nbformat_minor": 4
}
