{
 "cells": [
  {
   "cell_type": "markdown",
   "metadata": {},
   "source": [
    "# Combine Partition Maps\n",
    "\n",
    "This notebook uses the DHS cluster data to partion the clusters into train and validation segments.\n",
    "\n",
    "<pre style=\"font-family: monospace;\">\n",
    "Available AOIs: AM (Armenia)\n",
    "                JO (Jordan) Do not inlcude Jordan in the AOI_LIST\n",
    "                MA (Morocco)\n",
    "                MB (Moldova)\n",
    "                ML (Mali)\n",
    "                MR (Mauritania)\n",
    "                NI (Niger)\n",
    "                PK (Pakistan)\n",
    "                SN (Senegal)\n",
    "                TD (Chad)\n",
    "</pre>\n",
    "## Input\n",
    "<pre style=\"font-family: monospace;\">\n",
    "./GIS-Image-Stack-Processing\n",
    "    /AOI/\n",
    "        Partitions/\n",
    "            PK/\n",
    "                <span style=\"color: blue;\">PK_all.json</span> \n",
    "                <span style=\"color: blue;\">PK_train.json</span> \n",
    "                <span style=\"color: blue;\">PK_valid.json</span> \n",
    "            TD/\n",
    "                <span style=\"color: blue;\">TD_all.json</span> \n",
    "                <span style=\"color: blue;\">TD_train.json</span> \n",
    "                <span style=\"color: blue;\">TD_valid.json</span> \n",
    "</pre>\n",
    "\n",
    "## Output\n",
    "\n",
    "DHS data is used as the basis for creating partition maps for each country based on the location of clusters. \n",
    "\n",
    "<pre style=\"font-family: monospace;\">\n",
    "./GIS-Image-Stack-Processing\n",
    "    /AOI/\n",
    "        Partitions/\n",
    "            <span style=\"color: blue;\">all.json</span> \n",
    "            <span style=\"color: blue;\">train.json</span> \n",
    "            <span style=\"color: blue;\">valid.json</span> \n",
    "            PK/\n",
    "                PK_all.json\n",
    "                PK_train.json\n",
    "                PK_valid.json\n",
    "            TD/\n",
    "                TD_all.json\n",
    "                TD_train.json\n",
    "                TD_valid.json   \n",
    "\n",
    "</pre>"
   ]
  },
  {
   "cell_type": "code",
   "execution_count": 1,
   "metadata": {},
   "outputs": [],
   "source": [
    "import os\n",
    "import sys\n",
    "import json\n",
    "from collections import defaultdict"
   ]
  },
  {
   "cell_type": "code",
   "execution_count": 2,
   "metadata": {},
   "outputs": [],
   "source": [
    "PRT_ROOT = './GIS-Image-Stack-Processing/AOI/Partitions'\n",
    "\n",
    "AOI_LIST = ['AM', 'MA', 'MB', 'ML', 'MR', 'NI', 'PK', 'SN', 'TD']"
   ]
  },
  {
   "cell_type": "markdown",
   "metadata": {},
   "source": [
    "## Combine Partition Maps"
   ]
  },
  {
   "cell_type": "code",
   "execution_count": 3,
   "metadata": {},
   "outputs": [],
   "source": [
    "def count_total_clusters(data):\n",
    "    total_clusters = 0\n",
    "    for aoi, clusters in data.items():\n",
    "        total_clusters += len(clusters)\n",
    "    return total_clusters\n",
    "\n",
    "def combine_partition_maps(directory, subfolders=None):\n",
    "    \n",
    "    # Dictionary to hold combined data: keys are 'train', 'valid', 'all'\n",
    "    combined_partitions = defaultdict(dict)\n",
    "\n",
    "    # If a list of subfolders is provided, use it; otherwise, scan all subfolders\n",
    "    if subfolders is None:\n",
    "        subfolders = os.listdir(directory)\n",
    "\n",
    "    # Traverse each subdirectory within the specified or main directory\n",
    "    for subfolder in subfolders:\n",
    "        \n",
    "        subfolder_path = os.path.join(directory, subfolder)\n",
    "        if os.path.isdir(subfolder_path):  # Ensure it is a directory\n",
    "           \n",
    "            # Scan the subfolder for JSON files\n",
    "            for filename in os.listdir(subfolder_path):\n",
    "                \n",
    "                if filename.endswith('.json') and ('_train.json' in filename or '_valid.json' in filename or '_all.json' in filename):\n",
    "                    partition_type = filename.split('_')[-1].replace('.json', '')  # Extract 'train', 'valid', or 'all'\n",
    "                    country_code = filename.split('_')[0]  # Extract country code like 'PK', 'TD'\n",
    "\n",
    "                    # Load the JSON data from the file\n",
    "                    file_path = os.path.join(subfolder_path, filename)\n",
    "                    with open(file_path, 'r') as file:\n",
    "                        data = json.load(file)\n",
    "                    \n",
    "                    # Add this data to the corresponding part in the combined dictionary\n",
    "                    if country_code in data:\n",
    "                        combined_partitions[partition_type].update(data)\n",
    "\n",
    "    # Write out the combined data to new JSON files and print the total number of clusters\n",
    "    for partition_type, data in combined_partitions.items():\n",
    "        \n",
    "        output_path = os.path.join(directory, f\"{partition_type}.json\")\n",
    "        \n",
    "        # Save the combined data to the output file\n",
    "        with open(output_path, 'w') as file:\n",
    "            json.dump(data, file, indent=4)\n",
    "        \n",
    "        # Count the total number of clusters across all AOIs\n",
    "        total_clusters = count_total_clusters(data)\n",
    "        print(f\"Combined {partition_type} partition map saved to {output_path} with {total_clusters} total clusters across all AOIs\")\n"
   ]
  },
  {
   "cell_type": "code",
   "execution_count": 4,
   "metadata": {},
   "outputs": [
    {
     "name": "stdout",
     "output_type": "stream",
     "text": [
      "Combined train partition map saved to ./GIS-Image-Stack-Processing/AOI/Partitions/train.json with 3395 total clusters across all AOIs\n",
      "Combined all partition map saved to ./GIS-Image-Stack-Processing/AOI/Partitions/all.json with 4163 total clusters across all AOIs\n",
      "Combined valid partition map saved to ./GIS-Image-Stack-Processing/AOI/Partitions/valid.json with 768 total clusters across all AOIs\n"
     ]
    }
   ],
   "source": [
    "combine_partition_maps(PRT_ROOT, AOI_LIST)"
   ]
  },
  {
   "cell_type": "code",
   "execution_count": null,
   "metadata": {},
   "outputs": [],
   "source": []
  }
 ],
 "metadata": {
  "kernelspec": {
   "display_name": "Python (py39-pt-test)",
   "language": "python",
   "name": "py39-pt-test"
  },
  "language_info": {
   "codemirror_mode": {
    "name": "ipython",
    "version": 3
   },
   "file_extension": ".py",
   "mimetype": "text/x-python",
   "name": "python",
   "nbconvert_exporter": "python",
   "pygments_lexer": "ipython3",
   "version": "3.9.20"
  }
 },
 "nbformat": 4,
 "nbformat_minor": 4
}
